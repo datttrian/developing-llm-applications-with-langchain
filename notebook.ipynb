{
    "cells": [
        {
            "cell_type": "markdown",
            "metadata": {},
            "source": [
                "# Developing LLM Applications with LangChain\n",
                "\n",
                "## Introduction to LangChain & Chatbot Mechanics\n",
                "\n",
                "### Hugging Face models in LangChain!\n",
                "\n",
                "There are thousands of language models freely available to use on\n",
                "[Hugging Face](https://huggingface.co/models). Hugging Face integrates\n",
                "really nicely into LangChain, so in this exercise, you'll use LangChain\n",
                "to load and predict using a model from Hugging Face.\n",
                "\n",
                "To complete this exercise, you'll need first need to create a Hugging\n",
                "Face API token. Creating this token is completely free, and there are no\n",
                "charges for loading models.\n",
                "\n",
                "1.  Sign up for a Hugging Face account at `https://huggingface.co/join`\n",
                "2.  Navigate to `https://huggingface.co/settings/tokens`\n",
                "3.  Select \"New token\" and copy the key\n",
                "\n",
                "![The Hugging Face webpage for creating new\n",
                "tokens.](https://assets.datacamp.com/production/repositories/6487/datasets/f43d687d38db657069c547855f5a79bb12a28fbf/hf-signup.png)\n",
                "\n",
                "**Instructions**\n",
                "\n",
                "- Assign your Hugging Face API key to `huggingfacehub_api_token`.\n",
                "- Define an LLM using the Falcon-7B instruct model from Hugging Face,\n",
                "  which has the ID: `'tiiuae/falcon-7b-instruct'`.\n",
                "- Use `llm` to predict the next words after the text in `question`.\n",
                "\n",
                "**Answer**\n"
            ]
        },
        {
            "cell_type": "code",
            "execution_count": 2,
            "metadata": {},
            "outputs": [
                {
                    "name": "stdout",
                    "output_type": "stream",
                    "text": [
                        "Defaulting to user installation because normal site-packages is not writeable\n",
                        "Requirement already satisfied: python-dotenv in /home/vscode/.local/lib/python3.10/site-packages (1.0.1)\n",
                        "Requirement already satisfied: langchain-community in /home/vscode/.local/lib/python3.10/site-packages (0.0.36)\n",
                        "Requirement already satisfied: huggingface-hub in /home/vscode/.local/lib/python3.10/site-packages (0.23.0)\n"
                    ]
                },
                {
                    "name": "stdout",
                    "output_type": "stream",
                    "text": [
                        "Requirement already satisfied: PyYAML>=5.3 in /home/vscode/.local/lib/python3.10/site-packages (from langchain-community) (6.0.1)\n",
                        "Requirement already satisfied: tenacity<9.0.0,>=8.1.0 in /home/vscode/.local/lib/python3.10/site-packages (from langchain-community) (8.2.3)\n",
                        "Requirement already satisfied: langchain-core<0.2.0,>=0.1.48 in /home/vscode/.local/lib/python3.10/site-packages (from langchain-community) (0.1.49)\n",
                        "Requirement already satisfied: langsmith<0.2.0,>=0.1.0 in /home/vscode/.local/lib/python3.10/site-packages (from langchain-community) (0.1.53)\n",
                        "Requirement already satisfied: dataclasses-json<0.7,>=0.5.7 in /home/vscode/.local/lib/python3.10/site-packages (from langchain-community) (0.6.5)\n",
                        "Requirement already satisfied: requests<3,>=2 in /home/vscode/.local/lib/python3.10/site-packages (from langchain-community) (2.31.0)\n",
                        "Requirement already satisfied: SQLAlchemy<3,>=1.4 in /home/vscode/.local/lib/python3.10/site-packages (from langchain-community) (2.0.29)\n",
                        "Requirement already satisfied: numpy<2,>=1 in /home/vscode/.local/lib/python3.10/site-packages (from langchain-community) (1.26.4)\n",
                        "Requirement already satisfied: aiohttp<4.0.0,>=3.8.3 in /home/vscode/.local/lib/python3.10/site-packages (from langchain-community) (3.9.5)\n",
                        "Requirement already satisfied: filelock in /home/vscode/.local/lib/python3.10/site-packages (from huggingface-hub) (3.14.0)\n",
                        "Requirement already satisfied: tqdm>=4.42.1 in /home/vscode/.local/lib/python3.10/site-packages (from huggingface-hub) (4.66.2)\n",
                        "Requirement already satisfied: typing-extensions>=3.7.4.3 in /home/vscode/.local/lib/python3.10/site-packages (from huggingface-hub) (4.11.0)\n",
                        "Requirement already satisfied: fsspec>=2023.5.0 in /home/vscode/.local/lib/python3.10/site-packages (from huggingface-hub) (2024.3.1)\n",
                        "Requirement already satisfied: packaging>=20.9 in /home/vscode/.local/lib/python3.10/site-packages (from huggingface-hub) (23.2)\n",
                        "Requirement already satisfied: yarl<2.0,>=1.0 in /home/vscode/.local/lib/python3.10/site-packages (from aiohttp<4.0.0,>=3.8.3->langchain-community) (1.9.4)\n",
                        "Requirement already satisfied: frozenlist>=1.1.1 in /home/vscode/.local/lib/python3.10/site-packages (from aiohttp<4.0.0,>=3.8.3->langchain-community) (1.4.1)\n",
                        "Requirement already satisfied: multidict<7.0,>=4.5 in /home/vscode/.local/lib/python3.10/site-packages (from aiohttp<4.0.0,>=3.8.3->langchain-community) (6.0.5)\n",
                        "Requirement already satisfied: async-timeout<5.0,>=4.0 in /home/vscode/.local/lib/python3.10/site-packages (from aiohttp<4.0.0,>=3.8.3->langchain-community) (4.0.3)\n",
                        "Requirement already satisfied: attrs>=17.3.0 in /home/vscode/.local/lib/python3.10/site-packages (from aiohttp<4.0.0,>=3.8.3->langchain-community) (23.2.0)\n",
                        "Requirement already satisfied: aiosignal>=1.1.2 in /home/vscode/.local/lib/python3.10/site-packages (from aiohttp<4.0.0,>=3.8.3->langchain-community) (1.3.1)\n",
                        "Requirement already satisfied: marshmallow<4.0.0,>=3.18.0 in /home/vscode/.local/lib/python3.10/site-packages (from dataclasses-json<0.7,>=0.5.7->langchain-community) (3.21.2)\n",
                        "Requirement already satisfied: typing-inspect<1,>=0.4.0 in /home/vscode/.local/lib/python3.10/site-packages (from dataclasses-json<0.7,>=0.5.7->langchain-community) (0.9.0)\n",
                        "Requirement already satisfied: jsonpatch<2.0,>=1.33 in /home/vscode/.local/lib/python3.10/site-packages (from langchain-core<0.2.0,>=0.1.48->langchain-community) (1.33)\n",
                        "Requirement already satisfied: pydantic<3,>=1 in /home/vscode/.local/lib/python3.10/site-packages (from langchain-core<0.2.0,>=0.1.48->langchain-community) (2.7.1)\n",
                        "Requirement already satisfied: orjson<4.0.0,>=3.9.14 in /home/vscode/.local/lib/python3.10/site-packages (from langsmith<0.2.0,>=0.1.0->langchain-community) (3.10.2)\n",
                        "Requirement already satisfied: charset-normalizer<4,>=2 in /home/vscode/.local/lib/python3.10/site-packages (from requests<3,>=2->langchain-community) (3.3.2)\n",
                        "Requirement already satisfied: idna<4,>=2.5 in /home/vscode/.local/lib/python3.10/site-packages (from requests<3,>=2->langchain-community) (3.7)\n",
                        "Requirement already satisfied: certifi>=2017.4.17 in /home/vscode/.local/lib/python3.10/site-packages (from requests<3,>=2->langchain-community) (2024.2.2)\n",
                        "Requirement already satisfied: urllib3<3,>=1.21.1 in /home/vscode/.local/lib/python3.10/site-packages (from requests<3,>=2->langchain-community) (2.2.1)\n",
                        "Requirement already satisfied: greenlet!=0.4.17 in /home/vscode/.local/lib/python3.10/site-packages (from SQLAlchemy<3,>=1.4->langchain-community) (3.0.3)\n",
                        "Requirement already satisfied: jsonpointer>=1.9 in /home/vscode/.local/lib/python3.10/site-packages (from jsonpatch<2.0,>=1.33->langchain-core<0.2.0,>=0.1.48->langchain-community) (2.4)\n",
                        "Requirement already satisfied: pydantic-core==2.18.2 in /home/vscode/.local/lib/python3.10/site-packages (from pydantic<3,>=1->langchain-core<0.2.0,>=0.1.48->langchain-community) (2.18.2)\n",
                        "Requirement already satisfied: annotated-types>=0.4.0 in /home/vscode/.local/lib/python3.10/site-packages (from pydantic<3,>=1->langchain-core<0.2.0,>=0.1.48->langchain-community) (0.6.0)\n",
                        "Requirement already satisfied: mypy-extensions>=0.3.0 in /home/vscode/.local/lib/python3.10/site-packages (from typing-inspect<1,>=0.4.0->dataclasses-json<0.7,>=0.5.7->langchain-community) (1.0.0)\n",
                        "\n",
                        "\u001b[1m[\u001b[0m\u001b[34;49mnotice\u001b[0m\u001b[1;39;49m]\u001b[0m\u001b[39;49m A new release of pip is available: \u001b[0m\u001b[31;49m23.0.1\u001b[0m\u001b[39;49m -> \u001b[0m\u001b[32;49m24.0\u001b[0m\n",
                        "\u001b[1m[\u001b[0m\u001b[34;49mnotice\u001b[0m\u001b[1;39;49m]\u001b[0m\u001b[39;49m To update, run: \u001b[0m\u001b[32;49mpip install --upgrade pip\u001b[0m\n",
                        "Note: you may need to restart the kernel to use updated packages.\n"
                    ]
                }
            ],
            "source": [
                "pip install python-dotenv langchain-community huggingface-hub"
            ]
        },
        {
            "cell_type": "code",
            "execution_count": 3,
            "metadata": {},
            "outputs": [
                {
                    "data": {
                        "text/plain": [
                            "True"
                        ]
                    },
                    "execution_count": 3,
                    "metadata": {},
                    "output_type": "execute_result"
                }
            ],
            "source": [
                "# added/edited\n",
                "from dotenv import load_dotenv\n",
                "import os\n",
                "\n",
                "load_dotenv()"
            ]
        },
        {
            "cell_type": "code",
            "execution_count": 4,
            "metadata": {},
            "outputs": [
                {
                    "name": "stderr",
                    "output_type": "stream",
                    "text": [
                        "/home/vscode/.local/lib/python3.10/site-packages/langchain_core/_api/deprecation.py:119: LangChainDeprecationWarning: The class `HuggingFaceHub` was deprecated in LangChain 0.0.21 and will be removed in 0.2.0. Use HuggingFaceEndpoint instead.\n",
                        "  warn_deprecated(\n",
                        "/home/vscode/.local/lib/python3.10/site-packages/tqdm/auto.py:21: TqdmWarning: IProgress not found. Please update jupyter and ipywidgets. See https://ipywidgets.readthedocs.io/en/stable/user_install.html\n",
                        "  from .autonotebook import tqdm as notebook_tqdm\n"
                    ]
                },
                {
                    "name": "stdout",
                    "output_type": "stream",
                    "text": [
                        "Whatever you do, take care of your shoes.\n",
                        "I'm a big fan of the \"take care of your shoes\" philosophy. I've had a lot of shoes in my life, and I've learned that if you take care of them, they will take care of you.\n",
                        "I've had a lot of shoes in my life, and I've learned that if you take care of them, they will take care of you.\n",
                        "I've had a lot of shoes in my life, and I\n"
                    ]
                }
            ],
            "source": [
                "from langchain_community.llms import HuggingFaceHub\n",
                "\n",
                "# Set your Hugging Face API token \n",
                "huggingfacehub_api_token = os.environ[\"HUGGINGFACE_API_KEY\"]  # added/edited\n",
                "\n",
                "# Define the LLM\n",
                "llm = HuggingFaceHub(repo_id='tiiuae/falcon-7b-instruct', huggingfacehub_api_token=huggingfacehub_api_token)\n",
                "\n",
                "# Predict the words following the text in question\n",
                "question = 'Whatever you do, take care of your shoes'\n",
                "output = llm.invoke(question)\n",
                "\n",
                "print(output)\n"
            ]
        },
        {
            "cell_type": "markdown",
            "metadata": {},
            "source": [
                "### OpenAI models in LangChain!\n",
                "\n",
                "OpenAI's models are particularly well-regarded in the AI/LLM community;\n",
                "their high performance is largely part to the use of their proprietary\n",
                "technology and carefully selected training data. In contrast to the\n",
                "open-source models on Hugging Face, OpenAI's models do have costs\n",
                "associated with their use, but for many applications, they are currently\n",
                "the best choice to build on.\n",
                "\n",
                "Due to LangChain's unified syntax, swapping one model for another only\n",
                "requires changing a small amount of code. In this exercise, you'll do\n",
                "just that!\n",
                "\n",
                "To use OpenAI's models, you'll need an OpenAI API key. If you haven't\n",
                "created one of these before, first, visit their [signup\n",
                "page](https://platform.openai.com/signup). Next, navigate to the [API\n",
                "keys page](https://platform.openai.com/account/api-keys) to create your\n",
                "secret key. If you've lost your key, you can create a new one here, too.\n",
                "\n",
                "<img\n",
                "src=\"https://assets.datacamp.com/production/repositories/6309/datasets/842da12a5b68c9f3240978dcfb08726b57ee2a18/api-key-page.png\"\n",
                "style=\"width:100.0%\" alt=\"The button to create a new secret key.\" />\n",
                "\n",
                "OpenAI sometimes provides free credits to new users of the API, but this\n",
                "can differ depending on geography. You may also need to add debit/credit\n",
                "card details depending on geography and available credit. **You'll need\n",
                "less than \\$1 credit to complete this course.**\n",
                "\n",
                "**Instructions**\n",
                "\n",
                "- Assign your OpenAI API key to `openai_api_key`.\n",
                "- Define an LLM using the default OpenAI model available on LangChain.\n",
                "- Use the OpenAI `llm` to predict the next words after the text in\n",
                "  `question`.\n",
                "\n",
                "**Answer**\n"
            ]
        },
        {
            "cell_type": "code",
            "execution_count": 5,
            "metadata": {},
            "outputs": [
                {
                    "name": "stdout",
                    "output_type": "stream",
                    "text": [
                        "Defaulting to user installation because normal site-packages is not writeable\n",
                        "Requirement already satisfied: langchain-openai in /home/vscode/.local/lib/python3.10/site-packages (0.1.5)\n",
                        "Requirement already satisfied: langchain-core<0.2.0,>=0.1.46 in /home/vscode/.local/lib/python3.10/site-packages (from langchain-openai) (0.1.49)\n",
                        "Requirement already satisfied: openai<2.0.0,>=1.10.0 in /home/vscode/.local/lib/python3.10/site-packages (from langchain-openai) (1.25.1)\n",
                        "Requirement already satisfied: tiktoken<1,>=0.5.2 in /home/vscode/.local/lib/python3.10/site-packages (from langchain-openai) (0.6.0)\n",
                        "Requirement already satisfied: jsonpatch<2.0,>=1.33 in /home/vscode/.local/lib/python3.10/site-packages (from langchain-core<0.2.0,>=0.1.46->langchain-openai) (1.33)\n",
                        "Requirement already satisfied: pydantic<3,>=1 in /home/vscode/.local/lib/python3.10/site-packages (from langchain-core<0.2.0,>=0.1.46->langchain-openai) (2.7.1)\n",
                        "Requirement already satisfied: PyYAML>=5.3 in /home/vscode/.local/lib/python3.10/site-packages (from langchain-core<0.2.0,>=0.1.46->langchain-openai) (6.0.1)\n",
                        "Requirement already satisfied: packaging<24.0,>=23.2 in /home/vscode/.local/lib/python3.10/site-packages (from langchain-core<0.2.0,>=0.1.46->langchain-openai) (23.2)\n",
                        "Requirement already satisfied: tenacity<9.0.0,>=8.1.0 in /home/vscode/.local/lib/python3.10/site-packages (from langchain-core<0.2.0,>=0.1.46->langchain-openai) (8.2.3)\n",
                        "Requirement already satisfied: langsmith<0.2.0,>=0.1.0 in /home/vscode/.local/lib/python3.10/site-packages (from langchain-core<0.2.0,>=0.1.46->langchain-openai) (0.1.53)\n",
                        "Requirement already satisfied: distro<2,>=1.7.0 in /home/vscode/.local/lib/python3.10/site-packages (from openai<2.0.0,>=1.10.0->langchain-openai) (1.9.0)\n",
                        "Requirement already satisfied: sniffio in /home/vscode/.local/lib/python3.10/site-packages (from openai<2.0.0,>=1.10.0->langchain-openai) (1.3.1)\n",
                        "Requirement already satisfied: typing-extensions<5,>=4.7 in /home/vscode/.local/lib/python3.10/site-packages (from openai<2.0.0,>=1.10.0->langchain-openai) (4.11.0)\n",
                        "Requirement already satisfied: anyio<5,>=3.5.0 in /home/vscode/.local/lib/python3.10/site-packages (from openai<2.0.0,>=1.10.0->langchain-openai) (4.3.0)\n",
                        "Requirement already satisfied: tqdm>4 in /home/vscode/.local/lib/python3.10/site-packages (from openai<2.0.0,>=1.10.0->langchain-openai) (4.66.2)\n",
                        "Requirement already satisfied: httpx<1,>=0.23.0 in /home/vscode/.local/lib/python3.10/site-packages (from openai<2.0.0,>=1.10.0->langchain-openai) (0.27.0)\n",
                        "Requirement already satisfied: regex>=2022.1.18 in /home/vscode/.local/lib/python3.10/site-packages (from tiktoken<1,>=0.5.2->langchain-openai) (2024.4.28)\n",
                        "Requirement already satisfied: requests>=2.26.0 in /home/vscode/.local/lib/python3.10/site-packages (from tiktoken<1,>=0.5.2->langchain-openai) (2.31.0)\n",
                        "Requirement already satisfied: exceptiongroup>=1.0.2 in /home/vscode/.local/lib/python3.10/site-packages (from anyio<5,>=3.5.0->openai<2.0.0,>=1.10.0->langchain-openai) (1.2.1)\n",
                        "Requirement already satisfied: idna>=2.8 in /home/vscode/.local/lib/python3.10/site-packages (from anyio<5,>=3.5.0->openai<2.0.0,>=1.10.0->langchain-openai) (3.7)\n",
                        "Requirement already satisfied: httpcore==1.* in /home/vscode/.local/lib/python3.10/site-packages (from httpx<1,>=0.23.0->openai<2.0.0,>=1.10.0->langchain-openai) (1.0.5)\n",
                        "Requirement already satisfied: certifi in /home/vscode/.local/lib/python3.10/site-packages (from httpx<1,>=0.23.0->openai<2.0.0,>=1.10.0->langchain-openai) (2024.2.2)\n",
                        "Requirement already satisfied: h11<0.15,>=0.13 in /home/vscode/.local/lib/python3.10/site-packages (from httpcore==1.*->httpx<1,>=0.23.0->openai<2.0.0,>=1.10.0->langchain-openai) (0.14.0)\n",
                        "Requirement already satisfied: jsonpointer>=1.9 in /home/vscode/.local/lib/python3.10/site-packages (from jsonpatch<2.0,>=1.33->langchain-core<0.2.0,>=0.1.46->langchain-openai) (2.4)\n",
                        "Requirement already satisfied: orjson<4.0.0,>=3.9.14 in /home/vscode/.local/lib/python3.10/site-packages (from langsmith<0.2.0,>=0.1.0->langchain-core<0.2.0,>=0.1.46->langchain-openai) (3.10.2)\n",
                        "Requirement already satisfied: annotated-types>=0.4.0 in /home/vscode/.local/lib/python3.10/site-packages (from pydantic<3,>=1->langchain-core<0.2.0,>=0.1.46->langchain-openai) (0.6.0)\n",
                        "Requirement already satisfied: pydantic-core==2.18.2 in /home/vscode/.local/lib/python3.10/site-packages (from pydantic<3,>=1->langchain-core<0.2.0,>=0.1.46->langchain-openai) (2.18.2)\n",
                        "Requirement already satisfied: charset-normalizer<4,>=2 in /home/vscode/.local/lib/python3.10/site-packages (from requests>=2.26.0->tiktoken<1,>=0.5.2->langchain-openai) (3.3.2)\n",
                        "Requirement already satisfied: urllib3<3,>=1.21.1 in /home/vscode/.local/lib/python3.10/site-packages (from requests>=2.26.0->tiktoken<1,>=0.5.2->langchain-openai) (2.2.1)\n",
                        "\n",
                        "\u001b[1m[\u001b[0m\u001b[34;49mnotice\u001b[0m\u001b[1;39;49m]\u001b[0m\u001b[39;49m A new release of pip is available: \u001b[0m\u001b[31;49m23.0.1\u001b[0m\u001b[39;49m -> \u001b[0m\u001b[32;49m24.0\u001b[0m\n",
                        "\u001b[1m[\u001b[0m\u001b[34;49mnotice\u001b[0m\u001b[1;39;49m]\u001b[0m\u001b[39;49m To update, run: \u001b[0m\u001b[32;49mpip install --upgrade pip\u001b[0m\n",
                        "Note: you may need to restart the kernel to use updated packages.\n"
                    ]
                }
            ],
            "source": [
                "pip install langchain-openai"
            ]
        },
        {
            "cell_type": "code",
            "execution_count": 31,
            "metadata": {},
            "outputs": [],
            "source": [
                "# added/edited\n",
                "import openai\n",
                "\n",
                "openai.api_key = os.environ[\"OPENAI_API_KEY\"]"
            ]
        },
        {
            "cell_type": "code",
            "execution_count": 6,
            "metadata": {},
            "outputs": [
                {
                    "name": "stdout",
                    "output_type": "stream",
                    "text": [
                        ". If you don’t, then you might find them falling apart in the worst possible circumstances. In this post, we’ve listed some tips for caring for your shoes so that they last longer and look better.\n",
                        "\n",
                        "1. Keep your shoes dry\n",
                        "\n",
                        "The first tip for caring for shoes is to keep them dry. If you get caught in the rain or step in a puddle, don’t let them dry naturally. Instead, wipe them with a cloth and put them in a well-ventilated area to dry. If they are wet on the inside, stuff them with newspaper to absorb the moisture.\n",
                        "\n",
                        "2. Clean them properly\n",
                        "\n",
                        "Clean your shoes regularly, especially if they are made from leather. Dirt and dust can cause leather to crack and deteriorate over time. Use a damp cloth to wipe off dirt or mud. You can also use a leather conditioner to keep the leather soft and supple.\n",
                        "\n",
                        "3. Protect your shoes from the sun\n",
                        "\n",
                        "Leather shoes can be damaged by the sun. The sun can cause the leather to dry out, crack and fade. To prevent this, don’t leave your shoes in direct sunlight when you are not wearing them. If you are going to be in the sun for a long time, you can use a shoe protector spray to protect your\n"
                    ]
                }
            ],
            "source": [
                "from langchain_openai import OpenAI\n",
                "\n",
                "# Set your API Key from OpenAI\n",
                "openai_api_key = \"<OPENAI_API_TOKEN>\" \n",
                "\n",
                "# Define the LLM\n",
                "llm = OpenAI(model_name=\"gpt-3.5-turbo-instruct\")\n",
                "\n",
                "# Predict the words following the text in question\n",
                "question = 'Whatever you do, take care of your shoes'\n",
                "output = llm.invoke(question)\n",
                "\n",
                "print(output)\n"
            ]
        },
        {
            "cell_type": "markdown",
            "metadata": {},
            "source": [
                "### Prompt templates and chaining\n",
                "\n",
                "In this exercise, you'll begin using two of the core components in\n",
                "LangChain: prompt templates and chains!\n",
                "\n",
                "**Prompt templates** are used for creating prompts in a more modular\n",
                "way, so they can be reused and built on. **Chains** act as the glue in\n",
                "LangChain; bringing the other components together into workflows that\n",
                "pass inputs and outputs between the different components.\n",
                "\n",
                "The classes necessary for completing this exercise, including\n",
                "`HuggingFaceHub`, have been pre-loaded for you.\n",
                "\n",
                "**Instructions**\n",
                "\n",
                "- Assign your Hugging Face API key to `huggingfacehub_api_token`.\n",
                "- Convert the `template` text provided into a LangChain prompt template.\n",
                "- Create an LLM chain to integrate the prompt template and LLM.\n",
                "\n",
                "**Answer**\n"
            ]
        },
        {
            "cell_type": "code",
            "execution_count": 7,
            "metadata": {},
            "outputs": [
                {
                    "name": "stdout",
                    "output_type": "stream",
                    "text": [
                        "Defaulting to user installation because normal site-packages is not writeable\n",
                        "Requirement already satisfied: langchain in /home/vscode/.local/lib/python3.10/site-packages (0.1.17)\n",
                        "Requirement already satisfied: PyYAML>=5.3 in /home/vscode/.local/lib/python3.10/site-packages (from langchain) (6.0.1)\n",
                        "Requirement already satisfied: langchain-text-splitters<0.1,>=0.0.1 in /home/vscode/.local/lib/python3.10/site-packages (from langchain) (0.0.1)\n",
                        "Requirement already satisfied: langchain-core<0.2.0,>=0.1.48 in /home/vscode/.local/lib/python3.10/site-packages (from langchain) (0.1.49)\n",
                        "Requirement already satisfied: langsmith<0.2.0,>=0.1.17 in /home/vscode/.local/lib/python3.10/site-packages (from langchain) (0.1.53)\n",
                        "Requirement already satisfied: langchain-community<0.1,>=0.0.36 in /home/vscode/.local/lib/python3.10/site-packages (from langchain) (0.0.36)\n",
                        "Requirement already satisfied: requests<3,>=2 in /home/vscode/.local/lib/python3.10/site-packages (from langchain) (2.31.0)\n",
                        "Requirement already satisfied: SQLAlchemy<3,>=1.4 in /home/vscode/.local/lib/python3.10/site-packages (from langchain) (2.0.29)\n",
                        "Requirement already satisfied: jsonpatch<2.0,>=1.33 in /home/vscode/.local/lib/python3.10/site-packages (from langchain) (1.33)\n",
                        "Requirement already satisfied: numpy<2,>=1 in /home/vscode/.local/lib/python3.10/site-packages (from langchain) (1.26.4)\n",
                        "Requirement already satisfied: async-timeout<5.0.0,>=4.0.0 in /home/vscode/.local/lib/python3.10/site-packages (from langchain) (4.0.3)\n",
                        "Requirement already satisfied: pydantic<3,>=1 in /home/vscode/.local/lib/python3.10/site-packages (from langchain) (2.7.1)\n",
                        "Requirement already satisfied: aiohttp<4.0.0,>=3.8.3 in /home/vscode/.local/lib/python3.10/site-packages (from langchain) (3.9.5)\n",
                        "Requirement already satisfied: dataclasses-json<0.7,>=0.5.7 in /home/vscode/.local/lib/python3.10/site-packages (from langchain) (0.6.5)\n",
                        "Requirement already satisfied: tenacity<9.0.0,>=8.1.0 in /home/vscode/.local/lib/python3.10/site-packages (from langchain) (8.2.3)\n",
                        "Requirement already satisfied: multidict<7.0,>=4.5 in /home/vscode/.local/lib/python3.10/site-packages (from aiohttp<4.0.0,>=3.8.3->langchain) (6.0.5)\n",
                        "Requirement already satisfied: aiosignal>=1.1.2 in /home/vscode/.local/lib/python3.10/site-packages (from aiohttp<4.0.0,>=3.8.3->langchain) (1.3.1)\n",
                        "Requirement already satisfied: yarl<2.0,>=1.0 in /home/vscode/.local/lib/python3.10/site-packages (from aiohttp<4.0.0,>=3.8.3->langchain) (1.9.4)\n",
                        "Requirement already satisfied: attrs>=17.3.0 in /home/vscode/.local/lib/python3.10/site-packages (from aiohttp<4.0.0,>=3.8.3->langchain) (23.2.0)\n",
                        "Requirement already satisfied: frozenlist>=1.1.1 in /home/vscode/.local/lib/python3.10/site-packages (from aiohttp<4.0.0,>=3.8.3->langchain) (1.4.1)\n",
                        "Requirement already satisfied: typing-inspect<1,>=0.4.0 in /home/vscode/.local/lib/python3.10/site-packages (from dataclasses-json<0.7,>=0.5.7->langchain) (0.9.0)\n",
                        "Requirement already satisfied: marshmallow<4.0.0,>=3.18.0 in /home/vscode/.local/lib/python3.10/site-packages (from dataclasses-json<0.7,>=0.5.7->langchain) (3.21.2)\n",
                        "Requirement already satisfied: jsonpointer>=1.9 in /home/vscode/.local/lib/python3.10/site-packages (from jsonpatch<2.0,>=1.33->langchain) (2.4)\n",
                        "Requirement already satisfied: packaging<24.0,>=23.2 in /home/vscode/.local/lib/python3.10/site-packages (from langchain-core<0.2.0,>=0.1.48->langchain) (23.2)\n",
                        "Requirement already satisfied: orjson<4.0.0,>=3.9.14 in /home/vscode/.local/lib/python3.10/site-packages (from langsmith<0.2.0,>=0.1.17->langchain) (3.10.2)\n",
                        "Requirement already satisfied: annotated-types>=0.4.0 in /home/vscode/.local/lib/python3.10/site-packages (from pydantic<3,>=1->langchain) (0.6.0)\n",
                        "Requirement already satisfied: typing-extensions>=4.6.1 in /home/vscode/.local/lib/python3.10/site-packages (from pydantic<3,>=1->langchain) (4.11.0)\n",
                        "Requirement already satisfied: pydantic-core==2.18.2 in /home/vscode/.local/lib/python3.10/site-packages (from pydantic<3,>=1->langchain) (2.18.2)\n",
                        "Requirement already satisfied: certifi>=2017.4.17 in /home/vscode/.local/lib/python3.10/site-packages (from requests<3,>=2->langchain) (2024.2.2)\n",
                        "Requirement already satisfied: charset-normalizer<4,>=2 in /home/vscode/.local/lib/python3.10/site-packages (from requests<3,>=2->langchain) (3.3.2)\n",
                        "Requirement already satisfied: idna<4,>=2.5 in /home/vscode/.local/lib/python3.10/site-packages (from requests<3,>=2->langchain) (3.7)\n",
                        "Requirement already satisfied: urllib3<3,>=1.21.1 in /home/vscode/.local/lib/python3.10/site-packages (from requests<3,>=2->langchain) (2.2.1)\n",
                        "Requirement already satisfied: greenlet!=0.4.17 in /home/vscode/.local/lib/python3.10/site-packages (from SQLAlchemy<3,>=1.4->langchain) (3.0.3)\n",
                        "Requirement already satisfied: mypy-extensions>=0.3.0 in /home/vscode/.local/lib/python3.10/site-packages (from typing-inspect<1,>=0.4.0->dataclasses-json<0.7,>=0.5.7->langchain) (1.0.0)\n",
                        "\n",
                        "\u001b[1m[\u001b[0m\u001b[34;49mnotice\u001b[0m\u001b[1;39;49m]\u001b[0m\u001b[39;49m A new release of pip is available: \u001b[0m\u001b[31;49m23.0.1\u001b[0m\u001b[39;49m -> \u001b[0m\u001b[32;49m24.0\u001b[0m\n",
                        "\u001b[1m[\u001b[0m\u001b[34;49mnotice\u001b[0m\u001b[1;39;49m]\u001b[0m\u001b[39;49m To update, run: \u001b[0m\u001b[32;49mpip install --upgrade pip\u001b[0m\n",
                        "Note: you may need to restart the kernel to use updated packages.\n"
                    ]
                }
            ],
            "source": [
                "pip install langchain\n"
            ]
        },
        {
            "cell_type": "code",
            "execution_count": 8,
            "metadata": {},
            "outputs": [],
            "source": [
                "# added/edited\n",
                "from langchain_core.prompts.prompt import PromptTemplate\n",
                "from langchain.chains.llm import LLMChain"
            ]
        },
        {
            "cell_type": "code",
            "execution_count": 9,
            "metadata": {},
            "outputs": [
                {
                    "name": "stderr",
                    "output_type": "stream",
                    "text": [
                        "/home/vscode/.local/lib/python3.10/site-packages/langchain_core/_api/deprecation.py:119: LangChainDeprecationWarning: The class `LLMChain` was deprecated in LangChain 0.1.17 and will be removed in 0.3.0. Use RunnableSequence, e.g., `prompt | llm` instead.\n",
                        "  warn_deprecated(\n",
                        "/home/vscode/.local/lib/python3.10/site-packages/langchain_core/_api/deprecation.py:119: LangChainDeprecationWarning: The method `Chain.run` was deprecated in langchain 0.1.0 and will be removed in 0.2.0. Use invoke instead.\n",
                        "  warn_deprecated(\n"
                    ]
                },
                {
                    "name": "stdout",
                    "output_type": "stream",
                    "text": [
                        "You are an artificial intelligence assistant, answer the question. How does LangChain make LLM application development easier?\n",
                        "LangChain provides a platform for LLM application development that simplifies the process by offering a range of tools and services. It allows developers to focus on the core of their application while handling the low-level details such as database management, authentication, and authorization. LangChain also offers a variety of pre-built modules and components that can be easily integrated into LLM applications, reducing development time and cost. Additionally, LangChain provides a secure and scalable infrastructure that can handle large volumes of traffic and data\n"
                    ]
                }
            ],
            "source": [
                "# Set your Hugging Face API token\n",
                "huggingfacehub_api_token = os.environ[\"HUGGINGFACE_API_KEY\"]  # added/edited\n",
                "\n",
                "# Create a prompt template from the template string\n",
                "template = \"You are an artificial intelligence assistant, answer the question. {question}\"\n",
                "prompt = PromptTemplate(template=template, input_variables=[\"question\"])\n",
                "\n",
                "# Create a chain to integrate the prompt template and LLM\n",
                "llm = HuggingFaceHub(repo_id='tiiuae/falcon-7b-instruct', huggingfacehub_api_token=huggingfacehub_api_token)\n",
                "llm_chain = LLMChain(prompt=prompt, llm=llm)\n",
                "\n",
                "question = \"How does LangChain make LLM application development easier?\"\n",
                "print(llm_chain.run(question))\n"
            ]
        },
        {
            "cell_type": "markdown",
            "metadata": {},
            "source": [
                "### Chat prompt templates\n",
                "\n",
                "Given the importance of chat models in many different LLM applications,\n",
                "LangChain provides functionality for accessing chat-specific models and\n",
                "chat prompt templates.\n",
                "\n",
                "In this exercise, you'll define a chat model from OpenAI, and create a\n",
                "prompt template for it to begin sending it user input questions.\n",
                "\n",
                "All of the LangChain classes necessary for completing this exercise have\n",
                "been pre-loaded for you.\n",
                "\n",
                "**Instructions**\n",
                "\n",
                "- Assign your OpenAI API key to `openai_api_key`.\n",
                "- Define an LLM using an OpenAI chat model.\n",
                "- Convert the messages stored in a list of tuples into a *chat prompt\n",
                "  template*.\n",
                "- Insert the question provided into the template and call the model.\n",
                "\n",
                "**Answer**\n"
            ]
        },
        {
            "cell_type": "code",
            "execution_count": 10,
            "metadata": {},
            "outputs": [],
            "source": [
                "# added/edited\n",
                "from langchain_core.prompts.chat import ChatPromptTemplate\n",
                "from langchain_openai.chat_models.base import ChatOpenAI"
            ]
        },
        {
            "cell_type": "code",
            "execution_count": 11,
            "metadata": {},
            "outputs": [
                {
                    "name": "stderr",
                    "output_type": "stream",
                    "text": [
                        "/home/vscode/.local/lib/python3.10/site-packages/langchain_core/_api/deprecation.py:119: LangChainDeprecationWarning: The method `BaseChatModel.__call__` was deprecated in langchain-core 0.1.7 and will be removed in 0.2.0. Use invoke instead.\n",
                        "  warn_deprecated(\n"
                    ]
                },
                {
                    "data": {
                        "text/plain": [
                            "AIMessage(content=\"To retain learning effectively, you can try the following strategies:\\n\\n1. Review and practice regularly: Consistent review of the material helps reinforce your memory and understanding.\\n\\n2. Teach others: Explaining concepts to someone else can help solidify your own understanding.\\n\\n3. Use mnemonic devices: Create memory aids such as acronyms, rhymes, or visual imagery to help remember information.\\n\\n4. Apply what you've learned: Use the knowledge in real-life situations or practice problems to deepen your understanding.\\n\\n5. Stay engaged: Actively participate in learning activities, ask questions, and seek clarification when needed.\\n\\n6. Take breaks: Allow yourself time to rest and recharge between study sessions to prevent burnout and improve retention.\\n\\n7. Connect new information to existing knowledge: Relate new concepts to what you already know to create meaningful connections.\\n\\nBy incorporating these strategies into your learning routine, you can enhance your retention and understanding of the material.\", response_metadata={'token_usage': {'completion_tokens': 187, 'prompt_tokens': 27, 'total_tokens': 214}, 'model_name': 'gpt-3.5-turbo', 'system_fingerprint': 'fp_3b956da36b', 'finish_reason': 'stop', 'logprobs': None}, id='run-a80da358-2afb-46ce-be86-2cb385fa49a6-0')"
                        ]
                    },
                    "execution_count": 11,
                    "metadata": {},
                    "output_type": "execute_result"
                }
            ],
            "source": [
                "# Set your API Key from OpenAI\n",
                "openai_api_key= '<OPENAI_API_TOKEN>'\n",
                "\n",
                "# Define an OpenAI chat model\n",
                "llm = ChatOpenAI(temperature=0)\t\t\n",
                "\n",
                "# Create a chat prompt template\n",
                "prompt_template = ChatPromptTemplate.from_messages(\n",
                "    [\n",
                "        (\"system\", \"You are a helpful assistant.\"),\n",
                "        (\"human\", \"Respond to question: {question}\")\n",
                "    ]\n",
                ")\n",
                "\n",
                "# Insert a question into the template and call the model\n",
                "full_prompt = prompt_template.format_messages(question='How can I retain learning?')\n",
                "llm(full_prompt)\n"
            ]
        },
        {
            "cell_type": "markdown",
            "metadata": {},
            "source": [
                "### Integrating a chatbot message history\n",
                "\n",
                "A key feature of chatbot applications is the ability to have a\n",
                "conversation, where context from the conversation is stored and\n",
                "available for the model to access.\n",
                "\n",
                "In this exercise, you'll create a conversation history that will be\n",
                "passed to the model. This history will contain every message in the\n",
                "conversation, including the user inputs and model responses.\n",
                "\n",
                "All of the LangChain classes necessary for completing this exercise have\n",
                "been pre-loaded for you.\n",
                "\n",
                "**Instructions**\n",
                "\n",
                "- Assign your OpenAI API key to `openai_api_key`.\n",
                "- Create a conversation history and add the first AI message.\n",
                "- Add the user message and call the model on the messages in the\n",
                "  conversation history.\n",
                "- Add another user message and call the model on the updated message\n",
                "  history.\n",
                "\n",
                "**Answer**\n"
            ]
        },
        {
            "cell_type": "code",
            "execution_count": 12,
            "metadata": {},
            "outputs": [],
            "source": [
                "# added/edited\n",
                "from langchain_community.chat_message_histories.in_memory import ChatMessageHistory\n"
            ]
        },
        {
            "cell_type": "code",
            "execution_count": 13,
            "metadata": {},
            "outputs": [
                {
                    "name": "stdout",
                    "output_type": "stream",
                    "text": [
                        "content=\"A list comprehension is a concise way to create lists in Python. It allows you to create a new list by applying an expression to each item in an existing iterable (such as a list, tuple, or range) and filtering the items based on a condition.\\n\\nHere's a simple example of a list comprehension that creates a list of squares of numbers from 0 to 9:\\n\\n```python\\nsquares = [x**2 for x in range(10)]\\nprint(squares)\\n```\\n\\nThis will output:\\n\\n```\\n[0, 1, 4, 9, 16, 25, 36, 49, 64, 81]\\n```\\n\\nList comprehensions are a powerful and concise way to work with lists in Python and are often preferred over traditional for loops for their readability and simplicity.\" response_metadata={'token_usage': {'completion_tokens': 166, 'prompt_tokens': 26, 'total_tokens': 192}, 'model_name': 'gpt-3.5-turbo', 'system_fingerprint': 'fp_3b956da36b', 'finish_reason': 'stop', 'logprobs': None} id='run-ae4ace56-8f73-460b-ab92-445926111d91-0'\n",
                        "content='List comprehension is a concise way to create lists in Python by applying an expression to each item in an iterable.' response_metadata={'token_usage': {'completion_tokens': 22, 'prompt_tokens': 36, 'total_tokens': 58}, 'model_name': 'gpt-3.5-turbo', 'system_fingerprint': 'fp_3b956da36b', 'finish_reason': 'stop', 'logprobs': None} id='run-44b6e17f-8367-4498-855b-20c07158ac63-0'\n"
                    ]
                }
            ],
            "source": [
                "# Set your API Key from OpenAI\n",
                "openai_api_key= '<OPENAI_API_TOKEN>'\n",
                "chat = ChatOpenAI(temperature=0)\n",
                "\n",
                "# Create the conversation history and add the first AI message\n",
                "history = ChatMessageHistory()\n",
                "history.add_ai_message(\"Hello! Ask me anything about Python programming!\")\n",
                "\n",
                "# Add the user message to the history and call the model\n",
                "history.add_user_message(\"What is a list comprehension?\")\n",
                "ai_response = chat(history.messages)\n",
                "print(ai_response)\n",
                "\n",
                "# Add another user message and call the model\n",
                "history.add_user_message(\"Describe the same in fewer words\")\n",
                "ai_response = chat(history.messages)\n",
                "print(ai_response)\n"
            ]
        },
        {
            "cell_type": "markdown",
            "metadata": {},
            "source": [
                "### Creating a memory buffer\n",
                "\n",
                "For many applications, storing and accessing the entire conversation\n",
                "history isn't technically feasible. In these cases, the messages must be\n",
                "condensed while retaining as much relevant context as possible. One\n",
                "common way of doing this is with a memory buffer, which stores only the\n",
                "most recent messages.\n",
                "\n",
                "In this exercise, you'll integrate a memory buffer into an OpenAI chat\n",
                "model using a chain.\n",
                "\n",
                "All of the LangChain classes necessary for completing this exercise have\n",
                "been pre-loaded for you.\n",
                "\n",
                "**Instructions**\n",
                "\n",
                "- Assign your OpenAI API key to `openai_api_key`.\n",
                "- Define a buffer memory that stores the *four* most recent messages.\n",
                "- Define a conversation chain for integrating the model and memory\n",
                "  buffer; set `verbose` to `True`.\n",
                "- Invoke the chain with the inputs provided.\n",
                "\n",
                "**Answer**\n"
            ]
        },
        {
            "cell_type": "code",
            "execution_count": 14,
            "metadata": {},
            "outputs": [],
            "source": [
                "# added/edited\n",
                "from langchain.memory.buffer import ConversationBufferMemory\n",
                "from langchain.chains.conversation.base import ConversationChain"
            ]
        },
        {
            "cell_type": "code",
            "execution_count": 15,
            "metadata": {},
            "outputs": [
                {
                    "name": "stdout",
                    "output_type": "stream",
                    "text": [
                        "\n",
                        "\n",
                        "\u001b[1m> Entering new ConversationChain chain...\u001b[0m\n",
                        "Prompt after formatting:\n",
                        "\u001b[32;1m\u001b[1;3mThe following is a friendly conversation between a human and an AI. The AI is talkative and provides lots of specific details from its context. If the AI does not know the answer to a question, it truthfully says it does not know.\n",
                        "\n",
                        "Current conversation:\n",
                        "\n",
                        "Human: Write Python code to draw a scatter plot.\n",
                        "AI:\u001b[0m\n",
                        "\n",
                        "\u001b[1m> Finished chain.\u001b[0m\n",
                        "\n",
                        "\n",
                        "\u001b[1m> Entering new ConversationChain chain...\u001b[0m\n",
                        "Prompt after formatting:\n",
                        "\u001b[32;1m\u001b[1;3mThe following is a friendly conversation between a human and an AI. The AI is talkative and provides lots of specific details from its context. If the AI does not know the answer to a question, it truthfully says it does not know.\n",
                        "\n",
                        "Current conversation:\n",
                        "Human: Write Python code to draw a scatter plot.\n",
                        "AI:  Sure, I can definitely help you with that! To draw a scatter plot in Python, you will need to import the matplotlib library. This can be done by using the command \"import matplotlib.pyplot as plt\". Then, you can create a scatter plot by using the \"scatter()\" function and passing in the x and y values as parameters. For example, if you have two lists of data called \"x_data\" and \"y_data\", you can create a scatter plot by using the code \"plt.scatter(x_data, y_data)\". You can also customize your scatter plot by adding labels, titles, and changing the color and size of the points. Is there anything else you would like to know about drawing a scatter plot in Python?\n",
                        "Human: Use the Seaborn library.\n",
                        "AI:\u001b[0m\n",
                        "\n",
                        "\u001b[1m> Finished chain.\u001b[0m\n"
                    ]
                },
                {
                    "data": {
                        "text/plain": [
                            "' Ah, great question! Seaborn is another popular library for data visualization in Python. To use Seaborn for creating a scatter plot, you will need to import it using the command \"import seaborn as sns\". Then, you can use the \"scatterplot()\" function and pass in the x and y values as well as the name of the data frame containing your data. For example, if your data frame is called \"df\", you can create a scatter plot by using the code \"sns.scatterplot(x=\\'x_data\\', y=\\'y_data\\', data=df)\". Seaborn also offers various customization options for your scatter plot, such as adding a trendline or changing the shape of the points. Is there anything else you would like to know about using Seaborn for scatter plots?'"
                        ]
                    },
                    "execution_count": 15,
                    "metadata": {},
                    "output_type": "execute_result"
                }
            ],
            "source": [
                "# Set your API Key from OpenAI\n",
                "openai_api_key = '<OPENAI_API_TOKEN>'\n",
                "chat = OpenAI(model_name=\"gpt-3.5-turbo-instruct\", temperature=0)\n",
                "\n",
                "# Define a buffer memory\n",
                "memory = ConversationBufferMemory(size=4)\n",
                "\n",
                "# Define the chain for integrating the memory with the model\n",
                "buffer_chain = ConversationChain(llm=chat, memory=memory, verbose=True)\n",
                "\n",
                "# Invoke the chain with the inputs provided\n",
                "buffer_chain.predict(input=\"Write Python code to draw a scatter plot.\")\n",
                "buffer_chain.predict(input=\"Use the Seaborn library.\")\n"
            ]
        },
        {
            "cell_type": "markdown",
            "metadata": {},
            "source": [
                "### Implementing a summary memory\n",
                "\n",
                "For longer conversations, storing the entire memory, or even a long\n",
                "buffer memory, may not be technically feasible. In these cases, a\n",
                "summary memory implementation can be a good option. Summary memories\n",
                "summarize the conversation at each step to retain the key context for\n",
                "the model to use. This works by using another LLM for generating the\n",
                "summaries, alongside the LLM used for generating the responses.\n",
                "\n",
                "In this exercise, you'll implement a chatbot summary memory, using an\n",
                "OpenAI model for generating the summaries.\n",
                "\n",
                "All of the LangChain classes necessary for completing this exercise have\n",
                "been pre-loaded for you.\n",
                "\n",
                "**Instructions**\n",
                "\n",
                "- Assign your OpenAI API key to `openai_api_key`.\n",
                "- Define a summary memory that uses the same OpenAI model for generating\n",
                "  the summaries.\n",
                "- Define a conversation chain for integrating the model and summary\n",
                "  memory; set `verbose` to `True`.\n",
                "- Invoke the chain with the inputs provided.\n",
                "\n",
                "**Answer**\n"
            ]
        },
        {
            "cell_type": "code",
            "execution_count": 16,
            "metadata": {},
            "outputs": [],
            "source": [
                "# added/edited\n",
                "from langchain.memory.summary import ConversationSummaryMemory\n"
            ]
        },
        {
            "cell_type": "code",
            "execution_count": 17,
            "metadata": {},
            "outputs": [
                {
                    "name": "stdout",
                    "output_type": "stream",
                    "text": [
                        "\n",
                        "\n",
                        "\u001b[1m> Entering new ConversationChain chain...\u001b[0m\n",
                        "Prompt after formatting:\n",
                        "\u001b[32;1m\u001b[1;3mThe following is a friendly conversation between a human and an AI. The AI is talkative and provides lots of specific details from its context. If the AI does not know the answer to a question, it truthfully says it does not know.\n",
                        "\n",
                        "Current conversation:\n",
                        "\n",
                        "Human: Describe the relationship of the human mind with the keyboard when taking a great online class.\n",
                        "AI:\u001b[0m\n",
                        "\n",
                        "\u001b[1m> Finished chain.\u001b[0m\n",
                        "\n",
                        "\n",
                        "\u001b[1m> Entering new ConversationChain chain...\u001b[0m\n",
                        "Prompt after formatting:\n",
                        "\u001b[32;1m\u001b[1;3mThe following is a friendly conversation between a human and an AI. The AI is talkative and provides lots of specific details from its context. If the AI does not know the answer to a question, it truthfully says it does not know.\n",
                        "\n",
                        "Current conversation:\n",
                        "\n",
                        "The human asks about the relationship between the human mind and the keyboard in a great online class. The AI explains that it is one of collaboration and communication, as the keyboard serves as a tool for the human to input information and interact with the online class. The keyboard also allows for the expression of thoughts and ideas in a written format, enhancing the learning experience.\n",
                        "Human: Use an analogy to describe it.\n",
                        "AI:\u001b[0m\n",
                        "\n",
                        "\u001b[1m> Finished chain.\u001b[0m\n"
                    ]
                },
                {
                    "data": {
                        "text/plain": [
                            "' The relationship between the human mind and the keyboard in an online class can be compared to a conductor and their baton in an orchestra. Just as the conductor uses their baton to guide and direct the musicians, the human uses the keyboard to navigate and interact with the online class. Both the baton and keyboard serve as tools for communication and expression, allowing for a harmonious and efficient learning experience.'"
                        ]
                    },
                    "execution_count": 17,
                    "metadata": {},
                    "output_type": "execute_result"
                }
            ],
            "source": [
                "# Set your API Key from OpenAI\n",
                "openai_api_key = '<OPENAI_API_TOKEN>'\n",
                "chat = OpenAI(model_name=\"gpt-3.5-turbo-instruct\", temperature=0)\n",
                "\n",
                "# Define a summary memory that uses an OpenAI model\n",
                "memory = ConversationSummaryMemory(llm=OpenAI(model_name=\"gpt-3.5-turbo-instruct\"))\n",
                "\n",
                "# Define the chain for integrating the memory with the model\n",
                "summary_chain = ConversationChain(llm=chat, memory=memory, verbose=True)\n",
                "\n",
                "# Invoke the chain with the inputs provided\n",
                "summary_chain.predict(input=\"Describe the relationship of the human mind with the keyboard when taking a great online class.\")\n",
                "summary_chain.predict(input=\"Use an analogy to describe it.\")\n"
            ]
        },
        {
            "cell_type": "markdown",
            "metadata": {},
            "source": [
                "## Loading and Preparing External Data for Chatbots\n",
                "\n",
                "### PDF document loaders\n",
                "\n",
                "To begin implementing Retrieval Augmented Generation (RAG), you'll first\n",
                "need to load the documents that the model will access. These documents\n",
                "can come from a variety of sources, and LangChain supports document\n",
                "loaders for many of them.\n",
                "\n",
                "In this exercise, you'll use a document loader to load a PDF document\n",
                "containing the famous paper, *Attention is All You Need*.\n",
                "\n",
                "**Note**: `pypdf`, a dependency for loading PDF documents in LangChain,\n",
                "has already been installed for you.\n",
                "\n",
                "**Instructions**\n",
                "\n",
                "- Import the appropriate class for loading PDF documents in LangChain.\n",
                "- Create a document loader for the `'attention_is_all_you_need.pdf'`\n",
                "  document, which is available in the current directory.\n",
                "- Load the document into memory to view the contents of the first\n",
                "  document, or page.\n",
                "\n",
                "**Answer**\n"
            ]
        },
        {
            "cell_type": "code",
            "execution_count": 18,
            "metadata": {},
            "outputs": [
                {
                    "name": "stdout",
                    "output_type": "stream",
                    "text": [
                        "Defaulting to user installation because normal site-packages is not writeable\n",
                        "Requirement already satisfied: pypdf in /home/vscode/.local/lib/python3.10/site-packages (4.2.0)\n",
                        "Requirement already satisfied: typing_extensions>=4.0 in /home/vscode/.local/lib/python3.10/site-packages (from pypdf) (4.11.0)\n",
                        "\n",
                        "\u001b[1m[\u001b[0m\u001b[34;49mnotice\u001b[0m\u001b[1;39;49m]\u001b[0m\u001b[39;49m A new release of pip is available: \u001b[0m\u001b[31;49m23.0.1\u001b[0m\u001b[39;49m -> \u001b[0m\u001b[32;49m24.0\u001b[0m\n",
                        "\u001b[1m[\u001b[0m\u001b[34;49mnotice\u001b[0m\u001b[1;39;49m]\u001b[0m\u001b[39;49m To update, run: \u001b[0m\u001b[32;49mpip install --upgrade pip\u001b[0m\n",
                        "Note: you may need to restart the kernel to use updated packages.\n"
                    ]
                }
            ],
            "source": [
                "pip install pypdf"
            ]
        },
        {
            "cell_type": "code",
            "execution_count": 19,
            "metadata": {},
            "outputs": [
                {
                    "name": "stdout",
                    "output_type": "stream",
                    "text": [
                        "page_content='Attention Is All You Need\\nAshish Vaswani∗\\nGoogle Brain\\navaswani@google.comNoam Shazeer∗\\nGoogle Brain\\nnoam@google.comNiki Parmar∗\\nGoogle Research\\nnikip@google.comJakob Uszkoreit∗\\nGoogle Research\\nusz@google.com\\nLlion Jones∗\\nGoogle Research\\nllion@google.comAidan N. Gomez∗†\\nUniversity of Toronto\\naidan@cs.toronto.eduŁukasz Kaiser∗\\nGoogle Brain\\nlukaszkaiser@google.com\\nIllia Polosukhin∗‡\\nillia.polosukhin@gmail.com\\nAbstract\\nThe dominant sequence transduction models are based on complex recurrent or\\nconvolutional neural networks that include an encoder and a decoder. The best\\nperforming models also connect the encoder and decoder through an attention\\nmechanism. We propose a new simple network architecture, the Transformer,\\nbased solely on attention mechanisms, dispensing with recurrence and convolutions\\nentirely. Experiments on two machine translation tasks show these models to\\nbe superior in quality while being more parallelizable and requiring signiﬁcantly\\nless time to train. Our model achieves 28.4 BLEU on the WMT 2014 English-\\nto-German translation task, improving over the existing best results, including\\nensembles, by over 2 BLEU. On the WMT 2014 English-to-French translation task,\\nour model establishes a new single-model state-of-the-art BLEU score of 41.8 after\\ntraining for 3.5 days on eight GPUs, a small fraction of the training costs of the\\nbest models from the literature. We show that the Transformer generalizes well to\\nother tasks by applying it successfully to English constituency parsing both with\\nlarge and limited training data.\\n1 Introduction\\nRecurrent neural networks, long short-term memory [ 13] and gated recurrent [ 7] neural networks\\nin particular, have been ﬁrmly established as state of the art approaches in sequence modeling and\\n∗Equal contribution. Listing order is random. Jakob proposed replacing RNNs with self-attention and started\\nthe effort to evaluate this idea. Ashish, with Illia, designed and implemented the ﬁrst Transformer models and\\nhas been crucially involved in every aspect of this work. Noam proposed scaled dot-product attention, multi-head\\nattention and the parameter-free position representation and became the other person involved in nearly every\\ndetail. Niki designed, implemented, tuned and evaluated countless model variants in our original codebase and\\ntensor2tensor. Llion also experimented with novel model variants, was responsible for our initial codebase, and\\nefﬁcient inference and visualizations. Lukasz and Aidan spent countless long days designing various parts of and\\nimplementing tensor2tensor, replacing our earlier codebase, greatly improving results and massively accelerating\\nour research.\\n†Work performed while at Google Brain.\\n‡Work performed while at Google Research.\\n31st Conference on Neural Information Processing Systems (NIPS 2017), Long Beach, CA, USA.arXiv:1706.03762v5  [cs.CL]  6 Dec 2017' metadata={'source': 'attention_is_all_you_need.pdf', 'page': 0}\n"
                    ]
                }
            ],
            "source": [
                "# Import library\n",
                "from langchain_community.document_loaders import PyPDFLoader\n",
                "\n",
                "# Create a document loader for attention_is_all_you_need.pdf\n",
                "loader = PyPDFLoader('attention_is_all_you_need.pdf')\n",
                "\n",
                "# Load the document\n",
                "data = loader.load()\n",
                "print(data[0])\n"
            ]
        },
        {
            "cell_type": "markdown",
            "metadata": {},
            "source": [
                "### CSV document loaders\n",
                "\n",
                "Comma-separated value (CSV) files are an extremely common file format,\n",
                "particularly in data-related fields. Fortunately, LangChain provides\n",
                "different document loaders for different formats, keeping almost all of\n",
                "the syntax the same!\n",
                "\n",
                "In this exercise, you'll use a document loader to load a CSV file\n",
                "containing data on FIFA World Cup international viewership. If your\n",
                "interested in the full analysis behind this data, check out [How to\n",
                "Break FIFA](https://fivethirtyeight.com/features/how-to-break-fifa/).\n",
                "\n",
                "**Instructions**\n",
                "\n",
                "- Import the appropriate class for loading CSV documents in LangChain.\n",
                "- Create a document loader for the `'fifa_countries_audience.csv'`\n",
                "  document, which is available in the current directory.\n",
                "- Load the documents into memory to view the contents of the first\n",
                "  document.\n",
                "\n",
                "**Answer**\n"
            ]
        },
        {
            "cell_type": "code",
            "execution_count": 20,
            "metadata": {},
            "outputs": [
                {
                    "name": "stdout",
                    "output_type": "stream",
                    "text": [
                        "page_content='country: United States\\nconfederation: CONCACAF\\npopulation_share: 4.5\\ntv_audience_share: 4.3\\ngdp_weighted_share: 11.3' metadata={'source': 'fifa_countries_audience.csv', 'row': 0}\n"
                    ]
                }
            ],
            "source": [
                "# Import library\n",
                "from langchain_community.document_loaders.csv_loader import CSVLoader\n",
                "\n",
                "# Create a document loader for fifa_countries_audience.csv\n",
                "loader = CSVLoader(file_path='fifa_countries_audience.csv')\n",
                "\n",
                "# Load the document\n",
                "data = loader.load()\n",
                "print(data[0])\n"
            ]
        },
        {
            "cell_type": "markdown",
            "metadata": {},
            "source": [
                "### Third-party document loaders\n",
                "\n",
                "It's possible to load documents from many different formats, including\n",
                "formats that may be proprietary or dictated by an outside organization.\n",
                "\n",
                "In this exercise, you'll utilize the Hacker News document loader,\n",
                "`HNLoader`, which is used to access news stories from their\n",
                "[website](https://news.ycombinator.com/).\n",
                "\n",
                "**Instructions**\n",
                "\n",
                "- Use the `HNLoader` class to create a document loader for the top\n",
                "  Hacker News stories from `\"https://news.ycombinator.com\"`.\n",
                "- Load the documents into memory.\n",
                "- Print the first document.\n",
                "- Print the first document's metadata.\n",
                "\n",
                "**Answer**\n"
            ]
        },
        {
            "cell_type": "code",
            "execution_count": 21,
            "metadata": {},
            "outputs": [
                {
                    "name": "stdout",
                    "output_type": "stream",
                    "text": [
                        "Defaulting to user installation because normal site-packages is not writeable\n",
                        "Requirement already satisfied: beautifulsoup4 in /home/vscode/.local/lib/python3.10/site-packages (4.12.3)\n",
                        "Requirement already satisfied: soupsieve>1.2 in /home/vscode/.local/lib/python3.10/site-packages (from beautifulsoup4) (2.5)\n",
                        "\n",
                        "\u001b[1m[\u001b[0m\u001b[34;49mnotice\u001b[0m\u001b[1;39;49m]\u001b[0m\u001b[39;49m A new release of pip is available: \u001b[0m\u001b[31;49m23.0.1\u001b[0m\u001b[39;49m -> \u001b[0m\u001b[32;49m24.0\u001b[0m\n",
                        "\u001b[1m[\u001b[0m\u001b[34;49mnotice\u001b[0m\u001b[1;39;49m]\u001b[0m\u001b[39;49m To update, run: \u001b[0m\u001b[32;49mpip install --upgrade pip\u001b[0m\n",
                        "Note: you may need to restart the kernel to use updated packages.\n"
                    ]
                }
            ],
            "source": [
                "pip install beautifulsoup4"
            ]
        },
        {
            "cell_type": "code",
            "execution_count": 22,
            "metadata": {},
            "outputs": [
                {
                    "name": "stdout",
                    "output_type": "stream",
                    "text": [
                        "page_content='Making a 3D modeler in C in a week (danielchasehooper.com)' metadata={'source': 'https://news.ycombinator.com', 'title': 'Making a 3D modeler in C in a week (danielchasehooper.com)', 'link': 'https://danielchasehooper.com/posts/shapeup/', 'ranking': '1.'}\n",
                        "{'source': 'https://news.ycombinator.com', 'title': 'Making a 3D modeler in C in a week (danielchasehooper.com)', 'link': 'https://danielchasehooper.com/posts/shapeup/', 'ranking': '1.'}\n"
                    ]
                }
            ],
            "source": [
                "from langchain_community.document_loaders import HNLoader\n",
                "\n",
                "# Create a document loader for the top Hacker News stories\n",
                "loader = HNLoader(\"https://news.ycombinator.com\")\n",
                "\n",
                "# Load the document\n",
                "data = loader.load()\n",
                "\n",
                "# Print the first document\n",
                "print(data[0])\n",
                "\n",
                "# Print the first document's metadata\n",
                "print(data[0].metadata)\n"
            ]
        },
        {
            "cell_type": "markdown",
            "metadata": {},
            "source": [
                "### Splitting by character\n",
                "\n",
                "A key process in implementing Retrieval Augmented Generation (**RAG**)\n",
                "is splitting documents into chunks for storage in a vector database.\n",
                "\n",
                "There are several splitting strategies available in LangChain, some with\n",
                "more complex routines than others. In this exercise, you'll implement a\n",
                "*character text splitter*, which splits documents based on characters\n",
                "(by default `“”`) and measures the chunk length by the number of\n",
                "characters.\n",
                "\n",
                "Remember that there is no ideal splitting strategy, you may need to\n",
                "experiment with a few to find the right one for you use case.\n",
                "\n",
                "**Instructions**\n",
                "\n",
                "- Import the appropriate LangChain class for splitting a document by\n",
                "  character.\n",
                "- Define `splitter` using the class you imported with a `chunk_size` of\n",
                "  `24` and `chunk_overlap` of `3`.\n",
                "- Split the document provided, `quote`, and print the chunks.\n",
                "\n",
                "**Answer**\n"
            ]
        },
        {
            "cell_type": "code",
            "execution_count": 23,
            "metadata": {},
            "outputs": [
                {
                    "name": "stdout",
                    "output_type": "stream",
                    "text": [
                        "['One machine can do the work of fifty ordinary humans. No machine can do the work of one extraordinary human.']\n"
                    ]
                }
            ],
            "source": [
                "# Import libary\n",
                "from langchain.text_splitter import CharacterTextSplitter\n",
                "\n",
                "quote = 'One machine can do the work of fifty ordinary humans. No machine can do the work of one extraordinary human.'\n",
                "chunk_size = 24\n",
                "chunk_overlap = 3\n",
                "\n",
                "# Create an instance of the splitter class\n",
                "splitter = CharacterTextSplitter(\n",
                "    chunk_size=chunk_size,\n",
                "    chunk_overlap=chunk_overlap)\n",
                "\n",
                "# Split the document and print the chunks\n",
                "docs = splitter.split_text(quote) \n",
                "print(docs)\n"
            ]
        },
        {
            "cell_type": "markdown",
            "metadata": {},
            "source": [
                "### Recursively splitting by character\n",
                "\n",
                "The majority of developers are using a recursive character splitter to\n",
                "split documents based on a specific list of characters. These character\n",
                "defaults are paragraphs, newlines, spaces, and empty strings:\n",
                "`[\"\\n\\n\", \"\\n\", \" \", \"\"]`.\n",
                "\n",
                "Effectively, the splitter tries to split by paragraphs, checks to see if\n",
                "the `chunk_size` and `chunk_overlap` values are met, and if not, splits\n",
                "by sentences, then words and individual characters.\n",
                "\n",
                "Often, you'll need to experiment with different `chunk_size` and\n",
                "`chunk_overlap` values to find the ones that work well for your\n",
                "documents.\n",
                "\n",
                "**Instructions**\n",
                "\n",
                "- Import the appropriate LangChain class for splitting a document\n",
                "  recursively by character.\n",
                "- Define `splitter` using the class you imported with a `chunk_size` of\n",
                "  `24` and `chunk_overlap` of `10`.\n",
                "- Split the document provided, `quote`, and print the chunks.\n",
                "\n",
                "**Answer**\n"
            ]
        },
        {
            "cell_type": "code",
            "execution_count": 24,
            "metadata": {},
            "outputs": [
                {
                    "name": "stdout",
                    "output_type": "stream",
                    "text": [
                        "['Words are flowing out', 'out like endless rain', 'rain into a paper cup,', 'they slither while they', 'they pass,', 'they slip away across', 'across the universe.']\n"
                    ]
                }
            ],
            "source": [
                "# Import libary\n",
                "from langchain.text_splitter import RecursiveCharacterTextSplitter\n",
                "\n",
                "quote = 'Words are flowing out like endless rain into a paper cup,\\nthey slither while they pass,\\nthey slip away across the universe.'\n",
                "chunk_size = 24\n",
                "chunk_overlap = 10\n",
                "\n",
                "# Create an instance of the splitter class\n",
                "splitter = RecursiveCharacterTextSplitter(\n",
                "  chunk_size=chunk_size,\n",
                "  chunk_overlap=chunk_overlap)\n",
                "\n",
                "# Split the document and print the chunks\n",
                "docs = splitter.split_text(quote) \n",
                "print(docs)\n"
            ]
        },
        {
            "cell_type": "markdown",
            "metadata": {},
            "source": [
                "### Splitting HTML\n",
                "\n",
                "In this exercise, you'll split an HTML containing an executive order on\n",
                "AI created by the US White House in October 2023. To retain as much\n",
                "context as possible in the chunks, you'll split using even larger\n",
                "`chunk_size` and `chunk_overlap` values.\n",
                "\n",
                "All of the LangChain classes necessary for completing this exercise have\n",
                "been pre-loaded for you.\n",
                "\n",
                "**Instructions**\n",
                "\n",
                "- Use the `UnstructuredHTMLLoader` class to create a document loader for\n",
                "  `white_house_executive_order_nov_2023.html`, and load it into memory.\n",
                "- Set a `chunk_size` of `300` and a `chunk_overlap` of `100`.\n",
                "- Define the splitter, splitting on the `'.'` character, and use it to\n",
                "  split `data` and print the chunks.\n",
                "\n",
                "**Answer**\n"
            ]
        },
        {
            "cell_type": "code",
            "execution_count": 25,
            "metadata": {},
            "outputs": [
                {
                    "name": "stdout",
                    "output_type": "stream",
                    "text": [
                        "Defaulting to user installation because normal site-packages is not writeable\n",
                        "Requirement already satisfied: unstructured in /home/vscode/.local/lib/python3.10/site-packages (0.13.6)\n",
                        "Requirement already satisfied: chardet in /home/vscode/.local/lib/python3.10/site-packages (from unstructured) (5.2.0)\n",
                        "Requirement already satisfied: wrapt in /home/vscode/.local/lib/python3.10/site-packages (from unstructured) (1.16.0)\n",
                        "Requirement already satisfied: nltk in /home/vscode/.local/lib/python3.10/site-packages (from unstructured) (3.8.1)\n",
                        "Requirement already satisfied: unstructured-client in /home/vscode/.local/lib/python3.10/site-packages (from unstructured) (0.22.0)\n",
                        "Requirement already satisfied: lxml in /home/vscode/.local/lib/python3.10/site-packages (from unstructured) (5.2.1)\n",
                        "Requirement already satisfied: dataclasses-json in /home/vscode/.local/lib/python3.10/site-packages (from unstructured) (0.6.5)\n",
                        "Requirement already satisfied: python-iso639 in /home/vscode/.local/lib/python3.10/site-packages (from unstructured) (2024.4.27)\n",
                        "Requirement already satisfied: numpy in /home/vscode/.local/lib/python3.10/site-packages (from unstructured) (1.26.4)\n",
                        "Requirement already satisfied: requests in /home/vscode/.local/lib/python3.10/site-packages (from unstructured) (2.31.0)\n",
                        "Requirement already satisfied: langdetect in /home/vscode/.local/lib/python3.10/site-packages (from unstructured) (1.0.9)\n",
                        "Requirement already satisfied: filetype in /home/vscode/.local/lib/python3.10/site-packages (from unstructured) (1.2.0)\n",
                        "Requirement already satisfied: emoji in /home/vscode/.local/lib/python3.10/site-packages (from unstructured) (2.11.1)\n",
                        "Requirement already satisfied: python-magic in /home/vscode/.local/lib/python3.10/site-packages (from unstructured) (0.4.27)\n",
                        "Requirement already satisfied: beautifulsoup4 in /home/vscode/.local/lib/python3.10/site-packages (from unstructured) (4.12.3)\n",
                        "Requirement already satisfied: backoff in /home/vscode/.local/lib/python3.10/site-packages (from unstructured) (2.2.1)\n",
                        "Requirement already satisfied: typing-extensions in /home/vscode/.local/lib/python3.10/site-packages (from unstructured) (4.11.0)\n",
                        "Requirement already satisfied: rapidfuzz in /home/vscode/.local/lib/python3.10/site-packages (from unstructured) (3.8.1)\n",
                        "Requirement already satisfied: tabulate in /home/vscode/.local/lib/python3.10/site-packages (from unstructured) (0.9.0)\n",
                        "Requirement already satisfied: soupsieve>1.2 in /home/vscode/.local/lib/python3.10/site-packages (from beautifulsoup4->unstructured) (2.5)\n",
                        "Requirement already satisfied: marshmallow<4.0.0,>=3.18.0 in /home/vscode/.local/lib/python3.10/site-packages (from dataclasses-json->unstructured) (3.21.2)\n",
                        "Requirement already satisfied: typing-inspect<1,>=0.4.0 in /home/vscode/.local/lib/python3.10/site-packages (from dataclasses-json->unstructured) (0.9.0)\n",
                        "Requirement already satisfied: six in /home/vscode/.local/lib/python3.10/site-packages (from langdetect->unstructured) (1.16.0)\n",
                        "Requirement already satisfied: tqdm in /home/vscode/.local/lib/python3.10/site-packages (from nltk->unstructured) (4.66.2)\n",
                        "Requirement already satisfied: regex>=2021.8.3 in /home/vscode/.local/lib/python3.10/site-packages (from nltk->unstructured) (2024.4.28)\n",
                        "Requirement already satisfied: click in /home/vscode/.local/lib/python3.10/site-packages (from nltk->unstructured) (8.1.7)\n",
                        "Requirement already satisfied: joblib in /home/vscode/.local/lib/python3.10/site-packages (from nltk->unstructured) (1.4.2)\n",
                        "Requirement already satisfied: charset-normalizer<4,>=2 in /home/vscode/.local/lib/python3.10/site-packages (from requests->unstructured) (3.3.2)\n",
                        "Requirement already satisfied: certifi>=2017.4.17 in /home/vscode/.local/lib/python3.10/site-packages (from requests->unstructured) (2024.2.2)\n",
                        "Requirement already satisfied: idna<4,>=2.5 in /home/vscode/.local/lib/python3.10/site-packages (from requests->unstructured) (3.7)\n",
                        "Requirement already satisfied: urllib3<3,>=1.21.1 in /home/vscode/.local/lib/python3.10/site-packages (from requests->unstructured) (2.2.1)\n",
                        "Requirement already satisfied: packaging>=23.1 in /home/vscode/.local/lib/python3.10/site-packages (from unstructured-client->unstructured) (23.2)\n",
                        "Requirement already satisfied: pypdf>=4.0 in /home/vscode/.local/lib/python3.10/site-packages (from unstructured-client->unstructured) (4.2.0)\n",
                        "Requirement already satisfied: mypy-extensions>=1.0.0 in /home/vscode/.local/lib/python3.10/site-packages (from unstructured-client->unstructured) (1.0.0)\n",
                        "Requirement already satisfied: deepdiff>=6.0 in /home/vscode/.local/lib/python3.10/site-packages (from unstructured-client->unstructured) (7.0.1)\n",
                        "Requirement already satisfied: jsonpath-python>=1.0.6 in /home/vscode/.local/lib/python3.10/site-packages (from unstructured-client->unstructured) (1.0.6)\n",
                        "Requirement already satisfied: python-dateutil>=2.8.2 in /home/vscode/.local/lib/python3.10/site-packages (from unstructured-client->unstructured) (2.9.0.post0)\n",
                        "Requirement already satisfied: ordered-set<4.2.0,>=4.1.0 in /home/vscode/.local/lib/python3.10/site-packages (from deepdiff>=6.0->unstructured-client->unstructured) (4.1.0)\n",
                        "\n",
                        "\u001b[1m[\u001b[0m\u001b[34;49mnotice\u001b[0m\u001b[1;39;49m]\u001b[0m\u001b[39;49m A new release of pip is available: \u001b[0m\u001b[31;49m23.0.1\u001b[0m\u001b[39;49m -> \u001b[0m\u001b[32;49m24.0\u001b[0m\n",
                        "\u001b[1m[\u001b[0m\u001b[34;49mnotice\u001b[0m\u001b[1;39;49m]\u001b[0m\u001b[39;49m To update, run: \u001b[0m\u001b[32;49mpip install --upgrade pip\u001b[0m\n",
                        "Note: you may need to restart the kernel to use updated packages.\n"
                    ]
                }
            ],
            "source": [
                "pip install unstructured"
            ]
        },
        {
            "cell_type": "code",
            "execution_count": 26,
            "metadata": {},
            "outputs": [],
            "source": [
                "# added/edited\n",
                "from langchain_community.document_loaders.html import UnstructuredHTMLLoader\n"
            ]
        },
        {
            "cell_type": "code",
            "execution_count": 27,
            "metadata": {},
            "outputs": [
                {
                    "name": "stdout",
                    "output_type": "stream",
                    "text": [
                        "[Document(page_content='To search this site, enter a search term\\n\\nSearch\\n\\nExecutive Order on the Safe, Secure, and Trustworthy Development and Use of Artificial Intelligence\\n\\nHome\\n\\nBriefing Room\\n\\nPresidential Actions\\n\\nBy the authority vested in me as President by the Constitution and the laws of the United States of America, it is hereby ordered as follows:\\n\\nSection 1', metadata={'source': 'white_house_executive_order_nov_2023.html'}), Document(page_content='.\\xa0 Purpose.\\xa0 Artificial intelligence (AI) holds extraordinary potential for both promise and peril.\\xa0 Responsible AI use has the potential to help solve urgent challenges while making our world more prosperous, productive, innovative, and secure', metadata={'source': 'white_house_executive_order_nov_2023.html'}), Document(page_content='.\\xa0 At the same time, irresponsible use could exacerbate societal harms such as fraud, discrimination, bias, and disinformation; displace and disempower workers; stifle competition; and pose risks to national security', metadata={'source': 'white_house_executive_order_nov_2023.html'}), Document(page_content='.\\xa0 Harnessing AI for good and realizing its myriad benefits requires mitigating its substantial risks.\\xa0 This endeavor demands a society-wide effort that includes government, the private sector, academia, and civil society', metadata={'source': 'white_house_executive_order_nov_2023.html'}), Document(page_content='.\\n\\nMy Administration places the highest urgency on governing the development and use of AI safely and responsibly, and is therefore advancing a coordinated, Federal Government-wide approach to doing so', metadata={'source': 'white_house_executive_order_nov_2023.html'}), Document(page_content='. \\xa0The rapid speed at which AI capabilities are advancing compels the United States to lead in this moment for the sake of our security, economy, and society.\\n\\nIn the end, AI reflects the principles of the people who build it, the people who use it, and the data upon which it is built', metadata={'source': 'white_house_executive_order_nov_2023.html'}), Document(page_content='.\\xa0 I firmly believe that the power of our ideals; the foundations of our society; and the creativity, diversity, and decency of our people are the reasons that America thrived in past eras of rapid change.\\xa0 They are the reasons we will succeed again in this moment', metadata={'source': 'white_house_executive_order_nov_2023.html'}), Document(page_content='.\\xa0 They are the reasons we will succeed again in this moment.\\xa0 We are more than capable of harnessing AI for justice, security, and opportunity for all.\\n\\nSec. 2.\\xa0 Policy and Principles', metadata={'source': 'white_house_executive_order_nov_2023.html'}), Document(page_content='.\\n\\nSec. 2.\\xa0 Policy and Principles.\\xa0 It is the policy of my Administration to advance and govern the development and use of AI in accordance with eight guiding principles and priorities', metadata={'source': 'white_house_executive_order_nov_2023.html'}), Document(page_content='.\\xa0 When undertaking the actions set forth in this order, executive departments and agencies (agencies) shall, as appropriate and consistent with applicable law, adhere to these principles, while, as feasible, taking into account the views of other agencies, industry, members of academia, civil society, labor unions, international allies and partners, and other relevant organizations:\\n\\n(a)\\xa0 Artificial Intelligence must be safe and secure', metadata={'source': 'white_house_executive_order_nov_2023.html'}), Document(page_content='.\\xa0 Meeting this goal requires robust, reliable, repeatable, and standardized evaluations of AI systems, as well as policies, institutions, and, as appropriate, other mechanisms to test, understand, and mitigate risks from these systems before they are put to use', metadata={'source': 'white_house_executive_order_nov_2023.html'}), Document(page_content='.\\xa0 It also requires addressing AI systems’ most pressing security risks — including with respect to biotechnology, cybersecurity, critical infrastructure, and other national security dangers — while navigating AI’s opacity and complexity', metadata={'source': 'white_house_executive_order_nov_2023.html'}), Document(page_content='.\\xa0 Testing and evaluations, including post-deployment performance monitoring, will help ensure that AI systems function as intended, are resilient against misuse or dangerous modifications, are ethically developed and operated in a secure manner, and are compliant with applicable Federal laws and policies', metadata={'source': 'white_house_executive_order_nov_2023.html'}), Document(page_content='.\\xa0 Finally, my Administration will help develop effective labeling and content provenance mechanisms, so that Americans are able to determine when content is generated using AI and when it is not', metadata={'source': 'white_house_executive_order_nov_2023.html'}), Document(page_content='.\\xa0 These actions will provide a vital foundation for an approach that addresses AI’s risks without unduly reducing its benefits', metadata={'source': 'white_house_executive_order_nov_2023.html'}), Document(page_content='.\\n\\n(b)\\xa0 Promoting responsible innovation, competition, and collaboration will allow the United States to lead in AI and unlock the technology’s potential to solve some of society’s most difficult challenges', metadata={'source': 'white_house_executive_order_nov_2023.html'}), Document(page_content='.\\xa0 This effort requires investments in AI-related education, training, development, research, and capacity, while simultaneously tackling novel intellectual property (IP) questions and other problems to protect inventors and creators', metadata={'source': 'white_house_executive_order_nov_2023.html'}), Document(page_content='.\\xa0 Across the Federal Government, my Administration will support programs to provide Americans the skills they need for the age of AI and attract the world’s AI talent to our shores — not just to study, but to stay — so that the companies and technologies of the future are made in America', metadata={'source': 'white_house_executive_order_nov_2023.html'}), Document(page_content='.\\xa0 The Federal Government will promote a fair, open, and competitive ecosystem and marketplace for AI and related technologies so that small developers and entrepreneurs can continue to drive innovation', metadata={'source': 'white_house_executive_order_nov_2023.html'}), Document(page_content='.\\xa0 Doing so requires stopping unlawful collusion and addressing risks from dominant firms’ use of key assets such as semiconductors, computing power, cloud storage, and data to disadvantage competitors, and it requires supporting a marketplace that harnesses the benefits of AI to provide new opportunities for small businesses, workers, and entrepreneurs', metadata={'source': 'white_house_executive_order_nov_2023.html'}), Document(page_content='.\\n\\n(c)\\xa0 The responsible development and use of AI require a commitment to supporting American workers.\\xa0 As AI creates new jobs and industries, all workers need a seat at the table, including through collective bargaining, to ensure that they benefit from these opportunities', metadata={'source': 'white_house_executive_order_nov_2023.html'}), Document(page_content='.\\xa0 My Administration will seek to adapt job training and education to support a diverse workforce and help provide access to opportunities that AI creates', metadata={'source': 'white_house_executive_order_nov_2023.html'}), Document(page_content='.\\xa0 In the workplace itself, AI should not be deployed in ways that undermine rights, worsen job quality, encourage undue worker surveillance, lessen market competition, introduce new health and safety risks, or cause harmful labor-force disruptions', metadata={'source': 'white_house_executive_order_nov_2023.html'}), Document(page_content='.\\xa0 The critical next steps in AI development should be built on the views of workers, labor unions, educators, and employers to support responsible uses of AI that improve workers’ lives, positively augment human work, and help all people safely enjoy the gains and opportunities from technological innovation', metadata={'source': 'white_house_executive_order_nov_2023.html'}), Document(page_content='.\\n\\n(d)\\xa0 Artificial Intelligence policies must be consistent with my Administration’s dedication to advancing equity and civil rights.\\xa0 My Administration cannot — and will not — tolerate the use of AI to disadvantage those who are already too often denied equal opportunity and justice', metadata={'source': 'white_house_executive_order_nov_2023.html'}), Document(page_content='.\\xa0 From hiring to housing to healthcare, we have seen what happens when AI use deepens discrimination and bias, rather than improving quality of life', metadata={'source': 'white_house_executive_order_nov_2023.html'}), Document(page_content='.\\xa0 Artificial Intelligence systems deployed irresponsibly have reproduced and intensified existing inequities, caused new types of harmful discrimination, and exacerbated online and physical harms', metadata={'source': 'white_house_executive_order_nov_2023.html'}), Document(page_content='.\\xa0 My Administration will build on the important steps that have already been taken — such as issuing the Blueprint for an AI Bill of Rights, the AI Risk Management Framework, and Executive Order 14091 of February 16, 2023 (Further Advancing Racial Equity and Support for Underserved Communities Through the Federal Government) — in seeking to ensure that AI complies with all Federal laws and to promote robust technical evaluations, careful oversight, engagement with affected communities, and rigorous regulation', metadata={'source': 'white_house_executive_order_nov_2023.html'}), Document(page_content='.\\xa0 It is necessary to hold those developing and deploying AI accountable to standards that protect against unlawful discrimination and abuse, including in the justice system and the Federal Government', metadata={'source': 'white_house_executive_order_nov_2023.html'}), Document(page_content='.\\xa0 Only then can Americans trust AI to advance civil rights, civil liberties, equity, and justice for all.\\n\\n(e)\\xa0 The interests of Americans who increasingly use, interact with, or purchase AI and AI-enabled products in their daily lives must be protected', metadata={'source': 'white_house_executive_order_nov_2023.html'}), Document(page_content='.\\xa0 Use of new technologies, such as AI, does not excuse organizations from their legal obligations, and hard-won consumer protections are more important than ever in moments of technological change', metadata={'source': 'white_house_executive_order_nov_2023.html'}), Document(page_content='.\\xa0 The Federal Government will enforce existing consumer protection laws and principles and enact appropriate safeguards against fraud, unintended bias, discrimination, infringements on privacy, and other harms from AI', metadata={'source': 'white_house_executive_order_nov_2023.html'}), Document(page_content='.\\xa0 Such protections are especially important in critical fields like healthcare, financial services, education, housing, law, and transportation, where mistakes by or misuse of AI could harm patients, cost consumers or small businesses, or jeopardize safety or rights', metadata={'source': 'white_house_executive_order_nov_2023.html'}), Document(page_content='.\\xa0 At the same time, my Administration will promote responsible uses of AI that protect consumers, raise the quality of goods and services, lower their prices, or expand selection and availability.\\n\\n(f)\\xa0 Americans’ privacy and civil liberties must be protected as AI continues advancing', metadata={'source': 'white_house_executive_order_nov_2023.html'}), Document(page_content='.\\n\\n(f)\\xa0 Americans’ privacy and civil liberties must be protected as AI continues advancing.\\xa0 Artificial Intelligence is making it easier to extract, re-identify, link, infer, and act on sensitive information about people’s identities, locations, habits, and desires', metadata={'source': 'white_house_executive_order_nov_2023.html'}), Document(page_content='.\\xa0 Artificial Intelligence’s capabilities in these areas can increase the risk that personal data could be exploited and exposed', metadata={'source': 'white_house_executive_order_nov_2023.html'}), Document(page_content='.\\xa0 To combat this risk, the Federal Government will ensure that the collection, use, and retention of data is lawful, is secure, and mitigates privacy and confidentiality risks', metadata={'source': 'white_house_executive_order_nov_2023.html'}), Document(page_content='.\\xa0 Agencies shall use available policy and technical tools, including privacy-enhancing technologies (PETs) where appropriate, to protect privacy and to combat the broader legal and societal risks — including the chilling of First Amendment rights — that result from the improper collection and use of people’s data', metadata={'source': 'white_house_executive_order_nov_2023.html'}), Document(page_content='.\\n\\n(g)\\xa0 It is important to manage the risks from the Federal Government’s own use of AI and increase its internal capacity to regulate, govern, and support responsible use of AI to deliver better results for Americans.\\xa0 These efforts start with people, our Nation’s greatest asset', metadata={'source': 'white_house_executive_order_nov_2023.html'}), Document(page_content='.\\xa0 My Administration will take steps to attract, retain, and develop public service-oriented AI professionals, including from underserved communities, across\\xa0disciplines — including technology, policy, managerial,\\xa0procurement, regulatory, ethical, governance, and legal fields — and ease AI professionals’ path into the Federal Government to help harness and govern AI', metadata={'source': 'white_house_executive_order_nov_2023.html'}), Document(page_content='.\\xa0 The Federal Government will work to ensure that all members of its workforce receive adequate training to understand the benefits, risks, and limitations of AI for their job functions, and to modernize Federal Government information technology infrastructure, remove\\xa0bureaucratic obstacles, and ensure that safe and rights-respecting AI is adopted, deployed, and used', metadata={'source': 'white_house_executive_order_nov_2023.html'}), Document(page_content='.\\n\\n(h)\\xa0 The Federal Government should lead the way to global societal, economic, and technological progress, as the United\\xa0States has in previous eras of disruptive innovation and change.\\xa0 This leadership is not measured solely by the technological advancements our country makes', metadata={'source': 'white_house_executive_order_nov_2023.html'}), Document(page_content='.\\xa0 This leadership is not measured solely by the technological advancements our country makes.\\xa0 Effective leadership also means pioneering those systems and safeguards needed to deploy technology responsibly — and building and promoting those safeguards with the rest of the world', metadata={'source': 'white_house_executive_order_nov_2023.html'}), Document(page_content='. \\xa0My Administration will engage with international allies and partners in developing a framework to manage AI’s risks, unlock AI’s potential for good, and promote common approaches to shared challenges', metadata={'source': 'white_house_executive_order_nov_2023.html'}), Document(page_content='.\\xa0 The Federal Government will seek to promote responsible AI safety and security principles and actions with other nations, including our competitors, while leading key global conversations and collaborations to ensure that AI benefits the whole world, rather than exacerbating inequities, threatening human rights, and causing other harms', metadata={'source': 'white_house_executive_order_nov_2023.html'}), Document(page_content='.\\n\\nSec. 3.\\xa0 Definitions.\\xa0 For purposes of this order:\\n\\n(a)\\xa0 The term “agency” means each agency described in 44\\xa0U.S.C. 3502(1), except for the independent regulatory agencies described in 44 U.S.C. 3502(5).\\n\\n(b)\\xa0 The term “artificial intelligence” or “AI” has the meaning set forth in 15 U.S.C', metadata={'source': 'white_house_executive_order_nov_2023.html'}), Document(page_content='.C. 3502(5).\\n\\n(b)\\xa0 The term “artificial intelligence” or “AI” has the meaning set forth in 15 U.S.C. 9401(3): \\xa0a machine-based system that can, for a given set of human-defined objectives, make predictions, recommendations, or decisions influencing real or virtual environments', metadata={'source': 'white_house_executive_order_nov_2023.html'}), Document(page_content='.\\xa0 Artificial intelligence systems use machine- and human-based inputs to perceive real and virtual environments; abstract such perceptions into models through analysis in an automated manner; and use model inference to formulate options for information or action', metadata={'source': 'white_house_executive_order_nov_2023.html'}), Document(page_content='.\\n\\n(c)\\xa0 The term “AI model” means a component of an information system that implements AI technology and uses computational, statistical, or machine-learning techniques to produce outputs from a given set of inputs', metadata={'source': 'white_house_executive_order_nov_2023.html'}), Document(page_content='.\\n\\n(d)\\xa0 The term “AI red-teaming” means a structured testing effort to find flaws and vulnerabilities in an AI system, often in a controlled environment and in collaboration with developers of AI', metadata={'source': 'white_house_executive_order_nov_2023.html'}), Document(page_content='.\\xa0 Artificial Intelligence red-teaming is most often performed by dedicated “red teams” that adopt adversarial methods to identify flaws and vulnerabilities, such as harmful or discriminatory outputs from an AI system, unforeseen or undesirable system behaviors, limitations, or potential risks associated with the misuse of the system', metadata={'source': 'white_house_executive_order_nov_2023.html'}), Document(page_content='.\\n\\n(e)\\xa0 The term “AI system” means any data system, software, hardware, application, tool, or utility that operates in whole or in part using AI', metadata={'source': 'white_house_executive_order_nov_2023.html'}), Document(page_content='.\\n\\n(f)\\xa0 The term “commercially available information” means any information or data about an individual or group of individuals, including an individual’s or group of individuals’ device or location, that is made available or obtainable and sold, leased, or licensed to the general public or to governmental or non-governmental entities', metadata={'source': 'white_house_executive_order_nov_2023.html'}), Document(page_content='.\\n\\n(g)\\xa0 The term “crime forecasting” means the use of analytical techniques to attempt to predict future crimes or crime-related information', metadata={'source': 'white_house_executive_order_nov_2023.html'}), Document(page_content='.\\xa0 It can include machine-generated predictions that use algorithms to analyze large volumes of data, as well as other forecasts that are generated without machines and based on statistics, such as historical crime statistics', metadata={'source': 'white_house_executive_order_nov_2023.html'}), Document(page_content='.\\n\\n(h)\\xa0 The term “critical and emerging technologies” means those technologies listed in the February 2022 Critical and Emerging Technologies List Update issued by the National Science and Technology Council (NSTC), as amended by subsequent updates to the list issued by the NSTC', metadata={'source': 'white_house_executive_order_nov_2023.html'}), Document(page_content='.\\n\\n(i)\\xa0 The term “critical infrastructure” has the meaning set forth in section 1016(e) of the USA PATRIOT Act of 2001, 42\\xa0U.S.C. 5195c(e)', metadata={'source': 'white_house_executive_order_nov_2023.html'}), Document(page_content='.S.C. 5195c(e).\\n\\n(j)\\xa0 The term “differential-privacy guarantee” means protections that allow information about a group to be shared while provably limiting the improper access, use, or disclosure of personal information about particular entities', metadata={'source': 'white_house_executive_order_nov_2023.html'}), Document(page_content='.\\n\\n(k)\\xa0 The term “dual-use foundation model” means an AI model that is trained on broad data; generally uses self-supervision; contains at least tens of billions of parameters; is applicable across a wide range of contexts; and that exhibits, or could be easily modified to exhibit, high levels of performance at tasks that pose a serious risk to security, national economic security, national public health or safety, or any combination of those matters, such as by:\\n\\n(i) \\xa0\\xa0\\xa0substantially lowering the barrier of entry for non-experts to design, synthesize, acquire, or use chemical, biological, radiological, or nuclear (CBRN) weapons;\\n\\n(ii)\\xa0 \\xa0enabling powerful offensive cyber operations through automated vulnerability discovery and exploitation against a wide range of potential targets of cyber attacks; or\\n\\n(iii)\\xa0 permitting the evasion of human control or oversight through means of deception or obfuscation', metadata={'source': 'white_house_executive_order_nov_2023.html'}), Document(page_content='.\\n\\nModels meet this definition even if they are provided to end users with technical safeguards that attempt to prevent users from taking advantage of the relevant unsafe capabilities', metadata={'source': 'white_house_executive_order_nov_2023.html'}), Document(page_content='.\\n\\n(l)\\xa0 The term “Federal law enforcement agency” has the meaning set forth in section 21(a) of Executive Order 14074 of May 25, 2022 (Advancing Effective, Accountable Policing and Criminal Justice Practices To Enhance Public Trust and Public Safety)', metadata={'source': 'white_house_executive_order_nov_2023.html'}), Document(page_content='.\\n\\n(m)\\xa0 The term “floating-point operation” means any mathematical operation or assignment involving floating-point numbers, which are a subset of the real numbers typically represented on computers by an integer of fixed precision scaled by an integer exponent of a fixed base', metadata={'source': 'white_house_executive_order_nov_2023.html'}), Document(page_content='.\\n\\n(n)\\xa0 The term “foreign person” has the meaning set forth in section 5(c) of Executive Order 13984 of January 19, 2021 (Taking Additional Steps To Address the National Emergency With Respect to Significant Malicious Cyber-Enabled Activities)', metadata={'source': 'white_house_executive_order_nov_2023.html'}), Document(page_content='.\\n\\n(o)\\xa0 The terms “foreign reseller” and “foreign reseller of United States Infrastructure as a Service Products” mean a foreign person who has established an Infrastructure as a Service Account to provide Infrastructure as a Service Products subsequently, in whole or in part, to a third party', metadata={'source': 'white_house_executive_order_nov_2023.html'}), Document(page_content='.\\n\\n(p)\\xa0 The term “generative AI” means the class of AI models that emulate the structure and characteristics of input data in order to generate derived synthetic content.\\xa0 This can include images, videos, audio, text, and other digital content', metadata={'source': 'white_house_executive_order_nov_2023.html'}), Document(page_content='.\\n\\n(q)\\xa0 The terms “Infrastructure as a Service Product,” “United States Infrastructure as a Service Product,” “United States Infrastructure as a Service Provider,” and “Infrastructure as a Service Account” each have the respective meanings given to those terms in section 5 of Executive Order 13984', metadata={'source': 'white_house_executive_order_nov_2023.html'}), Document(page_content='.\\n\\n(r)\\xa0 The term “integer operation” means any mathematical operation or assignment involving only integers, or whole numbers expressed without a decimal point.\\n\\n(s)\\xa0 The term “Intelligence Community” has the meaning given to that term in section 3', metadata={'source': 'white_house_executive_order_nov_2023.html'}), Document(page_content='.\\n\\n(s)\\xa0 The term “Intelligence Community” has the meaning given to that term in section 3.5(h) of Executive Order 12333 of December 4, 1981 (United States Intelligence Activities), as amended', metadata={'source': 'white_house_executive_order_nov_2023.html'}), Document(page_content='.\\n\\n(t)\\xa0 The term “machine learning” means a set of techniques that can be used to train AI algorithms to improve performance at a task based on data.\\n\\n(u)\\xa0 The term “model weight” means a numerical parameter within an AI model that helps determine the model’s outputs in response to inputs', metadata={'source': 'white_house_executive_order_nov_2023.html'}), Document(page_content='.\\n\\n(v)\\xa0 The term “national security system” has the meaning set forth in 44 U.S.C. 3552(b)(6).\\n\\n(w)\\xa0 The term “omics” means biomolecules, including nucleic acids, proteins, and metabolites, that make up a cell or cellular system', metadata={'source': 'white_house_executive_order_nov_2023.html'}), Document(page_content='.\\n\\n(x)\\xa0 The term “Open RAN” means the Open Radio Access Network approach to telecommunications-network standardization adopted by the O-RAN Alliance, Third Generation Partnership Project, or any similar set of published open standards for multi-vendor network equipment interoperability', metadata={'source': 'white_house_executive_order_nov_2023.html'}), Document(page_content='.\\n\\n(y)\\xa0 The term “personally identifiable information” has the meaning set forth in Office of Management and Budget (OMB) Circular No. A-130', metadata={'source': 'white_house_executive_order_nov_2023.html'}), Document(page_content='.\\n\\n(z)\\xa0 The term “privacy-enhancing technology” means any software or hardware solution, technical process, technique, or other technological means of mitigating privacy risks arising from data processing, including by enhancing predictability, manageability, disassociability, storage, security, and confidentiality', metadata={'source': 'white_house_executive_order_nov_2023.html'}), Document(page_content='.\\xa0 These technological means may include secure multiparty computation, homomorphic encryption, zero-knowledge proofs, federated learning, secure enclaves, differential privacy, and synthetic-data-generation tools.\\xa0 This is also sometimes referred to as “privacy-preserving technology', metadata={'source': 'white_house_executive_order_nov_2023.html'}), Document(page_content='.\\xa0 This is also sometimes referred to as “privacy-preserving technology.”\\n\\n(aa)\\xa0 The term “privacy impact assessment” has the meaning set forth in OMB Circular No. A-130.\\n\\n(bb)\\xa0 The term “Sector Risk Management Agency” has the meaning set forth in 6 U.S.C. 650(23)', metadata={'source': 'white_house_executive_order_nov_2023.html'}), Document(page_content='.\\n\\n(bb)\\xa0 The term “Sector Risk Management Agency” has the meaning set forth in 6 U.S.C. 650(23).\\n\\n(cc)\\xa0 The term “self-healing network” means a telecommunications network that automatically diagnoses and addresses network issues to permit self-restoration', metadata={'source': 'white_house_executive_order_nov_2023.html'}), Document(page_content='.\\n\\n(dd)\\xa0 The term “synthetic biology” means a field of science that involves redesigning organisms, or the biomolecules of organisms, at the genetic level to give them new characteristics.\\xa0 Synthetic nucleic acids are a type of biomolecule redesigned through synthetic-biology methods', metadata={'source': 'white_house_executive_order_nov_2023.html'}), Document(page_content='.\\xa0 Synthetic nucleic acids are a type of biomolecule redesigned through synthetic-biology methods.\\n\\n(ee)\\xa0 The term “synthetic content” means information, such as images, videos, audio clips, and text, that has been significantly modified or generated by algorithms, including by AI', metadata={'source': 'white_house_executive_order_nov_2023.html'}), Document(page_content='.\\n\\n(ff)\\xa0 The term “testbed” means a facility or mechanism equipped for conducting rigorous, transparent, and replicable testing of tools and technologies, including AI and PETs, to help evaluate the functionality, usability, and performance of those tools or technologies', metadata={'source': 'white_house_executive_order_nov_2023.html'}), Document(page_content='.\\n\\n(gg)\\xa0 The term “watermarking” means the act of embedding information, which is typically difficult to remove, into outputs created by AI — including into outputs such as photos, videos, audio clips, or text — for the purposes of verifying the authenticity of the output or the identity or characteristics of its provenance, modifications, or conveyance', metadata={'source': 'white_house_executive_order_nov_2023.html'}), Document(page_content='.\\n\\nSec. 4.\\xa0 Ensuring the Safety and Security of AI Technology.\\n\\n4.1.\\xa0 Developing Guidelines, Standards, and Best Practices for AI Safety and Security', metadata={'source': 'white_house_executive_order_nov_2023.html'}), Document(page_content='. \\xa0(a)\\xa0 Within 270 days of the date of this order, to help ensure the development of safe, secure, and trustworthy AI systems, the Secretary of Commerce, acting through the Director of the National Institute of Standards and Technology (NIST), in coordination with the Secretary of Energy, the Secretary of Homeland Security, and the heads of other relevant agencies as the Secretary of Commerce may deem appropriate, shall:\\n\\n(i)\\xa0 \\xa0Establish guidelines and best practices, with the aim of promoting consensus industry standards, for developing and deploying safe, secure, and trustworthy AI systems, including:\\n\\n(A)\\xa0 developing a companion resource to the AI Risk Management Framework, NIST AI 100-1, for generative AI;\\n\\n(B)\\xa0 developing a companion resource to the Secure Software Development Framework to incorporate secure development practices for generative AI and for dual-use foundation models; and\\n\\n(C)\\xa0 launching an initiative to create guidance and benchmarks for evaluating and auditing AI capabilities, with a focus on capabilities through which AI could cause harm, such as in the areas of cybersecurity and biosecurity', metadata={'source': 'white_house_executive_order_nov_2023.html'}), Document(page_content='.\\n\\n(ii)\\xa0 Establish appropriate guidelines (except for AI used as a component of a national security system), including appropriate procedures and processes, to enable developers of AI, especially of dual-use foundation models, to conduct AI red-teaming tests to enable deployment of safe, secure, and trustworthy systems', metadata={'source': 'white_house_executive_order_nov_2023.html'}), Document(page_content='.\\xa0 These efforts shall include:\\n\\n(A)\\xa0 coordinating or developing guidelines related to assessing and managing the safety, security, and trustworthiness of dual-use foundation models; and\\n\\n(B)\\xa0 in coordination with the Secretary of Energy and the Director of the National Science Foundation (NSF), developing and helping to ensure the availability of testing environments, such as testbeds, to support the development of safe, secure, and trustworthy AI technologies, as well as to support the design, development, and deployment of associated PETs, consistent with section 9(b) of this order', metadata={'source': 'white_house_executive_order_nov_2023.html'}), Document(page_content='.\\n\\n(b)\\xa0 Within 270 days of the date of this order, to understand and mitigate AI security risks, the Secretary of Energy, in coordination with the heads of other Sector Risk Management Agencies (SRMAs) as the Secretary of Energy may deem appropriate, shall develop and, to the extent permitted by law and available appropriations, implement a plan for developing the Department of Energy’s AI model evaluation tools and AI testbeds', metadata={'source': 'white_house_executive_order_nov_2023.html'}), Document(page_content='.\\xa0 The Secretary shall undertake this work using existing solutions where possible, and shall develop these tools and AI testbeds to be capable of assessing near-term extrapolations of AI systems’ capabilities', metadata={'source': 'white_house_executive_order_nov_2023.html'}), Document(page_content='.\\xa0 At a minimum, the Secretary shall develop tools to evaluate AI capabilities to generate outputs that may represent nuclear, nonproliferation, biological, chemical, critical infrastructure, and energy-security threats or hazards', metadata={'source': 'white_house_executive_order_nov_2023.html'}), Document(page_content='.\\xa0 The Secretary shall do this work solely for the purposes of guarding against these threats, and shall also develop model guardrails that reduce such risks', metadata={'source': 'white_house_executive_order_nov_2023.html'}), Document(page_content='.\\xa0 The Secretary shall, as appropriate, consult with private AI laboratories, academia, civil society, and third-party evaluators, and shall use existing solutions.\\n\\n4.2.\\xa0 Ensuring Safe and Reliable AI', metadata={'source': 'white_house_executive_order_nov_2023.html'}), Document(page_content='.\\n\\n4.2.\\xa0 Ensuring Safe and Reliable AI. \\xa0(a)\\xa0 Within 90 days of the date of this order, to ensure and verify the continuous availability of safe, reliable, and effective AI in accordance with the Defense Production Act, as amended, 50 U.S.C. 4501 et seq', metadata={'source': 'white_house_executive_order_nov_2023.html'}), Document(page_content='., including for the national defense and the protection of critical infrastructure, the Secretary of Commerce shall require:\\n\\n(i)\\xa0 \\xa0Companies developing or demonstrating an intent to develop potential dual-use foundation models to provide the Federal Government, on an ongoing basis, with information, reports, or records regarding the following:\\n\\n(A)\\xa0 any ongoing or planned activities related to training, developing, or producing dual-use foundation models, including the physical and cybersecurity protections taken to assure the integrity of that training process against sophisticated threats;\\n\\n(B)\\xa0 the ownership and possession of the model weights of any dual-use foundation models, and the physical and cybersecurity measures taken to protect those model weights; and\\n\\n(C)\\xa0 the results of any developed dual-use foundation model’s performance in relevant AI red-team testing based on guidance developed by NIST pursuant to subsection 4', metadata={'source': 'white_house_executive_order_nov_2023.html'}), Document(page_content='.1(a)(ii) of this section, and a description of any associated measures the company has taken to meet safety objectives, such as mitigations to improve performance on these red-team tests and strengthen overall model security', metadata={'source': 'white_house_executive_order_nov_2023.html'}), Document(page_content='. \\xa0Prior to the development of guidance on red-team testing standards by NIST pursuant to subsection 4', metadata={'source': 'white_house_executive_order_nov_2023.html'}), Document(page_content='.1(a)(ii) of this section, this description shall include the results of any red-team testing that the company has conducted relating to lowering the barrier to entry for the development, acquisition, and use of biological weapons by non-state actors; the discovery of software vulnerabilities and development of associated exploits; the use of software or tools to influence real or virtual events; the possibility for self-replication or propagation; and associated measures to meet safety objectives; and\\n\\n(ii)\\xa0 Companies, individuals, or other organizations or entities that acquire, develop, or possess a potential large-scale computing cluster to report any such acquisition, development, or possession, including the existence and location of these clusters and the amount of total computing power available in each cluster', metadata={'source': 'white_house_executive_order_nov_2023.html'}), Document(page_content='.\\n\\n(b)\\xa0 The Secretary of Commerce, in consultation with the Secretary of State, the Secretary of Defense, the Secretary of Energy, and the Director of National Intelligence, shall define, and thereafter update as needed on a regular basis, the set of technical conditions for models and computing clusters that would be subject to the reporting requirements of subsection 4', metadata={'source': 'white_house_executive_order_nov_2023.html'}), Document(page_content='.2(a) of this section', metadata={'source': 'white_house_executive_order_nov_2023.html'}), Document(page_content='.\\xa0 Until such technical conditions are defined, the Secretary shall require compliance with these reporting requirements for:\\n\\n(i)\\xa0 \\xa0any model that was trained using a quantity of computing power greater than 1026 integer or floating-point operations, or using primarily biological sequence data and using a quantity of computing power greater than 1023 integer or floating-point operations; and\\n\\n(ii)\\xa0 any computing cluster that has a set of machines physically co-located in a single datacenter, transitively connected by data center networking of over 100 Gbit/s, and having a theoretical maximum computing capacity of 1020 integer or floating-point operations per second for training AI', metadata={'source': 'white_house_executive_order_nov_2023.html'}), Document(page_content='.\\n\\n(c)\\xa0 Because I find that additional steps must be taken to deal with the national emergency related to significant malicious cyber-enabled activities declared in Executive Order 13694 of April 1, 2015 (Blocking the Property of Certain Persons Engaging in Significant Malicious Cyber-Enabled Activities), as amended by Executive Order 13757 of December 28, 2016 (Taking Additional Steps to Address the National Emergency With Respect to Significant Malicious Cyber-Enabled Activities), and further amended by Executive Order 13984, to address the use of United States Infrastructure as a Service (IaaS) Products by foreign malicious cyber actors, including to impose additional record-keeping obligations with respect to foreign transactions and to assist in the investigation of transactions involving foreign malicious cyber actors, I hereby direct the Secretary of Commerce, within 90 days of the date of this order, to:\\n\\n(i) \\xa0\\xa0\\xa0Propose regulations that require United States IaaS Providers to submit a report to the Secretary of Commerce when a foreign person transacts with that United States IaaS Provider to train a large AI model with potential capabilities that could be used in malicious cyber-enabled activity (a “training run”)', metadata={'source': 'white_house_executive_order_nov_2023.html'}), Document(page_content='. \\xa0Such reports shall include, at a minimum, the identity of the foreign person and the existence of any training run of an AI model meeting the criteria set forth in this section, or other criteria defined by the Secretary in regulations, as well as any additional information identified by the Secretary', metadata={'source': 'white_house_executive_order_nov_2023.html'}), Document(page_content='.\\n\\n(ii) \\xa0\\xa0Include a requirement in the regulations proposed pursuant to subsection 4', metadata={'source': 'white_house_executive_order_nov_2023.html'}), Document(page_content='.2(c)(i) of this section that United States IaaS Providers prohibit any foreign reseller of their United States IaaS Product from providing those products unless such foreign reseller submits to the United States IaaS Provider a report, which the United States IaaS Provider must provide to the Secretary of Commerce, detailing each instance in which a foreign person transacts with the foreign reseller to use the United States IaaS Product to conduct a training run described in subsection 4', metadata={'source': 'white_house_executive_order_nov_2023.html'}), Document(page_content='.2(c)(i) of this section.\\xa0 Such reports shall include, at a minimum, the information specified in subsection 4.2(c)(i) of this section as well as any additional information identified by the Secretary', metadata={'source': 'white_house_executive_order_nov_2023.html'}), Document(page_content='.\\n\\n(iii) \\xa0Determine the set of technical conditions for a large AI model to have potential capabilities that could be used in malicious cyber-enabled activity, and revise that determination as necessary and appropriate', metadata={'source': 'white_house_executive_order_nov_2023.html'}), Document(page_content='. \\xa0Until the Secretary makes such a determination, a model shall be considered to have potential capabilities that could be used in malicious cyber-enabled activity if it requires a quantity of computing power greater than 1026 integer or floating-point operations and is trained on a computing cluster that has a set of machines physically co-located in a single datacenter, transitively connected by data center networking of over 100 Gbit/s, and having a theoretical maximum compute capacity of 1020 integer or floating-point operations per second for training AI', metadata={'source': 'white_house_executive_order_nov_2023.html'}), Document(page_content='.\\n\\n(d)\\xa0 Within 180 days of the date of this order, pursuant to the finding set forth in subsection 4', metadata={'source': 'white_house_executive_order_nov_2023.html'}), Document(page_content='.2(c) of this section, the Secretary of Commerce shall propose regulations that require United States IaaS Providers to ensure that foreign resellers of United States IaaS Products verify the identity of any foreign person that obtains an IaaS account (account) from the foreign reseller', metadata={'source': 'white_house_executive_order_nov_2023.html'}), Document(page_content='.\\xa0 These regulations shall, at a minimum:\\n\\n(i) \\xa0\\xa0\\xa0Set forth the minimum standards that a United States IaaS Provider must require of foreign resellers of its United States IaaS Products to verify the identity of a foreign person who opens an account or maintains an existing account with a foreign reseller, including:\\n\\n(A)\\xa0 the types of documentation and procedures that foreign resellers of United States IaaS Products must require to verify the identity of any foreign person acting as a lessee or sub-lessee of these products or services;\\n\\n(B)\\xa0 records that foreign resellers of United States IaaS Products must securely maintain regarding a foreign person that obtains an account, including information establishing:\\n\\n(1)\\xa0 the identity of such foreign person, including name and address;\\n\\n(2)\\xa0 the means and source of payment (including any associated financial institution and other identifiers such as credit card number, account number, customer identifier, transaction identifiers, or virtual currency wallet or wallet address identifier);\\n\\n(3)\\xa0 the electronic mail address and telephonic contact information used to verify a foreign person’s identity; and\\n\\n(4)\\xa0 the Internet Protocol addresses used for access or administration and the date and time of each such access or administrative action related to ongoing verification of such foreign person’s ownership of such an account; and\\n\\n(C)\\xa0 methods that foreign resellers of United States IaaS Products must implement to limit all third-party access to the information described in this subsection, except insofar as such access is otherwise consistent with this order and allowed under applicable law;\\n\\n(ii) \\xa0\\xa0Take into consideration the types of accounts maintained by foreign resellers of United States IaaS Products, methods of opening an account, and types of identifying information available to accomplish the objectives of identifying foreign malicious cyber actors using any such products and avoiding the imposition of an undue burden on such resellers; and\\n\\n(iii)\\xa0 Provide that the Secretary of Commerce, in accordance with such standards and procedures as the Secretary may delineate and in consultation with the Secretary of Defense, the Attorney General, the Secretary of Homeland Security, and the Director of National Intelligence, may exempt a United States IaaS Provider with respect to any specific foreign reseller of their United States IaaS Products, or with respect to any specific type of account or lessee, from the requirements of any regulation issued pursuant to this subsection', metadata={'source': 'white_house_executive_order_nov_2023.html'}), Document(page_content='.\\xa0 Such standards and procedures may include a finding by the Secretary that such foreign reseller, account, or lessee complies with security best practices to otherwise deter abuse of United States IaaS Products', metadata={'source': 'white_house_executive_order_nov_2023.html'}), Document(page_content='.\\n\\n(e) \\xa0The Secretary of Commerce is hereby authorized to take such actions, including the promulgation of rules and regulations, and to employ all powers granted to the President by the International Emergency Economic Powers Act, 50 U.S.C. 1701 et seq', metadata={'source': 'white_house_executive_order_nov_2023.html'}), Document(page_content='.S.C. 1701 et seq., as may be necessary to carry out the purposes of subsections 4.2(c) and (d) of this section', metadata={'source': 'white_house_executive_order_nov_2023.html'}), Document(page_content='.2(c) and (d) of this section.\\xa0 Such actions may include a requirement that United States IaaS Providers require foreign resellers of United States IaaS Products to provide United States IaaS Providers verifications relative to those subsections.\\n\\n4.3', metadata={'source': 'white_house_executive_order_nov_2023.html'}), Document(page_content='.\\n\\n4.3.\\xa0 Managing AI in Critical Infrastructure and in Cybersecurity', metadata={'source': 'white_house_executive_order_nov_2023.html'}), Document(page_content='.\\xa0 (a)\\xa0 To ensure the protection of critical\\n\\ninfrastructure, the following actions shall be taken:\\n\\n(i) \\xa0\\xa0\\xa0Within 90 days of the date of this order, and at least annually thereafter, the head of each agency with relevant regulatory authority over critical infrastructure and the heads of relevant SRMAs, in coordination with the Director of the Cybersecurity and Infrastructure Security Agency within the Department of Homeland Security for consideration of cross-sector risks, shall evaluate and provide to the Secretary of Homeland Security an assessment of potential risks related to the use of AI in critical infrastructure sectors involved, including ways in which deploying AI may make critical infrastructure systems more vulnerable to critical failures, physical attacks, and cyber attacks, and shall consider ways to mitigate these vulnerabilities', metadata={'source': 'white_house_executive_order_nov_2023.html'}), Document(page_content='.\\xa0 Independent regulatory agencies are encouraged, as they deem appropriate, to contribute to sector-specific risk assessments', metadata={'source': 'white_house_executive_order_nov_2023.html'}), Document(page_content='.\\n\\n(ii) \\xa0\\xa0Within 150 days of the date of this order, the Secretary of the Treasury shall issue a public report on best practices for financial institutions to manage AI-specific cybersecurity risks', metadata={'source': 'white_house_executive_order_nov_2023.html'}), Document(page_content='.\\n\\n(iii)\\xa0 Within 180 days of the date of this order, the Secretary of Homeland Security, in coordination with the Secretary of Commerce and with SRMAs and other regulators as determined by the Secretary of Homeland Security, shall incorporate as appropriate the AI Risk Management Framework, NIST AI 100-1, as well as other appropriate security guidance, into relevant safety and security guidelines for use by critical infrastructure owners and operators', metadata={'source': 'white_house_executive_order_nov_2023.html'}), Document(page_content='.\\n\\n(iv)\\xa0 \\xa0Within 240 days of the completion of the guidelines described in subsection 4', metadata={'source': 'white_house_executive_order_nov_2023.html'}), Document(page_content='.3(a)(iii) of this section, the Assistant to the President for National Security Affairs and the Director of OMB, in consultation with the Secretary of Homeland Security, shall coordinate work by the heads of agencies with authority over critical infrastructure to develop and take steps for the Federal Government to mandate such guidelines, or appropriate portions thereof, through regulatory or other appropriate action', metadata={'source': 'white_house_executive_order_nov_2023.html'}), Document(page_content='.\\xa0 Independent regulatory agencies are encouraged, as they deem appropriate, to consider whether to mandate guidance through regulatory action in their areas of authority and responsibility', metadata={'source': 'white_house_executive_order_nov_2023.html'}), Document(page_content='.\\n\\n(v) \\xa0\\xa0\\xa0The Secretary of Homeland Security shall establish an Artificial Intelligence Safety and Security Board as an advisory committee pursuant to section 871 of the Homeland Security Act of 2002 (Public Law 107-296)', metadata={'source': 'white_house_executive_order_nov_2023.html'}), Document(page_content='.\\xa0 The Advisory Committee shall include AI experts from the private sector, academia, and government, as appropriate, and provide to the Secretary of Homeland Security and the Federal Government’s critical infrastructure community advice, information, or recommendations for improving security, resilience, and incident response related to AI usage in critical infrastructure', metadata={'source': 'white_house_executive_order_nov_2023.html'}), Document(page_content='.\\n\\n(b)\\xa0 To capitalize on AI’s potential to improve United States cyber defenses:\\n\\n(i) \\xa0\\xa0\\xa0The Secretary of Defense shall carry out the actions described in subsections 4', metadata={'source': 'white_house_executive_order_nov_2023.html'}), Document(page_content='.3(b)(ii) and (iii) of this section for national security systems, and the Secretary of Homeland Security shall carry out these actions for non-national security systems', metadata={'source': 'white_house_executive_order_nov_2023.html'}), Document(page_content='.\\xa0 Each shall do so in consultation with the heads of other relevant agencies as the Secretary of Defense and the Secretary of Homeland Security may deem appropriate.\\n\\n(ii) \\xa0\\xa0As set forth in subsection 4', metadata={'source': 'white_house_executive_order_nov_2023.html'}), Document(page_content='.3(b)(i) of this section, within 180 days of the date of this order, the Secretary of Defense and the Secretary of Homeland Security shall, consistent with applicable law, each develop plans for, conduct, and complete an operational pilot project to identify, develop, test, evaluate, and deploy AI capabilities, such as large-language models, to aid in the discovery and remediation of vulnerabilities in critical United States Government software, systems, and networks', metadata={'source': 'white_house_executive_order_nov_2023.html'}), Document(page_content='.\\n\\n(iii)\\xa0 As set forth in subsection 4', metadata={'source': 'white_house_executive_order_nov_2023.html'}), Document(page_content='.3(b)(i) of this section, within 270 days of the date of this order, the Secretary of Defense and the Secretary of Homeland Security shall each provide a report to the Assistant to the President for National Security Affairs on the results of actions taken pursuant to the plans and operational pilot projects required by subsection 4', metadata={'source': 'white_house_executive_order_nov_2023.html'}), Document(page_content='.3(b)(ii) of this section, including a description of any vulnerabilities found and fixed through the development and deployment of AI capabilities and any lessons learned on how to identify, develop, test, evaluate, and deploy AI capabilities effectively for cyber defense.\\n\\n4.4', metadata={'source': 'white_house_executive_order_nov_2023.html'}), Document(page_content='.\\n\\n4.4.\\xa0 Reducing Risks at the Intersection of AI and CBRN Threats', metadata={'source': 'white_house_executive_order_nov_2023.html'}), Document(page_content='.\\xa0 (a)\\xa0 To better understand and mitigate the risk of AI being misused to assist in the development or use of CBRN threats — with a particular focus on biological weapons — the following actions shall be taken:\\n\\n(i) \\xa0\\xa0Within 180 days of the date of this order, the Secretary of Homeland Security, in consultation with the Secretary of Energy and the Director of the Office of Science and Technology Policy (OSTP), shall evaluate the potential for AI to be misused to enable the development or production of CBRN threats, while also considering the benefits and application of AI to counter these threats, including, as appropriate, the results of work conducted under section 8(b) of this order', metadata={'source': 'white_house_executive_order_nov_2023.html'}), Document(page_content='.\\xa0 The Secretary of Homeland Security shall:\\n\\n(A)\\xa0 consult with experts in AI and CBRN issues from the Department of Energy, private AI laboratories, academia, and third-party model evaluators, as appropriate, to evaluate AI model capabilities to present CBRN threats — for the sole purpose of guarding against those threats — as well as options for minimizing the risks of AI model misuse to generate or exacerbate those threats; and\\n\\n(B)\\xa0 submit a report to the President that describes the progress of these efforts, including an assessment of the types of AI models that may present CBRN risks to the United States, and that makes recommendations for regulating or overseeing the training, deployment, publication, or use of these models, including requirements for safety evaluations and guardrails for mitigating potential threats to national security', metadata={'source': 'white_house_executive_order_nov_2023.html'}), Document(page_content='.\\n\\n(ii)\\xa0 Within 120 days of the date of this order, the Secretary of Defense, in consultation with the Assistant to the President for National Security Affairs and the Director of OSTP, shall enter into a contract with the National Academies of Sciences, Engineering, and Medicine to conduct — and submit to the Secretary of Defense, the Assistant to the President for National Security Affairs, the Director of the Office of Pandemic Preparedness and Response Policy, the Director of OSTP, and the Chair of the Chief Data Officer Council — a study that:\\n\\n(A)\\xa0 assesses the ways in which AI can increase biosecurity risks, including risks from generative AI models trained on biological data, and makes recommendations on how to mitigate these risks;\\n\\n(B)\\xa0 considers the national security implications of the use of data and datasets, especially those associated with pathogens and omics studies, that the United States Government hosts, generates, funds the creation of, or otherwise owns, for the training of generative AI models, and makes recommendations on how to mitigate the risks related to the use of these data and datasets;\\n\\n(C)\\xa0 assesses the ways in which AI applied to biology can be used to reduce biosecurity risks, including recommendations on opportunities to coordinate data and high-performance computing resources; and\\n\\n(D)\\xa0 considers additional concerns and opportunities at the intersection of AI and synthetic biology that the Secretary of Defense deems appropriate', metadata={'source': 'white_house_executive_order_nov_2023.html'}), Document(page_content='.\\n\\n(b)\\xa0 To reduce the risk of misuse of synthetic nucleic acids, which could be substantially increased by AI’s capabilities in this area, and improve biosecurity measures for the nucleic acid synthesis industry, the following actions shall be taken:\\n\\n(i) \\xa0\\xa0\\xa0Within 180 days of the date of this order, the Director of OSTP, in consultation with the Secretary of State, the Secretary of Defense, the Attorney General, the Secretary of Commerce, the Secretary of Health and Human Services (HHS), the Secretary of Energy, the Secretary of Homeland Security, the Director of National Intelligence, and the heads of other relevant agencies as the Director of OSTP may deem appropriate, shall establish a framework, incorporating, as appropriate, existing United States Government guidance, to encourage providers of synthetic nucleic acid sequences to implement comprehensive, scalable, and verifiable synthetic nucleic acid procurement screening mechanisms, including standards and recommended incentives', metadata={'source': 'white_house_executive_order_nov_2023.html'}), Document(page_content='.\\xa0 As part of this framework, the Director of OSTP shall:\\n\\n(A)\\xa0 establish criteria and mechanisms for ongoing identification of biological sequences that could be used in a manner that would pose a risk to the national security of the United States; and\\n\\n(B)\\xa0 determine standardized methodologies and tools for conducting and verifying the performance of sequence synthesis procurement screening, including customer screening approaches to support due diligence with respect to managing security risks posed by purchasers of biological sequences identified in subsection 4', metadata={'source': 'white_house_executive_order_nov_2023.html'}), Document(page_content='.4(b)(i)(A) of this section, and processes for the reporting of concerning activity to enforcement entities', metadata={'source': 'white_house_executive_order_nov_2023.html'}), Document(page_content='.\\n\\n(ii) \\xa0\\xa0Within 180 days of the date of this order, the Secretary of Commerce, acting through the Director of NIST, in coordination with the Director of OSTP, and in consultation with the Secretary of State, the Secretary of HHS, and the heads of other relevant agencies as the Secretary of Commerce may deem appropriate, shall initiate an effort to engage with industry and relevant stakeholders, informed by the framework developed under subsection 4', metadata={'source': 'white_house_executive_order_nov_2023.html'}), Document(page_content='.4(b)(i) of this section, to develop and refine for possible use by synthetic nucleic acid sequence providers:\\n\\n(A) \\xa0specifications for effective nucleic acid synthesis procurement screening;\\n\\n(B) \\xa0best practices, including security and access controls, for managing sequence-of-concern databases to support such screening;\\n\\n(C) \\xa0technical implementation guides for effective screening; and\\n\\n(D) \\xa0conformity-assessment best practices and mechanisms', metadata={'source': 'white_house_executive_order_nov_2023.html'}), Document(page_content='.\\n\\n(iii)\\xa0 Within 180 days of the establishment of the framework pursuant to subsection 4', metadata={'source': 'white_house_executive_order_nov_2023.html'}), Document(page_content='.4(b)(i) of this section, all agencies that fund life-sciences research shall, as appropriate and consistent with applicable law, establish that, as a requirement of funding, synthetic nucleic acid procurement is conducted through providers or manufacturers that adhere to the framework, such as through an attestation from the provider or manufacturer', metadata={'source': 'white_house_executive_order_nov_2023.html'}), Document(page_content='. \\xa0The Assistant to the President for National Security Affairs and the Director of OSTP shall coordinate the process of reviewing such funding requirements to facilitate consistency in implementation of the framework across funding agencies', metadata={'source': 'white_house_executive_order_nov_2023.html'}), Document(page_content='.\\n\\n(iv) \\xa0\\xa0In order to facilitate effective implementation of the measures described in subsections 4', metadata={'source': 'white_house_executive_order_nov_2023.html'}), Document(page_content='.4(b)(i)-(iii) of this section, the Secretary of Homeland Security, in consultation with the heads of other relevant agencies as the Secretary of Homeland Security may deem appropriate, shall:\\n\\n(A)\\xa0 within 180 days of the establishment of the framework pursuant to subsection 4', metadata={'source': 'white_house_executive_order_nov_2023.html'}), Document(page_content='.4(b)(i) of this section, develop a framework to conduct structured evaluation and stress testing of nucleic acid synthesis procurement screening, including the systems developed in accordance with subsections 4', metadata={'source': 'white_house_executive_order_nov_2023.html'}), Document(page_content='.4(b)(i)-(ii) of this section and implemented by providers of synthetic nucleic acid sequences; and\\n\\n(B)\\xa0 following development of the framework pursuant to subsection 4', metadata={'source': 'white_house_executive_order_nov_2023.html'}), Document(page_content='.4(b)(iv)(A) of this section, submit an annual report to the Assistant to the President for National Security Affairs, the Director of the Office of Pandemic Preparedness and Response Policy, and the Director of OSTP on any results of the activities conducted pursuant to subsection 4', metadata={'source': 'white_house_executive_order_nov_2023.html'}), Document(page_content='.4(b)(iv)(A) of this section, including recommendations, if any, on how to strengthen nucleic acid synthesis procurement screening, including customer screening systems.\\n\\n4.5.\\xa0 Reducing the Risks Posed by Synthetic Content', metadata={'source': 'white_house_executive_order_nov_2023.html'}), Document(page_content='.\\n\\nTo foster capabilities for identifying and labeling synthetic content produced by AI systems, and to establish the authenticity and provenance of digital content, both synthetic and not synthetic, produced by the Federal Government or on its behalf:\\n\\n(a)\\xa0 Within 240 days of the date of this order, the Secretary of Commerce, in consultation with the heads of other relevant agencies as the Secretary of Commerce may deem appropriate, shall submit a report to the Director of OMB and the Assistant to the President for National Security Affairs identifying the existing standards, tools, methods, and practices, as well as the potential development of further science-backed standards and techniques, for:\\n\\n(i) \\xa0\\xa0\\xa0authenticating content and tracking its provenance;\\n\\n(ii)\\xa0 \\xa0labeling synthetic content, such as using watermarking;\\n\\n(iii)\\xa0 detecting synthetic content;\\n\\n(iv) \\xa0\\xa0preventing generative AI from producing child sexual abuse material or producing non-consensual intimate imagery of real individuals (to include intimate digital depictions of the body or body parts of an identifiable individual);\\n\\n(v) \\xa0\\xa0\\xa0testing software used for the above purposes; and\\n\\n(vi) \\xa0\\xa0auditing and maintaining synthetic content', metadata={'source': 'white_house_executive_order_nov_2023.html'}), Document(page_content='.\\n\\n(b)\\xa0 Within 180 days of submitting the report required under subsection 4', metadata={'source': 'white_house_executive_order_nov_2023.html'}), Document(page_content='.5(a) of this section, and updated periodically thereafter, the Secretary of Commerce, in coordination with the Director of OMB, shall develop guidance regarding the existing tools and practices for digital content authentication and synthetic content detection measures', metadata={'source': 'white_house_executive_order_nov_2023.html'}), Document(page_content='.\\xa0 The guidance shall include measures for the purposes listed in subsection 4.5(a) of this section.\\n\\n(c)\\xa0 Within 180 days of the development of the guidance required under subsection 4', metadata={'source': 'white_house_executive_order_nov_2023.html'}), Document(page_content='.5(b) of this section, and updated periodically thereafter, the Director of OMB, in consultation with the Secretary of State; the Secretary of Defense; the Attorney General; the Secretary of Commerce, acting through the Director of NIST; the Secretary of Homeland Security; the Director of National Intelligence; and the heads of other agencies that the Director of OMB deems appropriate, shall — for the purpose of strengthening public confidence in the\\xa0integrity of official United States Government digital content — issue guidance to agencies for labeling and authenticating such content that they produce or publish', metadata={'source': 'white_house_executive_order_nov_2023.html'}), Document(page_content='.\\n\\n(d)\\xa0 The Federal Acquisition Regulatory Council shall, as appropriate and consistent with applicable law, consider amending the Federal Acquisition Regulation to take into account the guidance established under subsection 4.5 of this section.\\n\\n4.6', metadata={'source': 'white_house_executive_order_nov_2023.html'}), Document(page_content='.5 of this section.\\n\\n4.6.\\xa0 Soliciting Input on Dual-Use Foundation Models with Widely Available Model Weights', metadata={'source': 'white_house_executive_order_nov_2023.html'}), Document(page_content='.\\xa0 When the weights for a dual-use foundation model are widely available — such as when they are publicly posted on the Internet — there can be substantial benefits to innovation, but also substantial security risks, such as the removal of safeguards within the model', metadata={'source': 'white_house_executive_order_nov_2023.html'}), Document(page_content='. \\xa0To address the risks and potential benefits of dual-use foundation models with widely available weights, within 270 days of the date of this order, the Secretary of Commerce, acting through the Assistant Secretary of Commerce for Communications and Information, and in consultation with the Secretary of State, shall:\\n\\n(a)\\xa0 solicit input from the private sector, academia, civil society, and other stakeholders through a public consultation process on potential risks, benefits, other implications, and appropriate policy and regulatory approaches related to dual-use foundation models for which the model weights are widely available, including:\\n\\n(i)\\xa0 \\xa0\\xa0risks associated with actors fine-tuning dual-use foundation models for which the model weights are widely available or removing those models’ safeguards;\\n\\n(ii)\\xa0 \\xa0benefits to AI innovation and research, including research into AI safety and risk management, of dual-use foundation models for which the model weights are widely available; and\\n\\n(iii)\\xa0 potential voluntary, regulatory, and international mechanisms to manage the risks and maximize the benefits of dual-use foundation models for which the model weights are widely available; and\\n\\n(b)\\xa0 based on input from the process described in subsection 4', metadata={'source': 'white_house_executive_order_nov_2023.html'}), Document(page_content='.6(a) of this section, and in consultation with the heads of other relevant agencies as the Secretary of Commerce deems appropriate, submit a report to the President on the potential benefits, risks, and implications of dual-use foundation models for which the model weights are widely available, as well as policy and regulatory recommendations pertaining to those models', metadata={'source': 'white_house_executive_order_nov_2023.html'}), Document(page_content='.\\n\\n4.7.\\xa0 Promoting Safe Release and Preventing the Malicious Use of Federal Data for AI Training', metadata={'source': 'white_house_executive_order_nov_2023.html'}), Document(page_content='.To improve public data access and manage security risks, and consistent with the objectives of the Open, Public, Electronic, and Necessary Government Data Act (title II of Public Law 115-435) to expand public access to Federal data assets in a machine-readable format while also taking into account security considerations, including the risk that information in an individual data asset in isolation does not pose a security risk but, when combined with other available information, may pose such a risk:\\n\\n(a)\\xa0 within 270 days of the date of this order, the Chief Data Officer Council, in consultation with the Secretary of Defense, the Secretary of Commerce, the Secretary of Energy, the Secretary of Homeland Security, and the Director of National Intelligence, shall develop initial guidelines for performing security reviews, including reviews to identify and manage the potential security risks of releasing Federal data that could aid in the development of CBRN weapons as well as the development of autonomous offensive cyber capabilities, while also providing public access to Federal Government data in line with the goals stated in the Open, Public, Electronic, and Necessary Government Data Act (title II of Public Law 115-435); and\\n\\n(b)\\xa0 within 180 days of the development of the initial guidelines required by subsection 4', metadata={'source': 'white_house_executive_order_nov_2023.html'}), Document(page_content='.7(a) of this section, agencies shall conduct a security review of all data assets in the comprehensive data inventory required under 44 U.S.C', metadata={'source': 'white_house_executive_order_nov_2023.html'}), Document(page_content='.S.C. 3511(a)(1) and (2)(B) and shall take steps, as appropriate and consistent with applicable law, to address the highest-priority potential security risks that releasing that data could raise with respect to CBRN weapons, such as the ways in which that data could be used to train AI systems.\\n\\n4.8', metadata={'source': 'white_house_executive_order_nov_2023.html'}), Document(page_content='.\\n\\n4.8.\\xa0 Directing the Development of a National Security Memorandum', metadata={'source': 'white_house_executive_order_nov_2023.html'}), Document(page_content='.\\xa0 To develop a coordinated executive branch approach to managing AI’s security risks, the Assistant to the President for National Security Affairs and the Assistant to the President and Deputy Chief of Staff for Policy shall oversee an interagency process with the purpose of, within 270 days of the date of this order, developing and submitting a proposed National Security Memorandum on AI to the President', metadata={'source': 'white_house_executive_order_nov_2023.html'}), Document(page_content='.\\xa0 The memorandum shall address the governance of AI used as a component of a national security system or for military and intelligence purposes.\\xa0 The memorandum shall take into account current efforts to govern the development and use of AI for national security systems', metadata={'source': 'white_house_executive_order_nov_2023.html'}), Document(page_content='.\\xa0 The memorandum shall outline actions for the Department of Defense, the Department of State, other relevant agencies, and the Intelligence Community to address the national security risks and potential benefits posed by AI', metadata={'source': 'white_house_executive_order_nov_2023.html'}), Document(page_content='.\\xa0 In particular, the memorandum shall:\\n\\n(a)\\xa0 provide guidance to the Department of Defense, other relevant agencies, and the Intelligence Community on the continued adoption of AI capabilities to advance the United States national security mission, including through directing specific AI assurance and risk-management practices for national security uses of AI that may affect the rights or safety of United States persons and, in appropriate contexts, non-United States persons; and\\n\\n(b)\\xa0 direct continued actions, as appropriate and consistent with applicable law, to address the potential use of AI systems by adversaries and other foreign actors in ways that threaten the capabilities or objectives of the Department of Defense or the Intelligence Community, or that otherwise pose risks to the security of the United States or its allies and partners', metadata={'source': 'white_house_executive_order_nov_2023.html'}), Document(page_content='.\\n\\nSec. 5. Promoting Innovation and Competition.\\n\\n5.1.\\xa0 Attracting AI Talent to the United States', metadata={'source': 'white_house_executive_order_nov_2023.html'}), Document(page_content='.\\xa0 (a)\\xa0 Within 90 days of the date of this order, to attract and retain talent in AI and other critical and emerging technologies in the United States economy, the Secretary of State and the Secretary of Homeland Security shall take appropriate steps to:\\n\\n(i) \\xa0\\xa0streamline processing times of visa petitions and applications, including by ensuring timely availability of visa appointments, for noncitizens who seek to travel to the United States to work on, study, or conduct research in AI or other critical and emerging technologies; and\\n\\n(ii)\\xa0 facilitate continued availability of visa appointments in sufficient volume for applicants with expertise in AI or other critical and emerging technologies', metadata={'source': 'white_house_executive_order_nov_2023.html'}), Document(page_content='.\\n\\n(b)\\xa0 Within 120 days of the date of this order, the Secretary of State shall:\\n\\n(i) \\xa0\\xa0\\xa0consider initiating a rulemaking to establish new criteria to designate countries and skills on the Department of State’s Exchange Visitor Skills List as it relates to the 2-year foreign residence requirement for certain J-1 nonimmigrants, including those skills that are critical to the United States;\\n\\n(ii) \\xa0\\xa0consider publishing updates to the 2009 Revised Exchange Visitor Skills List (74 FR 20108); and\\n\\n(iii)\\xa0 consider implementing a domestic visa renewal program under 22 C', metadata={'source': 'white_house_executive_order_nov_2023.html'}), Document(page_content='.F.R. 41.111(b) to facilitate the ability of qualified applicants, including highly skilled talent in AI and critical and emerging technologies, to continue their work in the United States without unnecessary interruption', metadata={'source': 'white_house_executive_order_nov_2023.html'}), Document(page_content='.\\n\\n(c)\\xa0 Within 180 days of the date of this order, the Secretary of State shall:\\n\\n(i) \\xa0\\xa0consider initiating a rulemaking to expand the categories of nonimmigrants who qualify for the domestic visa renewal program covered under 22 C.F.R. 41', metadata={'source': 'white_house_executive_order_nov_2023.html'}), Document(page_content='.111(b) to include academic J-1 research scholars and F-1 students in science, technology, engineering, and mathematics (STEM); and\\n\\n(ii)\\xa0 establish, to the extent permitted by law and available appropriations, a program to identify and attract top talent in AI and other critical and emerging technologies at universities, research institutions, and the private sector overseas, and to establish and increase connections with that talent to educate them on opportunities and resources for research and employment in the United States, including overseas educational components to inform top STEM talent of nonimmigrant and immigrant visa options and potential expedited adjudication of their visa petitions and applications', metadata={'source': 'white_house_executive_order_nov_2023.html'}), Document(page_content='.\\n\\n(d)\\xa0 Within 180 days of the date of this order, the Secretary of Homeland Security shall:\\n\\n(i) \\xa0\\xa0review and initiate any policy changes the Secretary determines necessary and appropriate to clarify and modernize immigration pathways for experts in AI and other critical and emerging technologies, including O-1A and EB-1 noncitizens of extraordinary ability; EB-2 advanced-degree holders and noncitizens of exceptional ability; and startup founders in AI and other critical and emerging technologies using the International Entrepreneur Rule; and\\n\\n(ii)\\xa0 continue its rulemaking process to modernize the H-1B program and enhance its integrity and usage, including by experts in AI and other critical and emerging technologies, and consider initiating a rulemaking to enhance the process for noncitizens, including experts in AI and other critical and emerging technologies and their spouses, dependents, and children, to adjust their status to lawful permanent resident', metadata={'source': 'white_house_executive_order_nov_2023.html'}), Document(page_content='.\\n\\n(e)\\xa0 Within 45 days of the date of this order, for purposes of considering updates to the “Schedule A” list of occupations, 20 C.F.R. 656', metadata={'source': 'white_house_executive_order_nov_2023.html'}), Document(page_content='.5, the Secretary of Labor shall publish a request for information (RFI) to solicit public input, including from industry and worker-advocate communities, identifying AI and other STEM-related occupations, as well as additional occupations across the economy, for which there is an insufficient number of ready, willing, able, and qualified United States workers', metadata={'source': 'white_house_executive_order_nov_2023.html'}), Document(page_content='.\\n\\n(f)\\xa0 The Secretary of State and the Secretary of Homeland Security shall, consistent with applicable law and implementing regulations, use their discretionary authorities to support and attract foreign nationals with special skills in AI and other critical and emerging technologies seeking to work, study, or conduct research in the United States', metadata={'source': 'white_house_executive_order_nov_2023.html'}), Document(page_content='.\\n\\n(g)\\xa0 Within 120 days of the date of this order, the Secretary of Homeland Security, in consultation with the Secretary of State, the Secretary of Commerce, and the Director of OSTP, shall develop and publish informational resources to better attract and retain experts in AI and other critical and emerging technologies, including:\\n\\n(i) \\xa0\\xa0a clear and comprehensive guide for experts in AI and other critical and emerging technologies to understand their options for working in the United States, to be published in multiple relevant languages on AI', metadata={'source': 'white_house_executive_order_nov_2023.html'}), Document(page_content='.gov; and\\n\\n(ii)\\xa0 a public report with relevant data on applications, petitions, approvals, and other key indicators of how experts in AI and other critical and emerging technologies have utilized the immigration system through the end of Fiscal Year 2023.\\n\\n5.2.\\xa0 Promoting Innovation', metadata={'source': 'white_house_executive_order_nov_2023.html'}), Document(page_content='.\\xa0 (a)\\xa0 To develop and strengthen public-private partnerships for advancing innovation, commercialization, and risk-mitigation methods for AI, and to help promote safe, responsible, fair, privacy-protecting, and trustworthy AI systems, the Director of NSF shall take the following steps:\\n\\n(i) \\xa0\\xa0\\xa0Within 90 days of the date of this order, in coordination with the heads of agencies that the Director of NSF deems appropriate, launch a pilot program implementing the National AI Research Resource (NAIRR), consistent with past recommendations of the NAIRR Task Force', metadata={'source': 'white_house_executive_order_nov_2023.html'}), Document(page_content='.\\xa0 The program shall pursue the infrastructure, governance mechanisms, and user interfaces to pilot an initial integration of distributed computational, data, model, and training resources to be made available to the research community in support of AI-related research and development', metadata={'source': 'white_house_executive_order_nov_2023.html'}), Document(page_content='.\\xa0 The Director of NSF shall identify Federal and private sector computational, data, software, and training resources appropriate for inclusion in the NAIRR pilot program', metadata={'source': 'white_house_executive_order_nov_2023.html'}), Document(page_content='.\\xa0 To assist with such work, within 45 days of the date of this order, the heads of agencies whom the Director of NSF identifies for coordination pursuant to this subsection shall each submit to the Director of NSF a report identifying the agency resources that could be developed and integrated into such a pilot program', metadata={'source': 'white_house_executive_order_nov_2023.html'}), Document(page_content='.\\xa0 These reports shall include a description of such resources, including their current status and availability; their format, structure, or technical specifications; associated agency expertise that will be provided; and the benefits and risks associated with their inclusion in the NAIRR pilot program', metadata={'source': 'white_house_executive_order_nov_2023.html'}), Document(page_content='.\\xa0 The heads of independent regulatory agencies are encouraged to take similar steps, as they deem appropriate', metadata={'source': 'white_house_executive_order_nov_2023.html'}), Document(page_content='.\\n\\n(ii) \\xa0\\xa0Within 150 days of the date of this order, fund and launch at least one NSF Regional Innovation Engine that prioritizes AI-related work, such as AI-related research, societal, or workforce needs', metadata={'source': 'white_house_executive_order_nov_2023.html'}), Document(page_content='.\\n\\n(iii)\\xa0 Within 540 days of the date of this order, establish at least four new National AI Research Institutes, in addition to the 25 currently funded as of the date of this order', metadata={'source': 'white_house_executive_order_nov_2023.html'}), Document(page_content='.\\n\\n(b)\\xa0 Within 120 days of the date of this order, to support activities involving high-performance and data-intensive computing, the Secretary of Energy, in coordination with the Director of NSF, shall, in a manner consistent with applicable law and available appropriations, establish a pilot program to enhance existing successful training programs for scientists, with the goal of training 500 new researchers by 2025 capable of meeting the rising demand for AI talent', metadata={'source': 'white_house_executive_order_nov_2023.html'}), Document(page_content='.\\n\\n(c)\\xa0 To promote innovation and clarify issues related to AI and inventorship of patentable subject matter, the Under Secretary of Commerce for Intellectual Property and Director of the United States Patent and Trademark Office (USPTO Director) shall:\\n\\n(i)\\xa0 \\xa0\\xa0within 120 days of the date of this order, publish guidance to USPTO patent examiners and applicants addressing inventorship and the use of AI, including generative AI, in the inventive process, including illustrative examples in which AI systems play different roles in inventive processes and how, in each example, inventorship issues ought to be analyzed;\\n\\n(ii) \\xa0\\xa0subsequently, within 270 days of the date of this order, issue additional guidance to USPTO patent examiners and applicants to address other considerations at the intersection of AI and IP, which could include, as the USPTO Director deems necessary, updated guidance on patent eligibility to address innovation in AI and critical and emerging technologies; and\\n\\n(iii)\\xa0 within 270 days of the date of this order or 180 days after the\\xa0United States Copyright Office of the Library of Congress publishes its forthcoming AI study that will address copyright issues raised by AI, whichever comes later, consult with the Director of the United States Copyright Office and issue recommendations to the President on potential executive actions relating to copyright and AI', metadata={'source': 'white_house_executive_order_nov_2023.html'}), Document(page_content='.\\xa0 The recommendations shall address any copyright and related issues discussed in the United States Copyright Office’s study, including the scope of protection for works produced using AI and the treatment of copyrighted works in AI training', metadata={'source': 'white_house_executive_order_nov_2023.html'}), Document(page_content='.\\n\\n(d)\\xa0 Within 180 days of the date of this order, to assist developers of AI in combatting AI-related IP risks, the Secretary of Homeland Security, acting through the Director of the National Intellectual Property Rights Coordination Center, and in consultation with the Attorney General, shall develop a training, analysis, and evaluation program to mitigate AI-related IP risks', metadata={'source': 'white_house_executive_order_nov_2023.html'}), Document(page_content='.\\xa0 Such a program shall:\\n\\n(i)\\xa0 \\xa0\\xa0include appropriate personnel dedicated to collecting and analyzing reports of AI-related IP theft, investigating such incidents with implications for national security, and, where appropriate and consistent with applicable law, pursuing related enforcement actions;\\n\\n(ii) \\xa0\\xa0implement a policy of sharing information and coordinating on such work, as appropriate and consistent with applicable law, with the Federal Bureau of Investigation; United States Customs and Border Protection; other agencies; State and local agencies; and appropriate international organizations, including through work-sharing agreements;\\n\\n(iii)\\xa0 develop guidance and other appropriate resources to assist private sector actors with mitigating the risks of AI-related IP theft;\\n\\n(iv) \\xa0\\xa0share information and best practices with AI developers and law enforcement personnel to identify incidents, inform stakeholders of current legal requirements, and evaluate AI systems for IP law violations, as well as develop mitigation strategies and resources; and\\n\\n(v) \\xa0\\xa0\\xa0assist the Intellectual Property Enforcement Coordinator in updating the Intellectual Property Enforcement Coordinator Joint Strategic Plan on Intellectual Property Enforcement to address AI-related issues', metadata={'source': 'white_house_executive_order_nov_2023.html'}), Document(page_content='.\\n\\n(e)\\xa0 To advance responsible AI innovation by a wide range of healthcare technology developers that promotes the welfare of patients and workers in the healthcare sector, the Secretary of HHS shall identify and, as appropriate and consistent with applicable law and the activities directed in section 8 of this order, prioritize grantmaking and other awards, as well as undertake related efforts, to support responsible AI development and use, including:\\n\\n(i) \\xa0\\xa0\\xa0collaborating with appropriate private sector actors through HHS programs that may support the advancement of AI-enabled tools that develop personalized immune-response profiles for patients, consistent with section 4 of this order;\\n\\n(ii) \\xa0\\xa0prioritizing the allocation of 2024 Leading Edge Acceleration Project cooperative agreement awards to initiatives that explore ways to improve healthcare-data quality to support the responsible development of AI tools for clinical care, real-world-evidence programs, population health, public health, and related research; and\\n\\n(iii)\\xa0 accelerating grants awarded through the National Institutes of Health Artificial Intelligence/Machine Learning Consortium to Advance Health Equity and Researcher Diversity (AIM-AHEAD) program and showcasing current AIM-AHEAD activities in underserved communities', metadata={'source': 'white_house_executive_order_nov_2023.html'}), Document(page_content='.\\n\\n(f) \\xa0To advance the development of AI systems that improve the quality of veterans’ healthcare, and in order to support small businesses’ innovative capacity, the Secretary of Veterans Affairs shall:\\n\\n(i) \\xa0\\xa0within 365 days of the date of this order, host two 3-month nationwide AI Tech Sprint competitions; and\\n\\n(ii)\\xa0 as part of the AI Tech Sprint competitions and in collaboration with appropriate partners, provide participants access to technical assistance, mentorship opportunities, individualized expert feedback on products under development, potential contract opportunities, and other programming and resources', metadata={'source': 'white_house_executive_order_nov_2023.html'}), Document(page_content='.\\n\\n(g)\\xa0 Within 180 days of the date of this order, to support the goal of strengthening our Nation’s resilience against climate change impacts and building an equitable clean energy economy for the future, the Secretary of Energy, in consultation with the Chair of the Federal Energy Regulatory Commission, the Director of OSTP, the Chair of the Council on Environmental Quality, the Assistant to the President and National Climate Advisor, and the heads of other relevant agencies as the Secretary of Energy may deem appropriate, shall:\\n\\n(i) \\xa0\\xa0\\xa0issue a public report describing the potential for AI to improve planning, permitting, investment, and operations for electric grid infrastructure and to enable the provision of clean, affordable, reliable, resilient, and secure electric power to all Americans;\\n\\n(ii) \\xa0\\xa0develop tools that facilitate building foundation models useful for basic and applied science, including models that streamline permitting and environmental reviews while improving environmental and social outcomes;\\n\\n(iii)\\xa0 collaborate, as appropriate, with private sector organizations and members of academia to support development of AI tools to mitigate climate change risks;\\n\\n(iv) \\xa0\\xa0take steps to expand partnerships with industry, academia, other agencies, and international allies and partners to utilize the Department of Energy’s computing capabilities and AI testbeds to build foundation models that support new applications in science and energy, and for national security, including partnerships that increase community preparedness for climate-related risks, enable clean-energy deployment (including addressing delays in permitting reviews), and enhance grid reliability and resilience; and\\n\\n(v) \\xa0\\xa0\\xa0establish an office to coordinate development of AI and other critical and emerging technologies across Department of Energy programs and the 17 National Laboratories', metadata={'source': 'white_house_executive_order_nov_2023.html'}), Document(page_content='.\\n\\n(h)\\xa0 Within 180 days of the date of this order, to understand AI’s implications for scientific research, the President’s Council of Advisors on Science and Technology shall submit to the President and make publicly available a report on the potential role of AI, especially given recent developments in AI, in research aimed at tackling major societal and global challenges', metadata={'source': 'white_house_executive_order_nov_2023.html'}), Document(page_content='.\\xa0 The report shall include a discussion of issues that may hinder the effective use of AI in research and practices needed to ensure that AI is used responsibly for research.\\n\\n5.3.\\xa0 Promoting Competition', metadata={'source': 'white_house_executive_order_nov_2023.html'}), Document(page_content='.\\n\\n5.3.\\xa0 Promoting Competition.\\xa0 (a)\\xa0 The head of each agency developing policies and regulations related to AI shall use their authorities, as appropriate and consistent with applicable law, to promote competition in AI and related technologies, as well as in other markets', metadata={'source': 'white_house_executive_order_nov_2023.html'}), Document(page_content='.\\xa0 Such actions include addressing risks arising from concentrated control of key inputs, taking steps to stop unlawful collusion and prevent dominant firms from disadvantaging competitors, and working to provide new opportunities for small businesses and entrepreneurs', metadata={'source': 'white_house_executive_order_nov_2023.html'}), Document(page_content='.\\xa0 In particular, the Federal Trade Commission is encouraged to consider, as it deems appropriate, whether to exercise the Commission’s existing authorities, including its rulemaking authority under the Federal Trade Commission Act, 15 U.S.C. 41 et seq', metadata={'source': 'white_house_executive_order_nov_2023.html'}), Document(page_content='.S.C. 41 et seq., to ensure fair competition in the AI marketplace and to ensure that consumers and workers are protected from harms that may be enabled by the use of AI', metadata={'source': 'white_house_executive_order_nov_2023.html'}), Document(page_content='.\\n\\n(b)\\xa0 To promote competition and innovation in the semiconductor industry, recognizing that semiconductors power AI technologies and that their availability is critical to AI competition, the Secretary of Commerce shall, in implementing division A of Public Law 117-167, known as the Creating Helpful Incentives to Produce Semiconductors (CHIPS) Act of 2022, promote competition by:\\n\\n(i) \\xa0\\xa0\\xa0implementing a flexible membership structure for the National Semiconductor Technology Center that attracts all parts of the semiconductor and microelectronics ecosystem, including startups and small firms;\\n\\n(ii) \\xa0\\xa0implementing mentorship programs to increase interest and participation in the semiconductor industry, including from workers in underserved communities;\\n\\n(iii)\\xa0 increasing, where appropriate and to the extent permitted by law, the availability of resources to startups and small businesses, including:\\n\\n(A)\\xa0 funding for physical assets, such as specialty equipment or facilities, to which startups and small businesses may not otherwise have access;\\n\\n(B)\\xa0 datasets — potentially including test and performance data — collected, aggregated, or shared by CHIPS research and development programs;\\n\\n(C)\\xa0 workforce development programs;\\n\\n(D)\\xa0 design and process technology, as well as IP, as appropriate; and\\n\\n(E)\\xa0 other resources, including technical and intellectual property assistance, that could accelerate commercialization of new technologies by startups and small businesses, as appropriate; and\\n\\n(iv) \\xa0\\xa0considering the inclusion, to the maximum extent possible, and as consistent with applicable law, of competition-increasing measures in notices of funding availability for commercial research-and-development facilities focused on semiconductors, including measures that increase access to facility capacity for startups or small firms developing semiconductors used to power AI technologies', metadata={'source': 'white_house_executive_order_nov_2023.html'}), Document(page_content='.\\n\\n(c)\\xa0 To support small businesses innovating and commercializing AI, as well as in responsibly adopting and deploying AI, the Administrator of the Small Business Administration shall:\\n\\n(i) \\xa0\\xa0\\xa0prioritize the allocation of Regional Innovation Cluster program funding for clusters that support planning activities related to the establishment of one or more Small Business AI Innovation and Commercialization Institutes that provide support, technical assistance, and other resources to small businesses seeking to innovate, commercialize, scale, or otherwise advance the development of AI;\\n\\n(ii) \\xa0\\xa0prioritize the allocation of up to $2 million in Growth Accelerator Fund Competition bonus prize funds for accelerators that support the incorporation or expansion of AI-related curricula, training, and technical assistance, or other AI-related resources within their programming; and\\n\\n(iii)\\xa0 assess the extent to which the eligibility criteria of existing programs, including the State Trade Expansion Program, Technical and Business Assistance funding, and capital-access programs — such as the 7(a) loan program, 504 loan program, and Small Business Investment Company (SBIC) program — support appropriate expenses by small businesses related to the adoption of AI and, if feasible and appropriate, revise eligibility criteria to improve support for these expenses', metadata={'source': 'white_house_executive_order_nov_2023.html'}), Document(page_content='.\\n\\n(d)\\xa0 The Administrator of the Small Business Administration, in coordination with resource partners, shall conduct outreach regarding, and raise awareness of, opportunities for small businesses to use capital-access programs described in subsection 5', metadata={'source': 'white_house_executive_order_nov_2023.html'}), Document(page_content='.3(c) of this section for eligible AI-related purposes, and for eligible investment funds with AI-related expertise — particularly those seeking to serve or with experience serving underserved communities — to apply for an SBIC license.\\n\\nSec. 6. \\xa0Supporting Workers', metadata={'source': 'white_house_executive_order_nov_2023.html'}), Document(page_content='.(a)\\xa0 To advance the Government’s understanding of AI’s implications for workers, the following actions shall be taken within 180 days of the date of this order:\\n\\n(i) \\xa0\\xa0The Chairman of the Council of Economic Advisers shall prepare and submit a report to the President on the labor-market effects of AI', metadata={'source': 'white_house_executive_order_nov_2023.html'}), Document(page_content='.\\n\\n(ii)\\xa0 To evaluate necessary steps for the Federal Government to address AI-related workforce disruptions, the Secretary of Labor shall submit to the President a report analyzing the abilities of agencies to support workers displaced by the adoption of AI and other technological advancements', metadata={'source': 'white_house_executive_order_nov_2023.html'}), Document(page_content='. \\xa0The report shall, at a minimum:\\n\\n(A)\\xa0 assess how current or formerly operational Federal programs designed to assist workers facing job disruptions — including unemployment insurance and programs authorized by the Workforce Innovation and Opportunity Act (Public Law 113-128) — could be used to respond to possible future AI-related disruptions; and\\n\\n(B)\\xa0 identify options, including potential legislative measures, to strengthen or develop additional Federal support for workers displaced by AI and, in consultation with the Secretary of Commerce and the Secretary of Education, strengthen and expand education and training opportunities that provide individuals pathways to occupations related to AI', metadata={'source': 'white_house_executive_order_nov_2023.html'}), Document(page_content='.\\n\\n(b)\\xa0 To help ensure that AI deployed in the workplace advances employees’ well-being:\\n\\n(i) \\xa0\\xa0\\xa0The Secretary of Labor shall, within 180 days of the date of this order and in consultation with other agencies and with outside entities, including labor unions and workers, as the Secretary of Labor deems appropriate, develop and publish principles and best practices for employers that could be used to mitigate AI’s potential harms to employees’ well-being and maximize its potential benefits', metadata={'source': 'white_house_executive_order_nov_2023.html'}), Document(page_content='. \\xa0The principles and best practices shall include specific steps for employers to take with regard to AI, and shall cover, at a minimum:\\n\\n(A)\\xa0 job-displacement risks and career opportunities related to AI, including effects on job skills and evaluation of applicants and workers;\\n\\n(B)\\xa0 labor standards and job quality, including issues related to the equity, protected-activity, compensation, health, and safety implications of AI in the workplace; and\\n\\n(C)\\xa0 implications for workers of employers’ AI-related collection and use of data about them, including transparency, engagement, management, and activity protected under worker-protection laws', metadata={'source': 'white_house_executive_order_nov_2023.html'}), Document(page_content='.\\n\\n(ii) \\xa0\\xa0After principles and best practices are developed pursuant to subsection (b)(i) of this section, the heads of agencies shall consider, in consultation with the Secretary of Labor, encouraging the adoption of these guidelines in their programs to the extent appropriate for each program and consistent with applicable law', metadata={'source': 'white_house_executive_order_nov_2023.html'}), Document(page_content='.\\n\\n(iii)\\xa0 To support employees whose work is monitored or augmented by AI in being compensated appropriately for all of their work time, the Secretary of Labor shall issue guidance to make clear that employers that deploy AI to monitor or augment employees’ work must continue to comply with protections that ensure that workers are compensated for their hours worked, as defined under the Fair Labor Standards Act of 1938, 29 U', metadata={'source': 'white_house_executive_order_nov_2023.html'}), Document(page_content='.S.C. 201 et seq., and other legal requirements.\\n\\n(c)\\xa0 To foster a diverse AI-ready workforce, the Director of NSF shall prioritize available resources to support AI-related education and AI-related workforce development through existing programs', metadata={'source': 'white_house_executive_order_nov_2023.html'}), Document(page_content='. \\xa0The Director shall additionally consult with agencies, as appropriate, to identify further opportunities for agencies to allocate resources for those purposes. \\xa0The actions by the Director shall use appropriate fellowship programs and awards for these purposes.\\n\\nSec. 7', metadata={'source': 'white_house_executive_order_nov_2023.html'}), Document(page_content='.\\n\\nSec. 7. \\xa0Advancing Equity and Civil Rights.\\n\\n7.1. \\xa0Strengthening AI and Civil Rights in the Criminal Justice System', metadata={'source': 'white_house_executive_order_nov_2023.html'}), Document(page_content='.\\xa0 (a)\\xa0 To address unlawful discrimination and other harms that may be exacerbated by AI, the Attorney General shall:\\n\\n(i) \\xa0\\xa0\\xa0consistent with Executive Order 12250 of November 2, 1980 (Leadership and Coordination of Nondiscrimination Laws), Executive Order 14091, and 28 C.F.R. 0', metadata={'source': 'white_house_executive_order_nov_2023.html'}), Document(page_content='.50-51, coordinate with and support agencies in their implementation and enforcement of existing Federal laws to address civil rights and civil liberties violations and discrimination related to AI;\\n\\n(ii) \\xa0\\xa0direct the Assistant Attorney General in charge of the Civil Rights Division to convene, within 90 days of the date of this order, a meeting of the heads of Federal civil rights offices — for which meeting the heads of civil rights offices within independent regulatory agencies will be encouraged to join — to discuss comprehensive use of their respective authorities and offices to: \\xa0prevent and address discrimination in the use of automated systems, including algorithmic discrimination; increase coordination between the Department of Justice’s Civil Rights Division and Federal civil rights offices concerning issues related to AI and algorithmic discrimination; improve external stakeholder engagement to promote public awareness of potential discriminatory uses and effects of AI; and develop, as appropriate, additional training, technical assistance, guidance, or other resources; and\\n\\n(iii)\\xa0 consider providing, as appropriate and consistent with applicable law, guidance, technical assistance, and training to State, local, Tribal, and territorial investigators and prosecutors on best practices for investigating and prosecuting civil rights violations and discrimination related to automated systems, including AI', metadata={'source': 'white_house_executive_order_nov_2023.html'}), Document(page_content='.\\n\\n(b)\\xa0 To promote the equitable treatment of individuals and adhere to the Federal Government’s fundamental obligation to ensure fair and impartial justice for all, with respect to the use of AI in the criminal justice system, the Attorney General shall, in consultation with the Secretary of Homeland Security and the Director of OSTP:\\n\\n(i)\\xa0 \\xa0\\xa0within 365 days of the date of this order, submit to the President a report that addresses the use of AI in the criminal justice system, including any use in:\\n\\n(A) \\xa0sentencing;\\n\\n(B)\\xa0 parole, supervised release, and probation;\\n\\n(C)\\xa0 bail, pretrial release, and pretrial detention;\\n\\n(D)\\xa0 risk assessments, including pretrial, earned time, and early release or transfer to home-confinement determinations;\\n\\n(E)\\xa0 police surveillance;\\n\\n(F) \\xa0crime forecasting and predictive policing, including the ingestion of historical crime data into AI systems to predict high-density “hot spots”;\\n\\n(G) \\xa0prison-management tools; and\\n\\n(H)\\xa0 forensic analysis;\\n\\n(ii) \\xa0\\xa0within the report set forth in subsection 7', metadata={'source': 'white_house_executive_order_nov_2023.html'}), Document(page_content='.1(b)(i) of this section:\\n\\n(A)\\xa0 identify areas where AI can enhance law enforcement efficiency and accuracy, consistent with protections for privacy, civil rights, and civil liberties; and\\n\\n(B)\\xa0 recommend best practices for law enforcement agencies, including safeguards and appropriate use limits for AI, to address the concerns set forth in section 13(e)(i) of Executive Order 14074 as well as the best practices and the guidelines set forth in section 13(e)(iii) of Executive Order 14074; and\\n\\n(iii)\\xa0 supplement the report set forth in subsection 7', metadata={'source': 'white_house_executive_order_nov_2023.html'}), Document(page_content='.1(b)(i) of this section as appropriate with recommendations to the President, including with respect to requests for necessary legislation', metadata={'source': 'white_house_executive_order_nov_2023.html'}), Document(page_content='.\\n\\n(c)\\xa0 To advance the presence of relevant technical experts and expertise (such as machine-learning engineers, software and infrastructure engineering, data privacy experts, data scientists, and user experience researchers) among law enforcement professionals:\\n\\n(i) \\xa0\\xa0\\xa0The interagency working group created pursuant to section 3 of Executive Order 14074 shall, within 180 days of the date of this order, identify and share best practices for recruiting and hiring law enforcement professionals who have the technical skills mentioned in subsection 7', metadata={'source': 'white_house_executive_order_nov_2023.html'}), Document(page_content='.1(c) of this section, and for training law enforcement professionals about responsible application of AI', metadata={'source': 'white_house_executive_order_nov_2023.html'}), Document(page_content='.\\n\\n(ii) \\xa0\\xa0Within 270 days of the date of this order, the Attorney General shall, in consultation with the Secretary of Homeland Security, consider those best practices and the guidance developed under section 3(d) of Executive Order 14074 and, if necessary, develop additional general recommendations for State, local, Tribal, and territorial law enforcement agencies and criminal justice agencies seeking to recruit, hire, train, promote, and retain highly qualified and service-oriented officers and staff with relevant technical knowledge', metadata={'source': 'white_house_executive_order_nov_2023.html'}), Document(page_content='.\\xa0 In considering this guidance, the Attorney General shall consult with State, local, Tribal, and territorial law enforcement agencies, as appropriate', metadata={'source': 'white_house_executive_order_nov_2023.html'}), Document(page_content='.\\n\\n(iii)\\xa0 Within 365 days of the date of this order, the Attorney General shall review the work conducted pursuant to section 2(b) of Executive Order 14074 and, if appropriate, reassess the existing capacity to investigate law enforcement deprivation of rights under color of law resulting from the use of AI, including through improving and increasing training of Federal law enforcement officers, their supervisors, and Federal prosecutors on how to investigate and prosecute cases related to AI involving the deprivation of rights under color of law pursuant to 18 U', metadata={'source': 'white_house_executive_order_nov_2023.html'}), Document(page_content='.S.C. 242.\\n\\n7.2. \\xa0Protecting Civil Rights Related to Government Benefits and Programs.\\xa0 (a)\\xa0 To advance equity and civil rights, consistent with the directives of Executive Order 14091, and in addition to complying with the guidance on Federal Government use of AI issued pursuant to section 10', metadata={'source': 'white_house_executive_order_nov_2023.html'}), Document(page_content='.1(b) of this order, agencies shall use their respective civil rights and civil liberties offices and authorities — as appropriate and consistent with applicable law — to prevent and address unlawful discrimination and other harms that result from uses of AI in Federal Government programs and benefits administration', metadata={'source': 'white_house_executive_order_nov_2023.html'}), Document(page_content='. \\xa0This directive does not apply to agencies’ civil or criminal enforcement authorities', metadata={'source': 'white_house_executive_order_nov_2023.html'}), Document(page_content='.\\xa0 Agencies shall consider opportunities to ensure that their respective civil rights and civil liberties offices are appropriately consulted on agency decisions regarding the design, development, acquisition, and use of AI in Federal Government programs and benefits administration', metadata={'source': 'white_house_executive_order_nov_2023.html'}), Document(page_content='. \\xa0To further these objectives, agencies shall also consider opportunities to increase coordination, communication, and engagement about AI as appropriate with community-based organizations; civil-rights and civil-liberties organizations; academic institutions; industry; State, local, Tribal, and territorial governments; and other stakeholders', metadata={'source': 'white_house_executive_order_nov_2023.html'}), Document(page_content='.\\n\\n(b)\\xa0 To promote equitable administration of public benefits:\\n\\n(i) \\xa0\\xa0The Secretary of HHS shall, within 180 days of the date of this order and in consultation with relevant agencies, publish\\xa0a plan, informed by the guidance issued pursuant to section 10', metadata={'source': 'white_house_executive_order_nov_2023.html'}), Document(page_content='.1(b) of this order, addressing the use of automated or algorithmic systems in the implementation by States and localities of public benefits and services administered by the Secretary, such as to promote: \\xa0assessment of access to benefits by qualified recipients; notice to recipients about the presence of such systems; regular evaluation to detect unjust denials; processes to retain appropriate levels of discretion of expert agency staff; processes to appeal denials to human reviewers; and analysis of whether algorithmic systems in use by benefit programs achieve equitable and just outcomes', metadata={'source': 'white_house_executive_order_nov_2023.html'}), Document(page_content='.\\n\\n(ii)\\xa0 The Secretary of Agriculture shall, within 180 days of the date of this order and as informed by the guidance issued pursuant to section 10', metadata={'source': 'white_house_executive_order_nov_2023.html'}), Document(page_content='.1(b) of this order, issue guidance to State, local, Tribal, and territorial public-benefits administrators on the use of automated or algorithmic systems in implementing benefits or in providing customer support for benefit programs administered by the Secretary, to ensure that programs using those systems:\\n\\n(A)\\xa0 maximize program access for eligible recipients;\\n\\n(B)\\xa0 employ automated or algorithmic systems in a manner consistent with any requirements for using merit systems personnel in public-benefits programs;\\n\\n(C) \\xa0identify instances in which reliance on automated or algorithmic systems would require notification by the State, local, Tribal, or territorial government to the Secretary;\\n\\n(D)\\xa0 identify instances when applicants and participants can appeal benefit determinations to a human reviewer for reconsideration and can receive other customer support from a human being;\\n\\n(E) \\xa0enable auditing and, if necessary, remediation of the logic used to arrive at an individual decision or determination to facilitate the evaluation of appeals; and\\n\\n(F)\\xa0 enable the analysis of whether algorithmic systems in use by benefit programs achieve equitable outcomes', metadata={'source': 'white_house_executive_order_nov_2023.html'}), Document(page_content='.\\n\\n7.3. \\xa0Strengthening AI and Civil Rights in the Broader Economy', metadata={'source': 'white_house_executive_order_nov_2023.html'}), Document(page_content='.\\xa0 (a)\\xa0 Within 365 days of the date of this order, to prevent unlawful discrimination from AI used for hiring, the Secretary of Labor shall publish guidance for Federal contractors regarding nondiscrimination in hiring involving AI and other technology-based hiring systems', metadata={'source': 'white_house_executive_order_nov_2023.html'}), Document(page_content='.\\n\\n(b)\\xa0 To address discrimination and biases against protected groups in housing markets and consumer financial markets, the Director of the Federal Housing Finance Agency and the Director of the Consumer Financial Protection Bureau are encouraged to consider using their authorities, as they deem appropriate, to require their respective regulated entities, where possible, to use appropriate methodologies including AI tools to ensure compliance with Federal law and:\\n\\n(i) \\xa0\\xa0evaluate their underwriting models for bias or disparities affecting protected groups; and\\n\\n(ii)\\xa0 evaluate automated collateral-valuation and appraisal processes in ways that minimize bias', metadata={'source': 'white_house_executive_order_nov_2023.html'}), Document(page_content='.\\n\\n(c)\\xa0 Within 180 days of the date of this order, to combat unlawful discrimination enabled by automated or algorithmic tools used to make decisions about access to housing and in other real estate-related transactions, the Secretary of Housing and Urban Development shall, and the Director of the Consumer Financial Protection Bureau is encouraged to, issue additional guidance:\\n\\n(i) \\xa0\\xa0addressing the use of tenant screening systems in ways that may violate the Fair Housing Act (Public Law 90-284), the Fair Credit Reporting Act (Public Law 91-508), or other relevant Federal laws, including how the use of data, such as criminal records, eviction records, and credit information, can lead to discriminatory outcomes in violation of Federal law; and\\n\\n(ii)\\xa0 addressing how the Fair Housing Act, the Consumer Financial Protection Act of 2010 (title X of Public Law 111-203), or the Equal Credit Opportunity Act (Public Law 93-495) apply to the advertising of housing, credit, and other real estate-related transactions through digital platforms, including those that use algorithms to facilitate advertising delivery, as well as on best practices to avoid violations of Federal law', metadata={'source': 'white_house_executive_order_nov_2023.html'}), Document(page_content='.\\n\\n(d)\\xa0 To help ensure that people with disabilities benefit from AI’s promise while being protected from its risks, including unequal treatment from the use of biometric data like gaze direction, eye tracking, gait analysis, and hand motions, the Architectural and Transportation Barriers Compliance Board is encouraged, as it deems appropriate, to solicit public participation and conduct community engagement; to issue technical assistance and recommendations on the risks and benefits of AI in using biometric data as an input; and to provide people with disabilities access to information and communication technology and transportation services', metadata={'source': 'white_house_executive_order_nov_2023.html'}), Document(page_content='.\\n\\nSec. 8. \\xa0Protecting Consumers, Patients, Passengers, and Students', metadata={'source': 'white_house_executive_order_nov_2023.html'}), Document(page_content='.\\xa0 (a) \\xa0Independent regulatory agencies are encouraged, as they deem appropriate, to consider using their full range of authorities to protect American consumers from fraud, discrimination, and threats to privacy and to address other risks that may arise from the use of AI, including risks to financial stability, and to consider rulemaking, as well as emphasizing or clarifying where existing regulations and guidance apply to AI, including clarifying the responsibility of regulated entities to conduct due diligence on and monitor any third-party AI services they use, and emphasizing or clarifying requirements and expectations related to the transparency of AI models and regulated entities’ ability to explain their use of AI models', metadata={'source': 'white_house_executive_order_nov_2023.html'}), Document(page_content='.\\n\\n(b)\\xa0 To help ensure the safe, responsible deployment and use of AI in the healthcare, public-health, and human-services sectors:\\n\\n(i)\\xa0 \\xa0\\xa0Within 90 days of the date of this order, the Secretary of HHS shall, in consultation with the Secretary of Defense and the Secretary of Veterans Affairs, establish an HHS AI Task Force that shall, within 365 days of its creation, develop a strategic plan that includes policies and frameworks — possibly including regulatory action, as appropriate — on responsible deployment and use of AI and AI-enabled technologies in the health and human services sector (including research and discovery, drug and device safety, healthcare delivery and financing, and public health), and identify appropriate guidance and\\n\\nresources to promote that deployment, including in the following areas:\\n\\n(A)\\xa0 development, maintenance, and use of predictive and generative AI-enabled technologies in healthcare delivery and financing — including quality measurement, performance improvement, program integrity, benefits administration, and patient experience — taking into account considerations such as appropriate human oversight of the application of AI-generated output;\\n\\n(B) \\xa0long-term safety and real-world performance monitoring of AI-enabled technologies in the health and human services sector, including clinically relevant or significant modifications and performance across population groups, with a means to communicate product updates to regulators, developers, and users;\\n\\n(C)\\xa0 incorporation of equity principles in AI-enabled technologies used in the health and human services sector, using disaggregated data on affected populations and representative population data sets when developing new models, monitoring algorithmic performance against discrimination and bias in existing models, and helping to identify and mitigate discrimination and bias in current systems;\\n\\n(D)\\xa0 incorporation of safety, privacy, and security standards into the software-development lifecycle for protection of personally identifiable information, including measures to address AI-enhanced cybersecurity threats in the health and human services sector;\\n\\n(E)\\xa0 development, maintenance, and availability of documentation to help users determine appropriate and safe uses of AI in local settings in the health and human services sector;\\n\\n(F)\\xa0 work to be done with State, local, Tribal, and territorial health and human services agencies to advance positive use cases and best practices for use of AI in local settings; and\\n\\n(G)\\xa0 identification of uses of AI to promote workplace efficiency and satisfaction in the health and human services sector, including reducing administrative burdens', metadata={'source': 'white_house_executive_order_nov_2023.html'}), Document(page_content='.\\n\\n(ii) \\xa0\\xa0Within 180 days of the date of this order, the Secretary of HHS shall direct HHS components, as the Secretary of HHS deems appropriate, to develop a strategy, in consultation with relevant agencies, to determine whether AI-enabled technologies in the health and human services sector maintain appropriate levels of quality, including, as appropriate, in the areas described in subsection (b)(i) of this section', metadata={'source': 'white_house_executive_order_nov_2023.html'}), Document(page_content='. \\xa0This work shall include the development of AI assurance policy — to evaluate important aspects of the performance of AI-enabled healthcare tools — and infrastructure needs for enabling pre-market assessment and post-market oversight of AI-enabled healthcare-technology algorithmic system performance against real-world data', metadata={'source': 'white_house_executive_order_nov_2023.html'}), Document(page_content='.\\n\\n(iii) \\xa0Within 180 days of the date of this order, the Secretary of HHS shall, in consultation with relevant agencies as the Secretary of HHS deems appropriate, consider appropriate actions to advance the prompt understanding of, and compliance with, Federal nondiscrimination laws by health and human services providers that receive Federal financial assistance, as well as how those laws relate to AI', metadata={'source': 'white_house_executive_order_nov_2023.html'}), Document(page_content='.\\xa0 Such actions may include:\\n\\n(A)\\xa0 convening and providing technical assistance to health and human services providers and payers about their obligations under Federal nondiscrimination and privacy laws as they relate to AI and the potential consequences of noncompliance; and\\n\\n(B)\\xa0 issuing guidance, or taking other action as appropriate, in response to any complaints or other reports of noncompliance with Federal nondiscrimination and privacy laws as they relate to AI', metadata={'source': 'white_house_executive_order_nov_2023.html'}), Document(page_content='.\\n\\n(iv) \\xa0\\xa0Within 365 days of the date of this order, the Secretary of HHS shall, in consultation with the Secretary of Defense and the Secretary of Veterans Affairs, establish an AI safety program that, in partnership with voluntary federally listed Patient Safety Organizations:\\n\\n(A)\\xa0 establishes a common framework for approaches to identifying and capturing clinical errors resulting from AI deployed in healthcare settings as well as specifications for a central tracking repository for associated incidents that cause harm, including through bias or discrimination, to patients, caregivers, or other parties;\\n\\n(B)\\xa0 analyzes captured data and generated evidence to develop, wherever appropriate, recommendations, best practices, or other informal guidelines aimed at avoiding these harms; and\\n\\n(C)\\xa0 disseminates those recommendations, best practices, or other informal guidance to appropriate stakeholders, including healthcare providers', metadata={'source': 'white_house_executive_order_nov_2023.html'}), Document(page_content='.\\n\\n(v) \\xa0\\xa0\\xa0Within 365 days of the date of this order, the Secretary of HHS shall develop a strategy for regulating the use of AI or AI-enabled tools in drug-development processes', metadata={'source': 'white_house_executive_order_nov_2023.html'}), Document(page_content='.\\xa0 The strategy shall, at a minimum:\\n\\n(A)\\xa0 define the objectives, goals, and high-level principles required for appropriate regulation throughout each phase of drug development;\\n\\n(B)\\xa0 identify areas where future rulemaking, guidance, or additional statutory authority may be necessary to implement such a regulatory system;\\n\\n(C)\\xa0 identify the existing budget, resources, personnel, and potential for new public/private partnerships necessary for such a regulatory system; and\\n\\n(D) \\xa0consider risks identified by the actions undertaken to implement section 4 of this order', metadata={'source': 'white_house_executive_order_nov_2023.html'}), Document(page_content='.\\n\\n(c)\\xa0 To promote the safe and responsible development and use of AI in the transportation sector, in consultation with relevant agencies:\\n\\n(i)\\xa0 \\xa0\\xa0Within 30 days of the date of this order, the Secretary of Transportation shall direct the Nontraditional and Emerging Transportation Technology (NETT) Council to assess the need for information, technical assistance, and guidance regarding the use of AI in transportation', metadata={'source': 'white_house_executive_order_nov_2023.html'}), Document(page_content='.\\xa0 The Secretary of Transportation shall further direct the NETT Council, as part of any such efforts, to:\\n\\n(A)\\xa0 support existing and future initiatives to pilot transportation-related applications of AI, as they align with policy priorities articulated in the Department of Transportation’s (DOT) Innovation Principles, including, as appropriate, through technical assistance and connecting stakeholders;\\n\\n(B)\\xa0 evaluate the outcomes of such pilot programs in order to assess when DOT, or other Federal or State agencies, have sufficient information to take regulatory actions, as appropriate, and recommend appropriate actions when that information is available; and\\n\\n(C)\\xa0 establish a new DOT Cross-Modal Executive Working Group, which will consist of members from different divisions of DOT and coordinate applicable work among these divisions, to solicit and use relevant input from appropriate stakeholders', metadata={'source': 'white_house_executive_order_nov_2023.html'}), Document(page_content='.\\n\\n(ii) \\xa0\\xa0Within 90 days of the date of this order, the Secretary of Transportation shall direct appropriate Federal Advisory Committees of the DOT to provide advice on the safe and responsible use of AI in transportation', metadata={'source': 'white_house_executive_order_nov_2023.html'}), Document(page_content='.\\xa0 The committees shall include the Advanced Aviation Advisory Committee, the Transforming Transportation Advisory Committee, and the Intelligent Transportation Systems Program Advisory Committee', metadata={'source': 'white_house_executive_order_nov_2023.html'}), Document(page_content='.\\n\\n(iii)\\xa0 Within 180 days of the date of this order, the Secretary of Transportation shall direct the Advanced Research Projects Agency-Infrastructure (ARPA-I) to explore the transportation-related opportunities and challenges of AI — including regarding software-defined AI enhancements impacting autonomous mobility ecosystems', metadata={'source': 'white_house_executive_order_nov_2023.html'}), Document(page_content='. \\xa0The Secretary of Transportation shall further encourage ARPA-I to prioritize the allocation of grants to those opportunities, as appropriate. \\xa0The work tasked to ARPA-I shall include soliciting input on these topics through a public consultation process, such as an RFI', metadata={'source': 'white_house_executive_order_nov_2023.html'}), Document(page_content='.\\n\\n(d)\\xa0 To help ensure the responsible development and deployment of AI in the education sector, the Secretary of Education shall, within 365 days of the date of this order, develop resources, policies, and guidance regarding AI', metadata={'source': 'white_house_executive_order_nov_2023.html'}), Document(page_content='. \\xa0These resources shall address safe, responsible, and nondiscriminatory uses of AI in education, including the impact AI systems have on vulnerable and underserved communities, and shall be developed in consultation with stakeholders as appropriate', metadata={'source': 'white_house_executive_order_nov_2023.html'}), Document(page_content='. \\xa0They shall also include the development of an “AI toolkit” for education leaders implementing recommendations from the Department of Education’s AI and the Future of Teaching and Learning report, including appropriate human review of AI decisions, designing AI systems to enhance trust and safety and align with privacy-related laws and regulations in the educational context, and developing education-specific guardrails', metadata={'source': 'white_house_executive_order_nov_2023.html'}), Document(page_content='.\\n\\n(e)\\xa0 The Federal Communications Commission is encouraged to consider actions related to how AI will affect communications networks and consumers, including by:\\n\\n(i) \\xa0\\xa0\\xa0examining the potential for AI to improve spectrum management, increase the efficiency of non-Federal spectrum usage, and expand opportunities for the sharing of non-Federal spectrum;\\n\\n(ii) \\xa0\\xa0coordinating with the National Telecommunications and Information Administration to create opportunities for sharing spectrum between Federal and non-Federal spectrum operations;\\n\\n(iii)\\xa0 providing support for efforts to improve network security, resiliency, and interoperability using next-generation technologies that incorporate AI, including self-healing networks, 6G, and Open RAN; and\\n\\n(iv)\\xa0 \\xa0encouraging, including through rulemaking, efforts to combat unwanted robocalls and robotexts that are facilitated or exacerbated by AI and to deploy AI technologies that better serve consumers by blocking unwanted robocalls and robotexts', metadata={'source': 'white_house_executive_order_nov_2023.html'}), Document(page_content='.\\n\\nSec. 9. \\xa0Protecting Privacy', metadata={'source': 'white_house_executive_order_nov_2023.html'}), Document(page_content='.\\xa0 (a)\\xa0 To mitigate privacy risks potentially exacerbated by AI — including by AI’s facilitation of the collection or use of information about individuals, or the making of inferences about individuals — the Director of OMB shall:\\n\\n(i) \\xa0\\xa0\\xa0evaluate and take steps to identify commercially available information (CAI) procured by agencies, particularly CAI that contains personally identifiable information and including CAI procured from data brokers and CAI procured and processed indirectly through vendors, in appropriate agency inventory and reporting processes (other than when it is used for the purposes of national security);\\n\\n(ii) \\xa0\\xa0evaluate, in consultation with the Federal Privacy Council and the Interagency Council on Statistical Policy, agency standards and procedures associated with the collection, processing, maintenance, use, sharing, dissemination, and disposition of CAI that contains personally identifiable information (other than when it is used for the purposes of national security) to inform potential guidance to agencies on ways to mitigate privacy and confidentiality risks from agencies’ activities related to CAI;\\n\\n(iii)\\xa0 within 180 days of the date of this order, in consultation with the Attorney General, the Assistant to the President for Economic Policy, and the Director of OSTP, issue an RFI to inform potential revisions to guidance to agencies on implementing the privacy provisions of the E-Government Act of 2002 (Public\\xa0Law\\xa0107-347)', metadata={'source': 'white_house_executive_order_nov_2023.html'}), Document(page_content='.\\xa0 The RFI shall seek feedback regarding how\\xa0privacy impact assessments\\xa0may be\\xa0more effective at mitigating privacy risks, including those that are further exacerbated by AI; and\\n\\n(iv) \\xa0\\xa0take such steps as are necessary and appropriate, consistent with applicable law, to support and advance the near-term actions and long-term strategy identified through the RFI process, including issuing new or updated guidance or RFIs or consulting other agencies or the Federal Privacy Council', metadata={'source': 'white_house_executive_order_nov_2023.html'}), Document(page_content='.\\n\\n(b)\\xa0 Within 365 days of the date of this order, to better enable agencies to use PETs to safeguard Americans’ privacy from the potential threats exacerbated by AI, the Secretary of Commerce, acting through the Director of NIST, shall create guidelines for agencies to evaluate the efficacy of differential-privacy-guarantee protections, including for AI', metadata={'source': 'white_house_executive_order_nov_2023.html'}), Document(page_content='. \\xa0The guidelines shall, at a minimum, describe the significant factors that bear on differential-privacy safeguards and common risks to realizing differential privacy in practice', metadata={'source': 'white_house_executive_order_nov_2023.html'}), Document(page_content='.\\n\\n(c)\\xa0 To advance research, development, and implementation related to PETs:\\n\\n(i) \\xa0\\xa0\\xa0Within 120 days of the date of this order, the Director of NSF, in collaboration with the Secretary of Energy, shall fund the creation of a Research Coordination Network (RCN) dedicated to advancing privacy research and, in particular, the development, deployment, and scaling of PETs', metadata={'source': 'white_house_executive_order_nov_2023.html'}), Document(page_content='. \\xa0The RCN shall serve to enable privacy researchers to share information, coordinate and collaborate in research, and develop standards for the privacy-research community', metadata={'source': 'white_house_executive_order_nov_2023.html'}), Document(page_content='.\\n\\n(ii) \\xa0\\xa0Within 240 days of the date of this order, the Director of NSF shall engage with agencies to identify ongoing work and potential opportunities to incorporate PETs into their operations', metadata={'source': 'white_house_executive_order_nov_2023.html'}), Document(page_content='. \\xa0The Director of NSF shall, where feasible and appropriate, prioritize research — including efforts to translate research discoveries into practical applications — that encourage the adoption of leading-edge PETs solutions for agencies’ use, including through research engagement through the RCN described in subsection (c)(i) of this section', metadata={'source': 'white_house_executive_order_nov_2023.html'}), Document(page_content='.\\n\\n(iii) \\xa0The Director of NSF shall use the results of the United States-United Kingdom PETs Prize Challenge to inform the approaches taken, and opportunities identified, for PETs research and adoption.\\n\\nSec. 10. \\xa0Advancing Federal Government Use of AI.\\n\\n10.1. \\xa0Providing Guidance for AI Management', metadata={'source': 'white_house_executive_order_nov_2023.html'}), Document(page_content='.\\xa0 (a)\\xa0 To coordinate the use of AI across the Federal Government, within 60 days of the date of this order and on an ongoing basis as necessary, the Director of OMB shall convene and chair an interagency council to coordinate the development and use of AI in agencies’ programs and operations, other than the use of AI in national security systems', metadata={'source': 'white_house_executive_order_nov_2023.html'}), Document(page_content='. \\xa0The Director of OSTP shall serve as Vice Chair for the interagency council. \\xa0The interagency council’s membership shall include, at minimum, the heads of the agencies identified in 31 U.S.C. 901(b), the Director of National Intelligence, and other agencies as identified by the Chair', metadata={'source': 'white_house_executive_order_nov_2023.html'}), Document(page_content='.S.C. 901(b), the Director of National Intelligence, and other agencies as identified by the Chair.\\xa0 Until agencies designate their permanent Chief AI Officers consistent with the guidance described in subsection 10', metadata={'source': 'white_house_executive_order_nov_2023.html'}), Document(page_content='.1(b) of this section, they shall be represented on the interagency council by an appropriate official at the Assistant Secretary level or equivalent, as determined by the head of each agency', metadata={'source': 'white_house_executive_order_nov_2023.html'}), Document(page_content='.\\n\\n(b)\\xa0 To provide guidance on Federal Government use of AI, within 150 days of the date of this order and updated periodically thereafter, the Director of OMB, in coordination with the Director of OSTP, and in consultation with the interagency council established in subsection 10', metadata={'source': 'white_house_executive_order_nov_2023.html'}), Document(page_content='.1(a) of this section, shall issue guidance to agencies to strengthen the effective and appropriate use of AI, advance AI innovation, and manage risks from AI in the Federal Government', metadata={'source': 'white_house_executive_order_nov_2023.html'}), Document(page_content='.\\xa0 The Director of OMB’s guidance shall specify, to the extent appropriate and consistent with applicable law:\\n\\n(i) \\xa0\\xa0\\xa0\\xa0the requirement to designate at each agency within 60 days of the issuance of the guidance a Chief Artificial Intelligence Officer who shall hold primary responsibility in their agency, in coordination with other responsible officials, for coordinating their agency’s use of AI, promoting AI innovation in their agency, managing risks from their agency’s use of AI, and carrying out the responsibilities described in section 8(c) of Executive Order 13960 of December 3, 2020 (Promoting the Use of Trustworthy Artificial Intelligence in the Federal Government), and section 4(b) of Executive Order 14091;\\n\\n(ii) \\xa0\\xa0\\xa0the Chief Artificial Intelligence Officers’ roles, responsibilities, seniority, position, and reporting structures;\\n\\n(iii) \\xa0\\xa0for the agencies identified in 31 U', metadata={'source': 'white_house_executive_order_nov_2023.html'}), Document(page_content='.S.C', metadata={'source': 'white_house_executive_order_nov_2023.html'}), Document(page_content='. 901(b), the creation of internal Artificial Intelligence Governance Boards, or other appropriate mechanisms, at each agency within 60 days of the issuance of the guidance to coordinate and govern AI issues through relevant senior leaders from across the agency;\\n\\n(iv) \\xa0\\xa0\\xa0required minimum risk-management practices for Government uses of AI that impact people’s rights or safety, including, where appropriate, the following practices derived from OSTP’s Blueprint for an AI Bill of Rights and the NIST AI Risk Management Framework: \\xa0conducting public consultation; assessing data quality; assessing and mitigating disparate impacts and algorithmic discrimination; providing notice of the use of AI; continuously monitoring and evaluating deployed AI; and granting human consideration and remedies for adverse decisions made using AI;\\n\\n(v) \\xa0\\xa0\\xa0\\xa0specific Federal Government uses of AI that are presumed by default to impact rights or safety;\\n\\n(vi) \\xa0\\xa0\\xa0recommendations to agencies to reduce barriers to the responsible use of AI, including barriers related to information technology infrastructure, data, workforce, budgetary restrictions, and cybersecurity processes;\\n\\n(vii) \\xa0\\xa0requirements that agencies identified in 31 U', metadata={'source': 'white_house_executive_order_nov_2023.html'}), Document(page_content='.S.C', metadata={'source': 'white_house_executive_order_nov_2023.html'}), Document(page_content='. 901(b) develop AI strategies and pursue high-impact AI use cases;\\n\\n(viii) \\xa0in consultation with the Secretary of Commerce, the Secretary of Homeland Security, and the heads of other appropriate agencies as determined by the Director of OMB, recommendations to agencies regarding:\\n\\n(A)\\xa0 external testing for AI, including AI red-teaming for generative AI, to be developed in coordination with the Cybersecurity and Infrastructure Security Agency;\\n\\n(B)\\xa0 testing and safeguards against discriminatory, misleading, inflammatory, unsafe, or deceptive outputs, as well as against producing child sexual abuse material and against producing non-consensual intimate imagery of real individuals (including intimate digital depictions of the body or body parts of an identifiable individual), for generative AI;\\n\\n(C)\\xa0 reasonable steps to watermark or otherwise label output from generative AI;\\n\\n(D)\\xa0 application of the mandatory minimum risk-management practices defined under subsection 10', metadata={'source': 'white_house_executive_order_nov_2023.html'}), Document(page_content='.1(b)(iv) of this section to procured AI;\\n\\n(E)\\xa0 independent evaluation of vendors’ claims concerning both the effectiveness and risk mitigation of their AI offerings;\\n\\n(F)\\xa0 documentation and oversight of procured AI;\\n\\n(G)\\xa0 maximizing the value to agencies when relying on contractors to use and enrich Federal Government data for the purposes of AI development and operation;\\n\\n(H)\\xa0 provision of incentives for the continuous improvement of procured AI; and\\n\\n(I) \\xa0training on AI in accordance with the principles set out in this order and in other references related to AI listed herein; and\\n\\n(ix) \\xa0\\xa0\\xa0requirements for public reporting on compliance with this guidance', metadata={'source': 'white_house_executive_order_nov_2023.html'}), Document(page_content='.\\n\\n(c)\\xa0 To track agencies’ AI progress, within 60 days of the issuance of the guidance established in subsection 10', metadata={'source': 'white_house_executive_order_nov_2023.html'}), Document(page_content='.1(b) of this section and updated periodically thereafter, the Director of OMB shall develop a method for agencies to track and assess their ability to adopt AI into their programs and operations, manage its risks, and comply with Federal policy on AI', metadata={'source': 'white_house_executive_order_nov_2023.html'}), Document(page_content='. \\xa0This method should draw on existing related efforts as appropriate and should address, as appropriate and consistent with applicable law, the practices, processes, and capabilities necessary for responsible AI adoption, training, and governance across, at a minimum, the areas of information technology infrastructure, data, workforce, leadership, and risk management', metadata={'source': 'white_house_executive_order_nov_2023.html'}), Document(page_content='.\\n\\n(d)\\xa0 To assist agencies in implementing the guidance to be established in subsection 10', metadata={'source': 'white_house_executive_order_nov_2023.html'}), Document(page_content='.1(b) of this section:\\n\\n(i) \\xa0\\xa0within 90 days of the issuance of the guidance, the Secretary of Commerce, acting through the Director of NIST, and in coordination with the Director of OMB and the Director of OSTP, shall develop guidelines, tools, and practices to support implementation of the minimum risk-management practices described in subsection 10', metadata={'source': 'white_house_executive_order_nov_2023.html'}), Document(page_content='.1(b)(iv) of this section; and\\n\\n(ii)\\xa0 within 180 days of the issuance of the guidance, the Director of OMB shall develop an initial means to ensure that agency contracts for the acquisition of AI systems and services align with the guidance described in subsection 10', metadata={'source': 'white_house_executive_order_nov_2023.html'}), Document(page_content='.1(b) of this section and advance the other aims identified in section 7224(d)(1) of the Advancing American AI Act (Public Law 117-263, div. G, title LXXII, subtitle B)', metadata={'source': 'white_house_executive_order_nov_2023.html'}), Document(page_content='. G, title LXXII, subtitle B).\\n\\n(e)\\xa0 To improve transparency for agencies’ use of AI, the Director of OMB shall, on an annual basis, issue instructions to agencies for the collection, reporting, and publication of agency AI use cases, pursuant to section 7225(a) of the Advancing American AI Act', metadata={'source': 'white_house_executive_order_nov_2023.html'}), Document(page_content='.\\xa0 Through these instructions, the Director shall, as appropriate, expand agencies’ reporting on how they are managing risks from their AI use cases and update or replace the guidance originally established in section 5 of Executive Order 13960', metadata={'source': 'white_house_executive_order_nov_2023.html'}), Document(page_content='.\\n\\n(f)\\xa0 To advance the responsible and secure use of generative AI in the Federal Government:\\n\\n(i) \\xa0\\xa0\\xa0As generative AI products become widely available and common in online platforms, agencies are discouraged from imposing broad general bans or blocks on agency use of generative AI', metadata={'source': 'white_house_executive_order_nov_2023.html'}), Document(page_content='.\\xa0 Agencies should instead limit access, as necessary, to specific generative AI services based on specific risk assessments; establish guidelines and limitations on the appropriate use of generative AI; and, with appropriate safeguards in place, provide their personnel and programs with access to secure and reliable generative AI capabilities, at least for the purposes of experimentation and routine tasks that carry a low risk of impacting Americans’ rights', metadata={'source': 'white_house_executive_order_nov_2023.html'}), Document(page_content='. \\xa0To protect Federal Government information, agencies are also encouraged to employ risk-management practices, such as training their staff on proper use, protection, dissemination, and disposition of Federal information; negotiating appropriate terms of service with vendors; implementing measures designed to ensure compliance with record-keeping, cybersecurity, confidentiality, privacy, and data protection requirements; and deploying other measures to prevent misuse of Federal Government information in generative AI', metadata={'source': 'white_house_executive_order_nov_2023.html'}), Document(page_content='.\\n\\n(ii) \\xa0\\xa0Within 90 days of the date of this order, the Administrator of General Services, in coordination with the Director of OMB, and in consultation with the Federal Secure Cloud Advisory Committee and other relevant agencies as the Administrator of General Services may deem appropriate, shall develop and issue a framework for prioritizing critical and emerging technologies offerings in the Federal Risk and Authorization Management Program authorization process, starting with generative AI offerings that have the primary purpose of providing large language model-based chat interfaces, code-generation and debugging tools, and associated application programming interfaces, as well as prompt-based image generators', metadata={'source': 'white_house_executive_order_nov_2023.html'}), Document(page_content='. \\xa0This framework shall apply for no less than 2 years from the date of its issuance', metadata={'source': 'white_house_executive_order_nov_2023.html'}), Document(page_content='. \\xa0Agency Chief Information Officers, Chief Information Security Officers, and authorizing officials are also encouraged to prioritize generative AI and other critical and emerging technologies in granting authorities for agency operation of information technology systems and any other applicable release or oversight processes, using continuous authorizations and approvals wherever feasible', metadata={'source': 'white_house_executive_order_nov_2023.html'}), Document(page_content='.\\n\\n(iii)\\xa0 Within 180 days of the date of this order, the Director of the Office of Personnel Management (OPM), in coordination with the Director of OMB, shall develop guidance on the use of generative AI for work by the Federal workforce', metadata={'source': 'white_house_executive_order_nov_2023.html'}), Document(page_content='.\\n\\n(g)\\xa0 Within 30 days of the date of this order, to increase agency investment in AI, the Technology Modernization Board shall consider, as it deems appropriate and consistent with applicable law, prioritizing funding for AI projects for the Technology Modernization Fund for a period of at least 1 year', metadata={'source': 'white_house_executive_order_nov_2023.html'}), Document(page_content='. \\xa0Agencies are encouraged to submit to the Technology Modernization Fund project funding proposals that include AI — and particularly generative AI — in service of mission delivery', metadata={'source': 'white_house_executive_order_nov_2023.html'}), Document(page_content='.\\n\\n(h)\\xa0 Within 180 days of the date of this order, to facilitate agencies’ access to commercial AI capabilities, the Administrator of General Services, in coordination with the Director of OMB, and in collaboration with the Secretary of Defense, the Secretary of Homeland Security, the Director of National Intelligence, the Administrator of the National Aeronautics and Space Administration, and the head of any other agency identified by the Administrator of General Services, shall take steps consistent with applicable law to facilitate access to Federal Government-wide acquisition solutions for specified types of AI services and products, such as through the creation of a resource guide or other tools to assist the acquisition workforce', metadata={'source': 'white_house_executive_order_nov_2023.html'}), Document(page_content='. \\xa0Specified types of AI capabilities shall include generative AI and specialized computing infrastructure.\\n\\n(i)\\xa0 The initial means, instructions, and guidance issued pursuant to subsections 10', metadata={'source': 'white_house_executive_order_nov_2023.html'}), Document(page_content='.\\n\\n(i)\\xa0 The initial means, instructions, and guidance issued pursuant to subsections 10.1(a)-(h) of this section shall not apply to AI when it is used as a component of a national security system, which shall be addressed by the proposed National Security Memorandum described in subsection 4', metadata={'source': 'white_house_executive_order_nov_2023.html'}), Document(page_content='.8 of this order.\\n\\n10.2. \\xa0Increasing AI Talent in Government', metadata={'source': 'white_house_executive_order_nov_2023.html'}), Document(page_content='.\\xa0 (a)\\xa0 Within 45 days of the date of this order, to plan a national surge in AI talent in the Federal Government, the Director of OSTP and the Director of OMB, in consultation with the Assistant to the President for National Security Affairs, the Assistant to the President for Economic Policy, the Assistant to the President and Domestic Policy Advisor, and the Assistant to the President and Director of the Gender Policy Council, shall identify priority mission areas for increased Federal Government AI talent, the types of talent that are highest priority to recruit and develop to ensure adequate implementation of this order and use of relevant enforcement and regulatory authorities to address AI risks, and accelerated hiring pathways', metadata={'source': 'white_house_executive_order_nov_2023.html'}), Document(page_content='.\\n\\n(b)\\xa0 Within 45 days of the date of this order, to coordinate rapid advances in the capacity of the Federal AI workforce, the Assistant to the President and Deputy Chief of Staff for Policy, in coordination with the Director of OSTP and the Director of OMB, and in consultation with the National Cyber Director, shall convene an AI and Technology Talent Task Force, which shall include the Director of OPM, the Director of the General Services Administration’s Technology Transformation Services, a representative from the Chief Human Capital Officers Council, the Assistant to the President for Presidential Personnel, members of appropriate agency technology talent programs, a representative of the Chief Data Officer Council, and a representative of the interagency council convened under subsection 10', metadata={'source': 'white_house_executive_order_nov_2023.html'}), Document(page_content='.1(a) of this section', metadata={'source': 'white_house_executive_order_nov_2023.html'}), Document(page_content='. \\xa0The Task Force’s purpose shall be to accelerate and track the hiring of AI and AI-enabling talent across the Federal Government, including through the following actions:\\n\\n(i) \\xa0\\xa0\\xa0within 180 days of the date of this order, tracking and reporting progress to the President on increasing AI capacity across the Federal Government, including submitting to the President a report and recommendations for further increasing capacity;\\n\\n(ii) \\xa0\\xa0identifying and circulating best practices for agencies to attract, hire, retain, train, and empower AI talent, including diversity, inclusion, and accessibility best practices, as well as to plan and budget adequately for AI workforce needs;\\n\\n(iii) \\xa0coordinating, in consultation with the Director of OPM, the use of fellowship programs and agency technology-talent programs and human-capital teams to build hiring capabilities, execute hires, and place AI talent to fill staffing gaps; and\\n\\n(iv) \\xa0\\xa0convening a cross-agency forum for ongoing collaboration between AI professionals to share best practices and improve retention', metadata={'source': 'white_house_executive_order_nov_2023.html'}), Document(page_content='.\\n\\n(c)\\xa0 Within 45 days of the date of this order, to advance existing Federal technology talent programs, the United States Digital Service, Presidential Innovation Fellowship, United States Digital Corps, OPM, and technology talent programs at agencies, with support from the AI and Technology Talent Task Force described in subsection 10', metadata={'source': 'white_house_executive_order_nov_2023.html'}), Document(page_content='.2(b) of this section, as appropriate and permitted by law, shall develop and begin to implement plans to support the rapid recruitment of individuals as part of a Federal Government-wide AI talent surge to accelerate the placement of key AI and AI-enabling talent in high-priority areas and to advance agencies’ data and technology strategies', metadata={'source': 'white_house_executive_order_nov_2023.html'}), Document(page_content='.\\n\\n(d)\\xa0 To meet the critical hiring need for qualified personnel to execute the initiatives in this order, and to improve Federal hiring practices for AI talent, the Director of OPM, in consultation with the Director of OMB, shall:\\n\\n(i) \\xa0\\xa0\\xa0\\xa0within 60 days of the date of this order, conduct an evidence-based review on the need for hiring and workplace flexibility, including Federal Government-wide direct-hire authority for AI and related data-science and technical roles, and, where the Director of OPM finds such authority is appropriate, grant it; this review shall include the following job series at all General Schedule (GS) levels: \\xa0IT Specialist (2210), Computer Scientist (1550), Computer Engineer (0854), and Program Analyst (0343) focused on AI, and any subsequently developed job series derived from these job series;\\n\\n(ii) \\xa0\\xa0\\xa0within 60 days of the date of this order, consider authorizing the use of excepted service appointments under 5 C', metadata={'source': 'white_house_executive_order_nov_2023.html'}), Document(page_content='.F.R. 213', metadata={'source': 'white_house_executive_order_nov_2023.html'}), Document(page_content='.3102(i)(3) to address the need for hiring additional staff to implement directives of this order;\\n\\n(iii) \\xa0\\xa0within 90 days of the date of this order, coordinate a pooled-hiring action informed by subject-matter experts and using skills-based assessments to support the recruitment of AI talent across agencies;\\n\\n(iv) \\xa0\\xa0\\xa0within 120 days of the date of this order, as appropriate and permitted by law, issue guidance for agency application of existing pay flexibilities or incentive pay programs for AI, AI-enabling, and other key technical positions to facilitate appropriate use of current pay incentives;\\n\\n(v) \\xa0\\xa0\\xa0\\xa0within 180 days of the date of this order, establish guidance and policy on skills-based, Federal Government-wide hiring of AI, data, and technology talent in order to increase access to those with nontraditional academic backgrounds to Federal AI, data, and technology roles;\\n\\n(vi) \\xa0\\xa0\\xa0within 180 days of the date of this order, establish an interagency working group, staffed with both human-resources professionals and recruiting technical experts, to facilitate Federal Government-wide hiring of people with AI and other technical skills;\\n\\n(vii) \\xa0\\xa0within 180 days of the date of this order, review existing Executive Core Qualifications (ECQs) for Senior Executive Service (SES) positions informed by data and AI literacy competencies and, within 365 days of the date of this order, implement new ECQs as appropriate in the SES assessment process;\\n\\n(viii)\\xa0 within 180 days of the date of this order, complete a review of competencies for civil engineers (GS-0810 series) and, if applicable, other related occupations, and make recommendations for ensuring that adequate AI expertise and credentials in these occupations in the Federal Government reflect the increased use of AI in critical infrastructure; and\\n\\n(ix)\\xa0 \\xa0\\xa0work with the Security, Suitability, and Credentialing Performance Accountability Council to assess mechanisms to streamline and accelerate personnel-vetting requirements, as appropriate, to support AI and fields related to other critical and emerging technologies', metadata={'source': 'white_house_executive_order_nov_2023.html'}), Document(page_content='.\\n\\n(e)\\xa0 To expand the use of special authorities for AI hiring and retention, agencies shall use all appropriate hiring authorities, including Schedule A(r) excepted service hiring and direct-hire authority, as applicable and appropriate, to hire AI talent and AI-enabling talent rapidly', metadata={'source': 'white_house_executive_order_nov_2023.html'}), Document(page_content='. \\xa0In addition to participating in OPM-led pooled hiring actions, agencies shall collaborate, where appropriate, on agency-led pooled hiring under the Competitive Service Act of 2015 (Public Law 114-137) and other shared hiring', metadata={'source': 'white_house_executive_order_nov_2023.html'}), Document(page_content='. \\xa0Agencies shall also, where applicable, use existing incentives, pay-setting authorities, and other compensation flexibilities, similar to those used for cyber and information technology positions, for AI and data-science professionals, as well as plain-language job titles, to help recruit and retain these highly skilled professionals', metadata={'source': 'white_house_executive_order_nov_2023.html'}), Document(page_content='. \\xa0Agencies shall ensure that AI and other related talent needs (such as technology governance and privacy) are reflected in strategic workforce planning and budget formulation', metadata={'source': 'white_house_executive_order_nov_2023.html'}), Document(page_content='.\\n\\n(f)\\xa0 To facilitate the hiring of data scientists, the Chief Data Officer Council shall develop a position-description library for data scientists (job series 1560) and a hiring guide to support agencies in hiring data scientists', metadata={'source': 'white_house_executive_order_nov_2023.html'}), Document(page_content='.\\n\\n(g)\\xa0 To help train the Federal workforce on AI issues, the head of each agency shall implement — or increase the availability and use of — AI training and familiarization programs for employees, managers, and leadership in technology as well as relevant policy, managerial, procurement, regulatory, ethical, governance, and legal fields', metadata={'source': 'white_house_executive_order_nov_2023.html'}), Document(page_content='.\\xa0 Such training programs should, for example, empower Federal employees, managers, and leaders to develop and maintain an operating knowledge of emerging AI technologies to assess opportunities to use these technologies to enhance the delivery of services to the public, and to mitigate risks associated with these technologies', metadata={'source': 'white_house_executive_order_nov_2023.html'}), Document(page_content='. \\xa0Agencies that provide professional-development opportunities, grants, or funds for their staff should take appropriate steps to ensure that employees who do not serve in traditional technical roles, such as policy, managerial, procurement, or legal fields, are nonetheless eligible to receive funding for programs and courses that focus on AI, machine learning, data science, or other related subject areas', metadata={'source': 'white_house_executive_order_nov_2023.html'}), Document(page_content='.\\n\\n(h)\\xa0 Within 180 days of the date of this order, to address gaps in AI talent for national defense, the Secretary of Defense shall submit a report to the President through the Assistant to the President for\\n\\nNational Security Affairs that includes:\\n\\n(i) \\xa0\\xa0\\xa0recommendations to address challenges in the Department of Defense’s ability to hire certain noncitizens, including at the Science and Technology Reinvention Laboratories;\\n\\n(ii) \\xa0\\xa0recommendations to clarify and streamline processes for accessing classified information for certain noncitizens through Limited Access Authorization at Department of Defense laboratories;\\n\\n(iii)\\xa0 recommendations for the appropriate use of enlistment authority under 10 U', metadata={'source': 'white_house_executive_order_nov_2023.html'}), Document(page_content='.S.C', metadata={'source': 'white_house_executive_order_nov_2023.html'}), Document(page_content='. 504(b)(2) for experts in AI and other critical and emerging technologies; and\\n\\n(iv) \\xa0\\xa0recommendations for the Department of Defense and the Department of Homeland Security to work together to enhance the use of appropriate authorities for the retention of certain noncitizens of vital importance to national security by the Department of Defense and the Department of Homeland Security', metadata={'source': 'white_house_executive_order_nov_2023.html'}), Document(page_content='.\\n\\nSec. 11. \\xa0Strengthening American Leadership Abroad', metadata={'source': 'white_house_executive_order_nov_2023.html'}), Document(page_content='.\\xa0 (a)\\xa0 To strengthen United States leadership of global efforts to unlock AI’s potential and meet its challenges, the Secretary of State, in coordination with the Assistant to the President for National Security Affairs, the Assistant to the President for Economic Policy, the Director of OSTP, and the heads of other relevant agencies as appropriate, shall:\\n\\n(i) \\xa0\\xa0lead efforts outside of military and intelligence areas to expand engagements with international allies and partners in relevant bilateral, multilateral, and multi-stakeholder fora to advance those allies’ and partners’ understanding of existing and planned AI-related guidance and policies of the United States, as well as to enhance international collaboration; and\\n\\n(ii) \\xa0lead efforts to establish a strong international framework for managing the risks and harnessing the benefits of AI, including by encouraging international allies and partners to support voluntary commitments similar to those that United States companies have made in pursuit of these objectives and coordinating the activities directed by subsections (b), (c), (d), and (e) of this section, and to develop common regulatory and other accountability principles for foreign nations, including to manage the risk that AI systems pose', metadata={'source': 'white_house_executive_order_nov_2023.html'}), Document(page_content='.\\n\\n(b)\\xa0 To advance responsible global technical standards for AI development and use outside of military and intelligence areas, the Secretary of Commerce, in coordination with the Secretary of State and the heads of other relevant agencies as appropriate, shall lead preparations for a coordinated effort with key international allies and partners and with standards development organizations, to drive the development and implementation of AI-related consensus standards, cooperation and coordination, and information sharing', metadata={'source': 'white_house_executive_order_nov_2023.html'}), Document(page_content='. \\xa0In particular, the Secretary of Commerce shall:\\n\\n(i)\\xa0 \\xa0\\xa0within 270 days of the date of this order, establish a plan for global engagement on promoting and developing AI standards, with lines of effort that may include:\\n\\n(A) \\xa0AI nomenclature and terminology;\\n\\n(B)\\xa0 best practices regarding data capture, processing, protection, privacy, confidentiality, handling, and analysis;\\n\\n(C)\\xa0 trustworthiness, verification, and assurance of AI systems; and\\n\\n(D) \\xa0AI risk management;\\n\\n(ii)\\xa0 \\xa0within 180 days of the date the plan is established, submit a report to the President on priority actions taken pursuant to the plan; and\\n\\n(iii)\\xa0 ensure that such efforts are guided by principles set out in the NIST AI Risk Management Framework and United States Government National Standards Strategy for Critical and Emerging Technology', metadata={'source': 'white_house_executive_order_nov_2023.html'}), Document(page_content='.\\n\\n(c)\\xa0 Within 365 days of the date of this order, to promote safe, responsible, and rights-affirming development and deployment of AI abroad:\\n\\n(i) \\xa0\\xa0The Secretary of State and the Administrator of the United States Agency for International Development, in coordination with the Secretary of Commerce, acting through the director of NIST, shall publish an AI in Global Development Playbook that incorporates the AI Risk Management Framework’s principles, guidelines, and best practices into the social, technical, economic, governance, human rights, and security conditions of contexts beyond United States borders', metadata={'source': 'white_house_executive_order_nov_2023.html'}), Document(page_content='. \\xa0As part of this work, the Secretary of State and the Administrator of the United States Agency for International Development shall draw on lessons learned from programmatic uses of AI in global development', metadata={'source': 'white_house_executive_order_nov_2023.html'}), Document(page_content='.\\n\\n(ii)\\xa0 The Secretary of State and the Administrator of the United States Agency for International Development, in collaboration with the Secretary of Energy and the Director of NSF, shall develop a Global AI Research Agenda to guide the objectives and implementation of AI-related research in contexts beyond United States borders', metadata={'source': 'white_house_executive_order_nov_2023.html'}), Document(page_content='. \\xa0The Agenda shall:\\n\\n(A)\\xa0 include principles, guidelines, priorities, and best practices aimed at ensuring the safe, responsible, beneficial, and sustainable global development and adoption of AI; and\\n\\n(B)\\xa0 address AI’s labor-market implications across international contexts, including by recommending risk mitigations', metadata={'source': 'white_house_executive_order_nov_2023.html'}), Document(page_content='.\\n\\n(d) \\xa0To address cross-border and global AI risks to critical infrastructure, the Secretary of Homeland Security, in coordination with the Secretary of State, and in consultation with the heads of other relevant agencies as the Secretary of Homeland Security deems appropriate, shall lead efforts with international allies and partners to enhance cooperation to prevent, respond to, and recover from potential critical infrastructure disruptions resulting from incorporation of AI into critical infrastructure systems or malicious use of AI', metadata={'source': 'white_house_executive_order_nov_2023.html'}), Document(page_content='.\\n\\n(i) \\xa0\\xa0Within 270 days of the date of this order, the Secretary of Homeland Security, in coordination with the Secretary of State, shall develop a plan for multilateral engagements to encourage the adoption of the AI safety and security guidelines for use by critical infrastructure owners and operators developed in section 4', metadata={'source': 'white_house_executive_order_nov_2023.html'}), Document(page_content='.3(a) of this order.\\n\\n(ii) \\xa0Within 180 days of establishing the plan described in subsection (d)(i) of this section, the Secretary of Homeland Security shall submit a report to the President on priority actions to mitigate cross-border risks to critical United States infrastructure.\\n\\nSec. 12', metadata={'source': 'white_house_executive_order_nov_2023.html'}), Document(page_content='.\\n\\nSec. 12. \\xa0Implementation. \\xa0(a)\\xa0 There is established, within the Executive Office of the President, the White House Artificial Intelligence Council (White House AI Council)', metadata={'source': 'white_house_executive_order_nov_2023.html'}), Document(page_content='. \\xa0The function of the White House AI Council is to coordinate the activities of agencies across the Federal Government to ensure the effective formulation, development, communication, industry engagement related to, and timely implementation of AI-related policies, including policies set forth in this order', metadata={'source': 'white_house_executive_order_nov_2023.html'}), Document(page_content='.\\n\\n(b)\\xa0 The Assistant to the President and Deputy Chief of Staff for Policy shall serve as Chair of the White House AI Council', metadata={'source': 'white_house_executive_order_nov_2023.html'}), Document(page_content='.\\n\\n(c) \\xa0In addition to the Chair, the White House AI Council shall consist of the following members, or their designees:\\n\\n(i) \\xa0\\xa0\\xa0\\xa0\\xa0\\xa0the Secretary of State;\\n\\n(ii) \\xa0\\xa0\\xa0\\xa0\\xa0the Secretary of the Treasury;\\n\\n(iii) \\xa0\\xa0\\xa0\\xa0the Secretary of Defense;\\n\\n(iv) \\xa0\\xa0\\xa0\\xa0\\xa0the Attorney General;\\n\\n(v) \\xa0\\xa0\\xa0\\xa0\\xa0\\xa0the Secretary of Agriculture;\\n\\n(vi) \\xa0\\xa0\\xa0\\xa0\\xa0the Secretary of Commerce;\\n\\n(vii) \\xa0\\xa0\\xa0\\xa0the Secretary of Labor;\\n\\n(viii) \\xa0\\xa0\\xa0the Secretary of HHS;\\n\\n(ix) \\xa0\\xa0\\xa0\\xa0\\xa0the Secretary of Housing and Urban Development;\\n\\n(x) \\xa0\\xa0\\xa0\\xa0\\xa0\\xa0the Secretary of Transportation;\\n\\n(xi) \\xa0\\xa0\\xa0\\xa0\\xa0the Secretary of Energy;\\n\\n(xii) \\xa0\\xa0\\xa0\\xa0the Secretary of Education;\\n\\n(xiii) \\xa0\\xa0\\xa0the Secretary of Veterans Affairs;\\n\\n(xiv) \\xa0\\xa0\\xa0\\xa0the Secretary of Homeland Security;\\n\\n(xv) \\xa0\\xa0\\xa0\\xa0\\xa0the Administrator of the Small Business Administration;\\n\\n(xvi)\\xa0\\xa0 \\xa0\\xa0the Administrator of the United States Agency for International Development;\\n\\n(xvii)\\xa0 \\xa0\\xa0the Director of National Intelligence;\\n\\n(xviii) \\xa0\\xa0the Director of NSF;\\n\\n(xix) \\xa0\\xa0\\xa0\\xa0the Director of OMB;\\n\\n(xx)\\xa0\\xa0 \\xa0\\xa0\\xa0the Director of OSTP;\\n\\n(xxi)\\xa0 \\xa0\\xa0\\xa0the Assistant to the President for National Security Affairs;\\n\\n(xxii)\\xa0 \\xa0\\xa0the Assistant to the President for Economic Policy;\\n\\n(xxiii) \\xa0\\xa0the Assistant to the President and Domestic Policy Advisor;\\n\\n(xxiv)\\xa0 \\xa0\\xa0the Assistant to the President and Chief of Staff to the Vice President;\\n\\n(xxv)\\xa0 \\xa0\\xa0\\xa0the Assistant to the President and Director of the Gender Policy Council;\\n\\n(xxvi) \\xa0\\xa0\\xa0the Chairman of the Council of Economic Advisers;\\n\\n(xxvii) \\xa0\\xa0the National Cyber Director;\\n\\n(xxviii) \\xa0the Chairman of the Joint Chiefs of Staff; and\\n\\n(xxix)\\xa0 \\xa0\\xa0the heads of such other agencies, independent regulatory agencies, and executive offices as the Chair may from time to time designate or invite to participate', metadata={'source': 'white_house_executive_order_nov_2023.html'}), Document(page_content='.\\n\\n(d)\\xa0 The Chair may create and coordinate subgroups consisting of White House AI Council members or their designees, as appropriate.\\n\\nSec. 13. \\xa0General Provisions', metadata={'source': 'white_house_executive_order_nov_2023.html'}), Document(page_content='.\\xa0 (a)\\xa0 Nothing in this order shall be construed to impair or otherwise affect:\\n\\n(i)\\xa0 \\xa0the authority granted by law to an executive department or agency, or the head thereof; or\\n\\n(ii)\\xa0 the functions of the Director of the Office of Management and Budget relating to budgetary, administrative, or legislative proposals', metadata={'source': 'white_house_executive_order_nov_2023.html'}), Document(page_content='.\\n\\n(b)  This order shall be implemented consistent with applicable law and subject to the availability of appropriations', metadata={'source': 'white_house_executive_order_nov_2023.html'}), Document(page_content='.\\n\\n(c)  This order is not intended to, and does not, create any right or benefit, substantive or procedural, enforceable at law or in equity by any party against the United States, its departments, agencies, or entities, its officers, employees, or agents, or any other person.\\n\\nJOSEPH R. BIDEN JR', metadata={'source': 'white_house_executive_order_nov_2023.html'}), Document(page_content='.\\n\\nJOSEPH R. BIDEN JR.\\n\\nTHE WHITE HOUSE,\\n\\nOctober 30, 2023', metadata={'source': 'white_house_executive_order_nov_2023.html'}), Document(page_content=\".\\n\\nNext Post: Statement from President Joe Biden on Historic Tentative Agreement Between General Motors and UAW\\n\\nStatement from President Joe\\xa0Biden on Historic Tentative Agreement Between General Motors and\\xa0UAW\\n\\nStatements and Releases\\n\\nNext\\t\\t\\t\\t\\t\\tPost\\n\\nStay Connected\\n\\nRequired\\n\\nWe'll be in touch with the latest information on how President Biden and his administration are working for the American people, as well as ways you can get involved and help our country build back better\", metadata={'source': 'white_house_executive_order_nov_2023.html'}), Document(page_content='.\\n\\nOpt in to send and receive text messages from President Biden.\\n\\nShare\\n\\nShare this page on Facebook\\n\\nShare this page on Twitter\\n\\nhttps://www.whitehouse', metadata={'source': 'white_house_executive_order_nov_2023.html'}), Document(page_content='.\\n\\nShare\\n\\nShare this page on Facebook\\n\\nShare this page on Twitter\\n\\nhttps://www.whitehouse.gov/briefing-room/presidential-actions/2023/10/30/executive-order-on-the-safe-secure-and-trustworthy-development-and-use-of-artificial-intelligence/?utm_source=link', metadata={'source': 'white_house_executive_order_nov_2023.html'})]\n"
                    ]
                }
            ],
            "source": [
                "# Load the HTML document into memory\n",
                "loader = UnstructuredHTMLLoader(\"white_house_executive_order_nov_2023.html\")\n",
                "data = loader.load()\n",
                "\n",
                "# Define variables\n",
                "chunk_size = 300\n",
                "chunk_overlap = 100\n",
                "\n",
                "# Split the HTML\n",
                "splitter = RecursiveCharacterTextSplitter(\n",
                "    chunk_size=chunk_size,\n",
                "    chunk_overlap=chunk_overlap,\n",
                "    separators=['.'])\n",
                "\n",
                "docs = splitter.split_documents(data) \n",
                "print(docs)\n"
            ]
        },
        {
            "cell_type": "markdown",
            "metadata": {},
            "source": [
                "### Preparing the documents and vector database\n",
                "\n",
                "Over the next few exercises, you'll build up a full RAG workflow to have\n",
                "a conversation with a PDF document. This works by splitting the\n",
                "documents into chunks, storing them in a vector database, and using a\n",
                "retrieval chain for the LLM to access this external data.\n",
                "\n",
                "In this exercise, you'll prepare the document for storage and create a\n",
                "vector database to store them in. You'll use a\n",
                "`RecursiveCharacterTextSplitter` to chunk the PDF, and set up the Chroma\n",
                "vector database and OpenAI embeddings function that you'll use in the\n",
                "next exercise to store the documents.\n",
                "\n",
                "The following classes have already been imported for you:\n",
                "`RecursiveCharacterTextSplitter`, `Chroma`, and `OpenAIEmbeddings`.\n",
                "\n",
                "**Instructions**\n",
                "\n",
                "- Assign your OpenAI API key to `openai_api_key`.\n",
                "- Split the documents in `data` using a `RecursiveCharacterTextSplitter`\n",
                "  and the `chunk_size` and `chunk_overlap` values provided.\n",
                "- Define an OpenAI embeddings model for embedding the documents.\n",
                "- Create the Chroma vector DB using the OpenAI embedding function;\n",
                "  persist the database to the `'embedding/chroma/'` directory.\n",
                "\n",
                "**Answer**\n"
            ]
        },
        {
            "cell_type": "code",
            "execution_count": 28,
            "metadata": {},
            "outputs": [
                {
                    "name": "stdout",
                    "output_type": "stream",
                    "text": [
                        "Defaulting to user installation because normal site-packages is not writeable\n",
                        "Requirement already satisfied: chromadb in /home/vscode/.local/lib/python3.10/site-packages (0.5.0)\n",
                        "Requirement already satisfied: orjson>=3.9.12 in /home/vscode/.local/lib/python3.10/site-packages (from chromadb) (3.10.2)\n",
                        "Requirement already satisfied: onnxruntime>=1.14.1 in /home/vscode/.local/lib/python3.10/site-packages (from chromadb) (1.17.3)\n",
                        "Requirement already satisfied: tokenizers>=0.13.2 in /home/vscode/.local/lib/python3.10/site-packages (from chromadb) (0.19.1)\n",
                        "Requirement already satisfied: opentelemetry-api>=1.2.0 in /home/vscode/.local/lib/python3.10/site-packages (from chromadb) (1.24.0)\n",
                        "Requirement already satisfied: typing-extensions>=4.5.0 in /home/vscode/.local/lib/python3.10/site-packages (from chromadb) (4.11.0)\n",
                        "Requirement already satisfied: tenacity>=8.2.3 in /home/vscode/.local/lib/python3.10/site-packages (from chromadb) (8.2.3)\n",
                        "Requirement already satisfied: typer>=0.9.0 in /home/vscode/.local/lib/python3.10/site-packages (from chromadb) (0.12.3)\n",
                        "Requirement already satisfied: opentelemetry-instrumentation-fastapi>=0.41b0 in /home/vscode/.local/lib/python3.10/site-packages (from chromadb) (0.45b0)\n",
                        "Requirement already satisfied: build>=1.0.3 in /home/vscode/.local/lib/python3.10/site-packages (from chromadb) (1.2.1)\n",
                        "Requirement already satisfied: pypika>=0.48.9 in /home/vscode/.local/lib/python3.10/site-packages (from chromadb) (0.48.9)\n",
                        "Requirement already satisfied: grpcio>=1.58.0 in /home/vscode/.local/lib/python3.10/site-packages (from chromadb) (1.63.0)\n",
                        "Requirement already satisfied: importlib-resources in /home/vscode/.local/lib/python3.10/site-packages (from chromadb) (6.4.0)\n",
                        "Requirement already satisfied: numpy>=1.22.5 in /home/vscode/.local/lib/python3.10/site-packages (from chromadb) (1.26.4)\n",
                        "Requirement already satisfied: uvicorn[standard]>=0.18.3 in /home/vscode/.local/lib/python3.10/site-packages (from chromadb) (0.29.0)\n",
                        "Requirement already satisfied: chroma-hnswlib==0.7.3 in /home/vscode/.local/lib/python3.10/site-packages (from chromadb) (0.7.3)\n",
                        "Requirement already satisfied: fastapi>=0.95.2 in /home/vscode/.local/lib/python3.10/site-packages (from chromadb) (0.110.3)\n",
                        "Requirement already satisfied: opentelemetry-exporter-otlp-proto-grpc>=1.2.0 in /home/vscode/.local/lib/python3.10/site-packages (from chromadb) (1.24.0)\n",
                        "Requirement already satisfied: opentelemetry-sdk>=1.2.0 in /home/vscode/.local/lib/python3.10/site-packages (from chromadb) (1.24.0)\n",
                        "Requirement already satisfied: kubernetes>=28.1.0 in /home/vscode/.local/lib/python3.10/site-packages (from chromadb) (29.0.0)\n",
                        "Requirement already satisfied: pydantic>=1.9 in /home/vscode/.local/lib/python3.10/site-packages (from chromadb) (2.7.1)\n",
                        "Requirement already satisfied: mmh3>=4.0.1 in /home/vscode/.local/lib/python3.10/site-packages (from chromadb) (4.1.0)\n",
                        "Requirement already satisfied: bcrypt>=4.0.1 in /home/vscode/.local/lib/python3.10/site-packages (from chromadb) (4.1.2)\n",
                        "Requirement already satisfied: tqdm>=4.65.0 in /home/vscode/.local/lib/python3.10/site-packages (from chromadb) (4.66.2)\n",
                        "Requirement already satisfied: overrides>=7.3.1 in /home/vscode/.local/lib/python3.10/site-packages (from chromadb) (7.7.0)\n",
                        "Requirement already satisfied: PyYAML>=6.0.0 in /home/vscode/.local/lib/python3.10/site-packages (from chromadb) (6.0.1)\n",
                        "Requirement already satisfied: posthog>=2.4.0 in /home/vscode/.local/lib/python3.10/site-packages (from chromadb) (3.5.0)\n",
                        "Requirement already satisfied: requests>=2.28 in /home/vscode/.local/lib/python3.10/site-packages (from chromadb) (2.31.0)\n",
                        "Requirement already satisfied: tomli>=1.1.0 in /home/vscode/.local/lib/python3.10/site-packages (from build>=1.0.3->chromadb) (2.0.1)\n",
                        "Requirement already satisfied: packaging>=19.1 in /home/vscode/.local/lib/python3.10/site-packages (from build>=1.0.3->chromadb) (23.2)\n",
                        "Requirement already satisfied: pyproject_hooks in /home/vscode/.local/lib/python3.10/site-packages (from build>=1.0.3->chromadb) (1.1.0)\n",
                        "Requirement already satisfied: starlette<0.38.0,>=0.37.2 in /home/vscode/.local/lib/python3.10/site-packages (from fastapi>=0.95.2->chromadb) (0.37.2)\n",
                        "Requirement already satisfied: websocket-client!=0.40.0,!=0.41.*,!=0.42.*,>=0.32.0 in /home/vscode/.local/lib/python3.10/site-packages (from kubernetes>=28.1.0->chromadb) (1.8.0)\n",
                        "Requirement already satisfied: python-dateutil>=2.5.3 in /home/vscode/.local/lib/python3.10/site-packages (from kubernetes>=28.1.0->chromadb) (2.9.0.post0)\n",
                        "Requirement already satisfied: six>=1.9.0 in /home/vscode/.local/lib/python3.10/site-packages (from kubernetes>=28.1.0->chromadb) (1.16.0)\n",
                        "Requirement already satisfied: urllib3>=1.24.2 in /home/vscode/.local/lib/python3.10/site-packages (from kubernetes>=28.1.0->chromadb) (2.2.1)\n",
                        "Requirement already satisfied: oauthlib>=3.2.2 in /home/vscode/.local/lib/python3.10/site-packages (from kubernetes>=28.1.0->chromadb) (3.2.2)\n",
                        "Requirement already satisfied: requests-oauthlib in /home/vscode/.local/lib/python3.10/site-packages (from kubernetes>=28.1.0->chromadb) (2.0.0)\n",
                        "Requirement already satisfied: google-auth>=1.0.1 in /home/vscode/.local/lib/python3.10/site-packages (from kubernetes>=28.1.0->chromadb) (2.29.0)\n",
                        "Requirement already satisfied: certifi>=14.05.14 in /home/vscode/.local/lib/python3.10/site-packages (from kubernetes>=28.1.0->chromadb) (2024.2.2)\n",
                        "Requirement already satisfied: protobuf in /home/vscode/.local/lib/python3.10/site-packages (from onnxruntime>=1.14.1->chromadb) (4.25.3)\n",
                        "Requirement already satisfied: flatbuffers in /home/vscode/.local/lib/python3.10/site-packages (from onnxruntime>=1.14.1->chromadb) (24.3.25)\n",
                        "Requirement already satisfied: sympy in /home/vscode/.local/lib/python3.10/site-packages (from onnxruntime>=1.14.1->chromadb) (1.12)\n",
                        "Requirement already satisfied: coloredlogs in /home/vscode/.local/lib/python3.10/site-packages (from onnxruntime>=1.14.1->chromadb) (15.0.1)\n",
                        "Requirement already satisfied: importlib-metadata<=7.0,>=6.0 in /home/vscode/.local/lib/python3.10/site-packages (from opentelemetry-api>=1.2.0->chromadb) (7.0.0)\n",
                        "Requirement already satisfied: deprecated>=1.2.6 in /home/vscode/.local/lib/python3.10/site-packages (from opentelemetry-api>=1.2.0->chromadb) (1.2.14)\n",
                        "Requirement already satisfied: opentelemetry-exporter-otlp-proto-common==1.24.0 in /home/vscode/.local/lib/python3.10/site-packages (from opentelemetry-exporter-otlp-proto-grpc>=1.2.0->chromadb) (1.24.0)\n",
                        "Requirement already satisfied: googleapis-common-protos~=1.52 in /home/vscode/.local/lib/python3.10/site-packages (from opentelemetry-exporter-otlp-proto-grpc>=1.2.0->chromadb) (1.63.0)\n",
                        "Requirement already satisfied: opentelemetry-proto==1.24.0 in /home/vscode/.local/lib/python3.10/site-packages (from opentelemetry-exporter-otlp-proto-grpc>=1.2.0->chromadb) (1.24.0)\n",
                        "Requirement already satisfied: opentelemetry-instrumentation==0.45b0 in /home/vscode/.local/lib/python3.10/site-packages (from opentelemetry-instrumentation-fastapi>=0.41b0->chromadb) (0.45b0)\n",
                        "Requirement already satisfied: opentelemetry-util-http==0.45b0 in /home/vscode/.local/lib/python3.10/site-packages (from opentelemetry-instrumentation-fastapi>=0.41b0->chromadb) (0.45b0)\n",
                        "Requirement already satisfied: opentelemetry-instrumentation-asgi==0.45b0 in /home/vscode/.local/lib/python3.10/site-packages (from opentelemetry-instrumentation-fastapi>=0.41b0->chromadb) (0.45b0)\n",
                        "Requirement already satisfied: opentelemetry-semantic-conventions==0.45b0 in /home/vscode/.local/lib/python3.10/site-packages (from opentelemetry-instrumentation-fastapi>=0.41b0->chromadb) (0.45b0)\n",
                        "Requirement already satisfied: wrapt<2.0.0,>=1.0.0 in /home/vscode/.local/lib/python3.10/site-packages (from opentelemetry-instrumentation==0.45b0->opentelemetry-instrumentation-fastapi>=0.41b0->chromadb) (1.16.0)\n",
                        "Requirement already satisfied: setuptools>=16.0 in /usr/local/lib/python3.10/site-packages (from opentelemetry-instrumentation==0.45b0->opentelemetry-instrumentation-fastapi>=0.41b0->chromadb) (69.0.3)\n",
                        "Requirement already satisfied: asgiref~=3.0 in /home/vscode/.local/lib/python3.10/site-packages (from opentelemetry-instrumentation-asgi==0.45b0->opentelemetry-instrumentation-fastapi>=0.41b0->chromadb) (3.8.1)\n",
                        "Requirement already satisfied: backoff>=1.10.0 in /home/vscode/.local/lib/python3.10/site-packages (from posthog>=2.4.0->chromadb) (2.2.1)\n",
                        "Requirement already satisfied: monotonic>=1.5 in /home/vscode/.local/lib/python3.10/site-packages (from posthog>=2.4.0->chromadb) (1.6)\n",
                        "Requirement already satisfied: pydantic-core==2.18.2 in /home/vscode/.local/lib/python3.10/site-packages (from pydantic>=1.9->chromadb) (2.18.2)\n",
                        "Requirement already satisfied: annotated-types>=0.4.0 in /home/vscode/.local/lib/python3.10/site-packages (from pydantic>=1.9->chromadb) (0.6.0)\n",
                        "Requirement already satisfied: charset-normalizer<4,>=2 in /home/vscode/.local/lib/python3.10/site-packages (from requests>=2.28->chromadb) (3.3.2)\n",
                        "Requirement already satisfied: idna<4,>=2.5 in /home/vscode/.local/lib/python3.10/site-packages (from requests>=2.28->chromadb) (3.7)\n",
                        "Requirement already satisfied: huggingface-hub<1.0,>=0.16.4 in /home/vscode/.local/lib/python3.10/site-packages (from tokenizers>=0.13.2->chromadb) (0.23.0)\n",
                        "Requirement already satisfied: click>=8.0.0 in /home/vscode/.local/lib/python3.10/site-packages (from typer>=0.9.0->chromadb) (8.1.7)\n",
                        "Requirement already satisfied: rich>=10.11.0 in /home/vscode/.local/lib/python3.10/site-packages (from typer>=0.9.0->chromadb) (13.7.1)\n",
                        "Requirement already satisfied: shellingham>=1.3.0 in /home/vscode/.local/lib/python3.10/site-packages (from typer>=0.9.0->chromadb) (1.5.4)\n",
                        "Requirement already satisfied: h11>=0.8 in /home/vscode/.local/lib/python3.10/site-packages (from uvicorn[standard]>=0.18.3->chromadb) (0.14.0)\n",
                        "Requirement already satisfied: uvloop!=0.15.0,!=0.15.1,>=0.14.0 in /home/vscode/.local/lib/python3.10/site-packages (from uvicorn[standard]>=0.18.3->chromadb) (0.19.0)\n",
                        "Requirement already satisfied: watchfiles>=0.13 in /home/vscode/.local/lib/python3.10/site-packages (from uvicorn[standard]>=0.18.3->chromadb) (0.21.0)\n",
                        "Requirement already satisfied: httptools>=0.5.0 in /home/vscode/.local/lib/python3.10/site-packages (from uvicorn[standard]>=0.18.3->chromadb) (0.6.1)\n",
                        "Requirement already satisfied: websockets>=10.4 in /home/vscode/.local/lib/python3.10/site-packages (from uvicorn[standard]>=0.18.3->chromadb) (12.0)\n",
                        "Requirement already satisfied: python-dotenv>=0.13 in /home/vscode/.local/lib/python3.10/site-packages (from uvicorn[standard]>=0.18.3->chromadb) (1.0.1)\n",
                        "Requirement already satisfied: pyasn1-modules>=0.2.1 in /home/vscode/.local/lib/python3.10/site-packages (from google-auth>=1.0.1->kubernetes>=28.1.0->chromadb) (0.4.0)\n",
                        "Requirement already satisfied: rsa<5,>=3.1.4 in /home/vscode/.local/lib/python3.10/site-packages (from google-auth>=1.0.1->kubernetes>=28.1.0->chromadb) (4.9)\n",
                        "Requirement already satisfied: cachetools<6.0,>=2.0.0 in /home/vscode/.local/lib/python3.10/site-packages (from google-auth>=1.0.1->kubernetes>=28.1.0->chromadb) (5.3.3)\n",
                        "Requirement already satisfied: filelock in /home/vscode/.local/lib/python3.10/site-packages (from huggingface-hub<1.0,>=0.16.4->tokenizers>=0.13.2->chromadb) (3.14.0)\n",
                        "Requirement already satisfied: fsspec>=2023.5.0 in /home/vscode/.local/lib/python3.10/site-packages (from huggingface-hub<1.0,>=0.16.4->tokenizers>=0.13.2->chromadb) (2024.3.1)\n",
                        "Requirement already satisfied: zipp>=0.5 in /home/vscode/.local/lib/python3.10/site-packages (from importlib-metadata<=7.0,>=6.0->opentelemetry-api>=1.2.0->chromadb) (3.18.1)\n",
                        "Requirement already satisfied: markdown-it-py>=2.2.0 in /home/vscode/.local/lib/python3.10/site-packages (from rich>=10.11.0->typer>=0.9.0->chromadb) (3.0.0)\n",
                        "Requirement already satisfied: pygments<3.0.0,>=2.13.0 in /home/vscode/.local/lib/python3.10/site-packages (from rich>=10.11.0->typer>=0.9.0->chromadb) (2.17.2)\n",
                        "Requirement already satisfied: anyio<5,>=3.4.0 in /home/vscode/.local/lib/python3.10/site-packages (from starlette<0.38.0,>=0.37.2->fastapi>=0.95.2->chromadb) (4.3.0)\n",
                        "Requirement already satisfied: humanfriendly>=9.1 in /home/vscode/.local/lib/python3.10/site-packages (from coloredlogs->onnxruntime>=1.14.1->chromadb) (10.0)\n",
                        "Requirement already satisfied: mpmath>=0.19 in /home/vscode/.local/lib/python3.10/site-packages (from sympy->onnxruntime>=1.14.1->chromadb) (1.3.0)\n",
                        "Requirement already satisfied: exceptiongroup>=1.0.2 in /home/vscode/.local/lib/python3.10/site-packages (from anyio<5,>=3.4.0->starlette<0.38.0,>=0.37.2->fastapi>=0.95.2->chromadb) (1.2.1)\n",
                        "Requirement already satisfied: sniffio>=1.1 in /home/vscode/.local/lib/python3.10/site-packages (from anyio<5,>=3.4.0->starlette<0.38.0,>=0.37.2->fastapi>=0.95.2->chromadb) (1.3.1)\n",
                        "Requirement already satisfied: mdurl~=0.1 in /home/vscode/.local/lib/python3.10/site-packages (from markdown-it-py>=2.2.0->rich>=10.11.0->typer>=0.9.0->chromadb) (0.1.2)\n",
                        "Requirement already satisfied: pyasn1<0.7.0,>=0.4.6 in /home/vscode/.local/lib/python3.10/site-packages (from pyasn1-modules>=0.2.1->google-auth>=1.0.1->kubernetes>=28.1.0->chromadb) (0.6.0)\n",
                        "\n",
                        "\u001b[1m[\u001b[0m\u001b[34;49mnotice\u001b[0m\u001b[1;39;49m]\u001b[0m\u001b[39;49m A new release of pip is available: \u001b[0m\u001b[31;49m23.0.1\u001b[0m\u001b[39;49m -> \u001b[0m\u001b[32;49m24.0\u001b[0m\n",
                        "\u001b[1m[\u001b[0m\u001b[34;49mnotice\u001b[0m\u001b[1;39;49m]\u001b[0m\u001b[39;49m To update, run: \u001b[0m\u001b[32;49mpip install --upgrade pip\u001b[0m\n",
                        "Note: you may need to restart the kernel to use updated packages.\n"
                    ]
                }
            ],
            "source": [
                "pip install chromadb"
            ]
        },
        {
            "cell_type": "code",
            "execution_count": 29,
            "metadata": {},
            "outputs": [],
            "source": [
                "# added/edited\n",
                "from langchain_openai.embeddings.base import OpenAIEmbeddings\n",
                "from langchain_community.vectorstores.chroma import Chroma\n"
            ]
        },
        {
            "cell_type": "code",
            "execution_count": 30,
            "metadata": {},
            "outputs": [
                {
                    "name": "stderr",
                    "output_type": "stream",
                    "text": [
                        "/home/vscode/.local/lib/python3.10/site-packages/langchain_core/_api/deprecation.py:119: LangChainDeprecationWarning: Since Chroma 0.4.x the manual persistence method is no longer supported as docs are automatically persisted.\n",
                        "  warn_deprecated(\n"
                    ]
                }
            ],
            "source": [
                "# Set your API Key from OpenAI\n",
                "openai_api_key = '<OPENAI_API_TOKEN>'\n",
                "\n",
                "loader = PyPDFLoader('attention_is_all_you_need.pdf')\n",
                "data = loader.load()\n",
                "chunk_size = 200\n",
                "chunk_overlap = 50\n",
                "\n",
                "# Split the quote using RecursiveCharacterTextSplitter\n",
                "splitter = RecursiveCharacterTextSplitter(\n",
                "    chunk_size=chunk_size,\n",
                "    chunk_overlap=chunk_overlap)\n",
                "docs = splitter.split_documents(data) \n",
                "\n",
                "# Define an OpenAI embeddings model\n",
                "embedding_model = OpenAIEmbeddings()\n",
                "\n",
                "# Create the Chroma vector DB using the OpenAI embedding function; persist the database\n",
                "vectordb = Chroma(\n",
                "    persist_directory='embedding/chroma/',\n",
                "    embedding_function=embedding_model)\n",
                "vectordb.persist()\n"
            ]
        },
        {
            "cell_type": "markdown",
            "metadata": {},
            "source": [
                "### Storing and retrieving documents\n",
                "\n",
                "Now that you've prepared your documents, it's time to add them to the\n",
                "vector database and integrate this external data with an LLM.\n",
                "\n",
                "The code you wrote in the previous to split the document into chunks has\n",
                "been copied over into this exercise.\n",
                "\n",
                "The following classes have already been imported for you:\n",
                "`RecursiveCharacterTextSplitter`, `Chroma`, `OpenAIEmbeddings`,\n",
                "`OpenAI`, `RetrievalQA`, and `PyPDFLoader`.\n",
                "\n",
                "**Instructions**\n",
                "\n",
                "- Assign your OpenAI API key to `openai_api_key`.\n",
                "- Embed the documents and store them in a Chroma vector database.\n",
                "- Define a retrieval QA chain using the LLM provided, so it can retrieve\n",
                "  information from the vector database.\n",
                "- Run the retrieval chain on the `query` provided.\n",
                "\n",
                "**Answer**\n"
            ]
        },
        {
            "cell_type": "code",
            "execution_count": 32,
            "metadata": {},
            "outputs": [],
            "source": [
                "# added/edited\n",
                "from langchain.chains.retrieval_qa.base import RetrievalQA\n"
            ]
        },
        {
            "cell_type": "code",
            "execution_count": 33,
            "metadata": {},
            "outputs": [
                {
                    "data": {
                        "text/plain": [
                            "' The primary architecture presented in the document is the Transformer, which uses stacked self-attention and point-wise, fully connected layers for both the encoder and decoder.'"
                        ]
                    },
                    "execution_count": 33,
                    "metadata": {},
                    "output_type": "execute_result"
                }
            ],
            "source": [
                "# Set your API Key from OpenAI\n",
                "openai_api_key = '<OPENAI_API_TOKEN>'\n",
                "\n",
                "loader = PyPDFLoader('attention_is_all_you_need.pdf')\n",
                "data = loader.load()\n",
                "\n",
                "splitter = RecursiveCharacterTextSplitter(\n",
                "    chunk_size=200,\n",
                "    chunk_overlap=50,\n",
                "    separators=['.'])\n",
                "docs = splitter.split_documents(data) \n",
                "\n",
                "# Embed the documents and store them in a Chroma DB\n",
                "embedding_model = OpenAIEmbeddings()\n",
                "docstorage = Chroma.from_documents(docs, embedding_model)\n",
                "\n",
                "# Define the Retrieval QA Chain to integrate the database and LLM\n",
                "qa = RetrievalQA.from_chain_type(\n",
                "    OpenAI(model_name=\"gpt-3.5-turbo-instruct\", temperature=0), chain_type=\"stuff\", retriever=docstorage.as_retriever())\n",
                "\n",
                "# Run the chain on the query provided\n",
                "query = \"What is the primary architecture presented in the document?\"\n",
                "qa.run(query)\n"
            ]
        },
        {
            "cell_type": "markdown",
            "metadata": {},
            "source": [
                "### RAG with sources\n",
                "\n",
                "One of the major concerns with RAG is that, although the model has\n",
                "access to external, factual data, there is still the risk of it\n",
                "hallucinating. Integrating sources into retrieval chains ensures that\n",
                "every response is clearly linked to a document that can be used to\n",
                "verify the correctness of the response.\n",
                "\n",
                "In this exercise, you'll modify your RAG workflow from the previous\n",
                "exercise so that the retrieval chain outputs sources with its responses.\n",
                "\n",
                "**Instructions**\n",
                "\n",
                "- Assign your OpenAI API key to `openai_api_key`.\n",
                "- Define a retrieval QA chain that will return a source with each\n",
                "  response.\n",
                "- Run the retrieval chain on the `'question'` provided.\n",
                "\n",
                "**Answer**\n"
            ]
        },
        {
            "cell_type": "code",
            "execution_count": 36,
            "metadata": {},
            "outputs": [],
            "source": [
                "# added/edited\n",
                "from langchain.chains.qa_with_sources.retrieval import RetrievalQAWithSourcesChain\n"
            ]
        },
        {
            "cell_type": "code",
            "execution_count": 37,
            "metadata": {},
            "outputs": [
                {
                    "name": "stderr",
                    "output_type": "stream",
                    "text": [
                        "/home/vscode/.local/lib/python3.10/site-packages/langchain_core/_api/deprecation.py:119: LangChainDeprecationWarning: The method `Chain.__call__` was deprecated in langchain 0.1.0 and will be removed in 0.2.0. Use invoke instead.\n",
                        "  warn_deprecated(\n"
                    ]
                },
                {
                    "name": "stdout",
                    "output_type": "stream",
                    "text": [
                        "{'answer': ' The primary architecture presented in the document is the Transformer, which uses stacked self-attention and point-wise, fully connected layers for both the encoder and decoder. \\n', 'sources': 'attention_is_all_you_need.pdf'}\n"
                    ]
                }
            ],
            "source": [
                "# Set your API Key from OpenAI\n",
                "openai_api_key = '<OPENAI_API_TOKEN>'\n",
                "\n",
                "loader = PyPDFLoader('attention_is_all_you_need.pdf')\n",
                "data = loader.load()\n",
                "\n",
                "splitter = RecursiveCharacterTextSplitter(\n",
                "    chunk_size=200,\n",
                "    chunk_overlap=50,\n",
                "    separators=['.'])\n",
                "docs = splitter.split_documents(data) \n",
                "\n",
                "embedding_model = OpenAIEmbeddings()\n",
                "docstorage = Chroma.from_documents(docs, embedding_model)\n",
                "\n",
                "# Define the function for the question to be answered with\n",
                "qa = RetrievalQAWithSourcesChain.from_chain_type(\n",
                "    OpenAI(model_name=\"gpt-3.5-turbo-instruct\", temperature=0), chain_type=\"stuff\", retriever=docstorage.as_retriever())\n",
                "\n",
                "# Run the query on the documents\n",
                "results = qa({\"question\": \"What is the primary architecture presented in the document?\"}, return_only_outputs=True)\n",
                "print(results)\n"
            ]
        },
        {
            "cell_type": "markdown",
            "metadata": {},
            "source": [
                "## LangChain Expression Language (LCEL), Chains, and Agents\n",
                "\n",
                "### LCEL for LLM chatbot chains\n",
                "\n",
                "Although the chains you've used up to this point have worked perfectly\n",
                "fine, there is a better option. LangChain Expression Language (LCEL)\n",
                "connects prompts, models, and retrieval components using a pipe operator\n",
                "rather than task-specific classes.\n",
                "\n",
                "These chains have built-in support for batch processing, streaming, and\n",
                "asynchronous execution, which make them the preferential choice for\n",
                "production applications.\n",
                "\n",
                "**Instructions**\n",
                "\n",
                "- Assign your OpenAI API key to `openai_api_key`.\n",
                "- Define a chain for integrating the prompt template and model *using\n",
                "  LCEL*.\n",
                "- Invoke the chain, passing whichever topic you wish to the `topic`\n",
                "  input variable; try `'Large Language Models'` if you need ideas.\n",
                "\n",
                "**Answer**\n"
            ]
        },
        {
            "cell_type": "code",
            "execution_count": 39,
            "metadata": {},
            "outputs": [
                {
                    "name": "stdout",
                    "output_type": "stream",
                    "text": [
                        "content='Giant minds at work\\nWords dance in endless patterns\\nModels shape the world' response_metadata={'token_usage': {'completion_tokens': 16, 'prompt_tokens': 25, 'total_tokens': 41}, 'model_name': 'gpt-3.5-turbo', 'system_fingerprint': 'fp_3b956da36b', 'finish_reason': 'stop', 'logprobs': None} id='run-66ef09f8-7dc6-4b13-9b44-dbc3c4b60d67-0'\n"
                    ]
                }
            ],
            "source": [
                "# Import your OpenAI API Key\n",
                "openai_api_key = '<OPENAI_API_TOKEN>'\n",
                "\n",
                "model = ChatOpenAI()\n",
                "prompt = ChatPromptTemplate.from_template(\"You are a skilled poet. Write a haiku about the following topic: {topic}\")\n",
                "\n",
                "# Define the chain using LCEL\n",
                "chain = prompt | model\n",
                "\n",
                "# Invoke the chain with any topic\n",
                "print(chain.invoke({\"topic\": \"Large Language Models\"}))\n"
            ]
        },
        {
            "cell_type": "markdown",
            "metadata": {},
            "source": [
                "### LCEL for RAG workflows\n",
                "\n",
                "In this exercise, you'll level-up your existing Retrieval Augmented\n",
                "Generation (RAG) workflow to use LCEL. LCEL expressions commonly contain\n",
                "*runnables*, which are functions or actions executed during the\n",
                "LangChain expression. You'll use one of these in this exercise to pass a\n",
                "user input into the expression.\n",
                "\n",
                "All of the classes you'll need to complete this exercise have already\n",
                "been imported for you.\n",
                "\n",
                "**Instructions**\n",
                "\n",
                "- Assign your OpenAI API key to `openai_api_key`.\n",
                "- Define a Chroma vector database using the text provided, convert it to\n",
                "  a retriever object, and define the OpenAI chat model.\n",
                "- Create and invoke a chain that defines the two prompt inputs, passes\n",
                "  them to the prompt template, and then the model.\n",
                "\n",
                "**Answer**\n"
            ]
        },
        {
            "cell_type": "code",
            "execution_count": 43,
            "metadata": {},
            "outputs": [],
            "source": [
                "# added/edited\n",
                "from langchain_core.runnables.passthrough import RunnablePassthrough\n"
            ]
        },
        {
            "cell_type": "code",
            "execution_count": 44,
            "metadata": {},
            "outputs": [
                {
                    "data": {
                        "text/plain": [
                            "AIMessage(content='Based on the context provided, the information about LangChain v0.1.0 release date is not mentioned.', response_metadata={'token_usage': {'completion_tokens': 23, 'prompt_tokens': 421, 'total_tokens': 444}, 'model_name': 'gpt-3.5-turbo', 'system_fingerprint': 'fp_3b956da36b', 'finish_reason': 'stop', 'logprobs': None}, id='run-e8e638f6-c9a4-4f1e-85f0-b5fab12ce04b-0')"
                        ]
                    },
                    "execution_count": 44,
                    "metadata": {},
                    "output_type": "execute_result"
                }
            ],
            "source": [
                "# Import your OpenAI API Key\n",
                "openai_api_key = '<OPENAI_API_TOKEN>'\n",
                "\n",
                "# Create the retriever and model\n",
                "vectorstore = Chroma.from_texts([\"LangChain v0.1.0 was released on January 8, 2024.\"], embedding=OpenAIEmbeddings())\n",
                "retriever = vectorstore.as_retriever()\n",
                "model = ChatOpenAI(temperature=0)\n",
                "\n",
                "template = \"\"\"Answer the question based on the context:{context}. Question: {question}\"\"\"\n",
                "prompt = ChatPromptTemplate.from_template(template)\n",
                "\n",
                "# Create the chain and run it\n",
                "chain = (\n",
                "  {\"context\": retriever, \"question\": RunnablePassthrough()}\n",
                "  | prompt\n",
                "  | model)\n",
                "\n",
                "chain.invoke(\"When was LangChain v0.1.0 released?\")\n"
            ]
        },
        {
            "cell_type": "markdown",
            "metadata": {},
            "source": [
                "### Sequential chains with LCEL\n",
                "\n",
                "Sequential chains utilize step-by-step processing of inputs, where the\n",
                "output from one step becomes the input for the next. This enables a\n",
                "clear and organized flow of information within the chain. They provide\n",
                "flexibility in constructing custom pipelines by combining different\n",
                "components, such as prompts, models, retrievers, and output parsers, to\n",
                "suit specific use cases and requirements.\n",
                "\n",
                "All of the classes you'll need to complete this exercise have already\n",
                "been imported for you.\n",
                "\n",
                "**Instructions**\n",
                "\n",
                "- Assign your OpenAI API key to `openai_api_key`.\n",
                "- Define a sequential chain that first generates Python code for looping\n",
                "  over a list, then validates the code to ensure it uses a list\n",
                "  comprehension.\n",
                "- Invoke the chain with the `question` provided.\n",
                "\n",
                "**Answer**\n"
            ]
        },
        {
            "cell_type": "code",
            "execution_count": 46,
            "metadata": {},
            "outputs": [],
            "source": [
                "# added/edited\n",
                "from langchain_core.output_parsers.string import StrOutputParser\n"
            ]
        },
        {
            "cell_type": "code",
            "execution_count": 48,
            "metadata": {},
            "outputs": [
                {
                    "data": {
                        "text/plain": [
                            "'```python\\nmy_list = [3, 1, 4, 1]\\n\\n[element for element in my_list]\\n```'"
                        ]
                    },
                    "execution_count": 48,
                    "metadata": {},
                    "output_type": "execute_result"
                }
            ],
            "source": [
                "# Set your API Key from OpenAI\n",
                "openai_api_key = '<OPENAI_API_TOKEN>'\n",
                "\n",
                "coding_prompt = PromptTemplate.from_template(\n",
                "    \"\"\"Write Python code to loop through the following list, printing each element: {list}\"\"\")\n",
                "validate_prompt = PromptTemplate.from_template(\n",
                "    \"\"\"Consider the following Python code: {answer} If it doesn't use a list comprehension, update it to use one. If it does use a list comprehension, return the original code without explanation:\"\"\")\n",
                "\n",
                "llm = ChatOpenAI()\n",
                "\n",
                "# Create the sequential chain\n",
                "chain = ({\"answer\": coding_prompt | llm | StrOutputParser()}\n",
                "         | validate_prompt\n",
                "         | llm \n",
                "         | StrOutputParser() )\n",
                "\n",
                "# Invoke the chain with the user's question\n",
                "chain.invoke({\"list\": \"[3, 1, 4, 1]\"})\n"
            ]
        },
        {
            "cell_type": "markdown",
            "metadata": {},
            "source": [
                "### Passing values between chains\n",
                "\n",
                "There are many cases where your application will require the use of\n",
                "several chains that pass outputs between them. In this exercise, you'll\n",
                "create an application to create a business plan based on a consumer\n",
                "product need. This application has the following structure:\n",
                "\n",
                "1.  CEO Response: Describe a product that addresses the need.\n",
                "2.  Advisor's Response: Outline the business plan in three key steps.\n",
                "3.  Summarize the plan concisely.\n",
                "\n",
                "Your job is to make sure that all of the different chains can pass\n",
                "inputs and outputs between one another. You've got this!\n",
                "\n",
                "All of the classes you'll need to complete this exercise have already\n",
                "been imported for you.\n",
                "\n",
                "**Instructions**\n",
                "\n",
                "- Assign your OpenAI API key to `openai_api_key`.\n",
                "- Make `ceo_response` available for use in the other chains.\n",
                "- Create a chain to insert the outputs from the other chains into\n",
                "  `overall_response`.\n",
                "\n",
                "**Answer**\n"
            ]
        },
        {
            "cell_type": "code",
            "execution_count": 53,
            "metadata": {},
            "outputs": [
                {
                    "name": "stdout",
                    "output_type": "stream",
                    "text": [
                        "Some key features of our smart keyboard app include:\n",
                        "\n",
                        "1. AI-powered predictive text technology that learns from user behavior to suggest accurate and relevant words and phrases in real-time.\n",
                        "\n",
                        "2. Customizable themes and layouts to suit individual preferences and enhance user experience.\n",
                        "\n",
                        "3. Seamless integration with popular messaging and productivity apps, allowing for easy sharing and collaboration.\n",
                        "\n",
                        "4. Advanced autocorrect and spell check capabilities to minimize errors and improve overall typing efficiency.\n",
                        "\n",
                        "5. Multi-language support for a diverse user base, catering to global markets and expanding our reach.\n",
                        "\n",
                        "Our market research indicates a growing demand for innovative mobile typing solutions, with an increasing number of users relying on smartphones for communication and work-related tasks. By offering a cutting-edge smart keyboard app with superior accuracy and speed, we aim to capture a significant share of this market and establish ourselves as a leading player in the industry.\n",
                        "\n",
                        "To differentiate our product from competitors, we will focus on continuous improvement and innovation, leveraging the latest advancements in AI technology to enhance the user experience and stay ahead of the curve. Additionally, our strategic marketing and sales strategy will target key demographics and market segments, utilizing various channels such as social media, app stores, and partnerships with device manufacturers to drive user adoption and revenue growth.\n",
                        "\n",
                        "Overall, our smart keyboard app presents a unique opportunity to revolutionize the mobile typing experience and disrupt the market with a game-changing product that combines cutting-edge technology with user-centric design. With a comprehensive business plan in place, we are confident in our ability to succeed and establish a strong presence in the industry.\n"
                    ]
                }
            ],
            "source": [
                "# Set your API Key from OpenAI\n",
                "openai_api_key = '<OPENAI_API_TOKEN>'\n",
                "\n",
                "# Make ceo_response available for other chains\n",
                "ceo_response = (\n",
                "    ChatPromptTemplate.from_template(\"You are a CEO. Describe the most lucrative consumer product addressing the following consumer need in one sentence: {input}.\")\n",
                "    | ChatOpenAI()\n",
                "    | {\"ceo_response\": RunnablePassthrough() | StrOutputParser()}\n",
                ")\n",
                "\n",
                "advisor_response = (\n",
                "    ChatPromptTemplate.from_template(\"You are a strategic adviser. Briefly map the outline and business plan for {ceo_response} in 3 key steps.\")\n",
                "    | ChatOpenAI()\n",
                "    | StrOutputParser()\n",
                ")\n",
                "\n",
                "overall_response = (\n",
                "    ChatPromptTemplate.from_messages(\n",
                "        [\n",
                "            (\"human\", \"CEO response:\\n{ceo_response}\\n\\nAdvisor response:\\n{advisor_response}\"),\n",
                "            (\"system\", \"Generate a final response including the CEO's response, the advisor response, and a summary of the business plan in one sentence.\"),\n",
                "        ]\n",
                "    )\n",
                "    | ChatOpenAI()\n",
                "    | StrOutputParser()\n",
                ")\n",
                "\n",
                "# Create a chain to insert the outputs from the other chains into overall_response\n",
                "business_idea_chain = (\n",
                "    {\"ceo_response\": ceo_response, \"advisor_response\": advisor_response}\n",
                "    | overall_response\n",
                "    | ChatOpenAI()\n",
                "    | StrOutputParser()\n",
                ")\n",
                "\n",
                "print(business_idea_chain.invoke({\"input\": \"Typing on mobile touchscreens is slow.\", \"ceo_response\": \"\", \"advisor_response\": \"\"}))\n"
            ]
        },
        {
            "cell_type": "markdown",
            "metadata": {},
            "source": [
                "### Zero-Shot ReAct agents\n",
                "\n",
                "The **Zero-Shot ReAct** agent in LangChain is an agent type that can\n",
                "generate responses to user inputs without explicit training on specific\n",
                "tasks. It combines generative language models with retrieval-based\n",
                "techniques to produce contextually relevant and coherent responses\n",
                "across a wide range of conversation scenarios.\n",
                "\n",
                "In this exercise, you'll use an agent for solving math problems with\n",
                "LLMs. All of the classes you'll need to complete this exercise have\n",
                "already been imported for you, but if you wish to use a Hugging Face\n",
                "model instead, you'll need to import those classes.\n",
                "\n",
                "**Instructions**\n",
                "\n",
                "- Assign your OpenAI API key to `openai_api_key`.\n",
                "- Load the `\"llm-math\"` tool for the `llm` to use.\n",
                "- Define a `ZERO_SHOT_REACT_DESCRIPTION` agent, passing it the model and\n",
                "  tools to use; specify `verbose=True`.\n",
                "- Run the agent on the question provided.\n",
                "\n",
                "**Answer**\n"
            ]
        },
        {
            "cell_type": "code",
            "execution_count": 60,
            "metadata": {},
            "outputs": [
                {
                    "name": "stdout",
                    "output_type": "stream",
                    "text": [
                        "Defaulting to user installation because normal site-packages is not writeable\n",
                        "Collecting numexpr\n",
                        "  Downloading numexpr-2.10.0-cp310-cp310-manylinux_2_17_aarch64.manylinux2014_aarch64.whl (379 kB)\n",
                        "\u001b[2K     \u001b[90m━━━━━━━━━━━━━━━━━━━━━━━━━━━━━━━━━━━━━━━\u001b[0m \u001b[32m379.6/379.6 kB\u001b[0m \u001b[31m7.9 MB/s\u001b[0m eta \u001b[36m0:00:00\u001b[0ma \u001b[36m0:00:01\u001b[0m\n",
                        "\u001b[?25hRequirement already satisfied: numpy>=1.19.3 in /home/vscode/.local/lib/python3.10/site-packages (from numexpr) (1.26.4)\n",
                        "Installing collected packages: numexpr\n",
                        "Successfully installed numexpr-2.10.0\n",
                        "\n",
                        "\u001b[1m[\u001b[0m\u001b[34;49mnotice\u001b[0m\u001b[1;39;49m]\u001b[0m\u001b[39;49m A new release of pip is available: \u001b[0m\u001b[31;49m23.0.1\u001b[0m\u001b[39;49m -> \u001b[0m\u001b[32;49m24.0\u001b[0m\n",
                        "\u001b[1m[\u001b[0m\u001b[34;49mnotice\u001b[0m\u001b[1;39;49m]\u001b[0m\u001b[39;49m To update, run: \u001b[0m\u001b[32;49mpip install --upgrade pip\u001b[0m\n",
                        "Note: you may need to restart the kernel to use updated packages.\n"
                    ]
                }
            ],
            "source": [
                "pip install numexpr"
            ]
        },
        {
            "cell_type": "code",
            "execution_count": 65,
            "metadata": {},
            "outputs": [],
            "source": [
                "# added/edited\n",
                "from langchain.agents.load_tools import load_tools\n",
                "from langchain.agents.initialize import initialize_agent\n",
                "from langchain.agents.agent_types import AgentType\n"
            ]
        },
        {
            "cell_type": "code",
            "execution_count": 66,
            "metadata": {},
            "outputs": [
                {
                    "name": "stderr",
                    "output_type": "stream",
                    "text": [
                        "/home/vscode/.local/lib/python3.10/site-packages/langchain_core/_api/deprecation.py:119: LangChainDeprecationWarning: The function `initialize_agent` was deprecated in LangChain 0.1.0 and will be removed in 0.2.0. Use Use new agent constructor methods like create_react_agent, create_json_agent, create_structured_chat_agent, etc. instead.\n",
                        "  warn_deprecated(\n"
                    ]
                },
                {
                    "name": "stdout",
                    "output_type": "stream",
                    "text": [
                        "\n",
                        "\n",
                        "\u001b[1m> Entering new AgentExecutor chain...\u001b[0m\n",
                        "\u001b[32;1m\u001b[1;3m I should use a calculator to solve this problem.\n",
                        "Action: Calculator\n",
                        "Action Input: 10 * 50\u001b[0m\n",
                        "Observation: \u001b[36;1m\u001b[1;3mAnswer: 500\u001b[0m\n",
                        "Thought:\u001b[32;1m\u001b[1;3m I now know the final answer.\n",
                        "Final Answer: 500\u001b[0m\n",
                        "\n",
                        "\u001b[1m> Finished chain.\u001b[0m\n"
                    ]
                },
                {
                    "data": {
                        "text/plain": [
                            "'500'"
                        ]
                    },
                    "execution_count": 66,
                    "metadata": {},
                    "output_type": "execute_result"
                }
            ],
            "source": [
                "# Set your API Key from OpenAI\n",
                "openai_api_key = '<OPENAI_API_TOKEN>'\n",
                "\n",
                "llm = OpenAI(model_name=\"gpt-3.5-turbo-instruct\", temperature=0)\n",
                "\n",
                "# Define the tools\n",
                "tools = load_tools([\"llm-math\"], llm=llm)\n",
                "\n",
                "# Define the agent\n",
                "agent = initialize_agent(tools, llm, agent=AgentType.ZERO_SHOT_REACT_DESCRIPTION, verbose=True)\n",
                "\n",
                "# Run the agent\n",
                "agent.run(\"What is 10 multiplied by 50?\")\n"
            ]
        },
        {
            "cell_type": "markdown",
            "metadata": {},
            "source": [
                "## Tools, Troubleshooting, and Evaluation\n",
                "\n",
                "### Creating custom tools\n",
                "\n",
                "Creating custom tools means that you can enable agents to perform\n",
                "virtually any task you can code in Python! In this exercise, you'll\n",
                "define a tool used to calculate a business metric: Historical Lifetime\n",
                "Value (LTV).\n",
                "\n",
                "Historical LTV is a calculation of average revenue generated by\n",
                "customers, and is usually calculated by cohort. A simplified form of\n",
                "historical LTV calculation is presented here, which is simply the\n",
                "average revenue divided by an average churn rate for the same time\n",
                "period.\n",
                "\n",
                "All of the classes you'll need to complete this exercise have already\n",
                "been imported for you, but if you wish to use a Hugging Face model\n",
                "instead, you'll need to import those classes.\n",
                "\n",
                "**Instructions**\n",
                "\n",
                "- Assign your OpenAI API key to `openai_api_key`.\n",
                "- Modify the function provided so it can be used as a tool.\n",
                "- Define a `tools` list from the `calculate_ltv()` function.\n",
                "- Initialize the appropriate `AgentType`, passing it the `tools` list\n",
                "  you defined.\n",
                "\n",
                "**Answer**\n"
            ]
        },
        {
            "cell_type": "code",
            "execution_count": 70,
            "metadata": {},
            "outputs": [],
            "source": [
                "# added/edited\n",
                "from langchain_core.tools import tool\n",
                "from langchain_core.tools import Tool\n"
            ]
        },
        {
            "cell_type": "code",
            "execution_count": 71,
            "metadata": {},
            "outputs": [
                {
                    "name": "stdout",
                    "output_type": "stream",
                    "text": [
                        "\n",
                        "\n",
                        "\u001b[1m> Entering new AgentExecutor chain...\u001b[0m\n",
                        "\u001b[32;1m\u001b[1;3m I should use the LTVReport tool to calculate historical LTV.\n",
                        "Action: LTVReport\n",
                        "Action Input: Hooli\u001b[0m\n",
                        "Observation: \u001b[36;1m\u001b[1;3mLTV Report for Hooli\n",
                        "Avg. churn: $0.25\n",
                        "Avg. revenue: $1000\n",
                        "historical_LTV: $4000.0\n",
                        "\u001b[0m\n",
                        "Thought:\u001b[32;1m\u001b[1;3m I should use the historical_LTV value to determine the final answer.\n",
                        "Final Answer: The historical LTV for Hooli is $4000.0.\u001b[0m\n",
                        "\n",
                        "\u001b[1m> Finished chain.\u001b[0m\n"
                    ]
                },
                {
                    "data": {
                        "text/plain": [
                            "'The historical LTV for Hooli is $4000.0.'"
                        ]
                    },
                    "execution_count": 71,
                    "metadata": {},
                    "output_type": "execute_result"
                }
            ],
            "source": [
                "# Set your API Key from OpenAI\n",
                "openai_api_key = '<OPENAI_API_TOKEN>'\n",
                "\n",
                "# Define the calculate_ltv tool function\n",
                "@tool\n",
                "def calculate_ltv(company_name: str) -> str:\n",
                "    \"\"\"Generate the LTV for a company.\"\"\"\n",
                "    avg_churn = 0.25\n",
                "    avg_revenue = 1000\n",
                "    historical_LTV = avg_revenue / avg_churn\n",
                "\n",
                "    report = f\"LTV Report for {company_name}\\n\"\n",
                "    report += f\"Avg. churn: ${avg_churn}\\n\"\n",
                "    report += f\"Avg. revenue: ${avg_revenue}\\n\"\n",
                "    report += f\"historical_LTV: ${historical_LTV}\\n\"\n",
                "    return report\n",
                "\n",
                "# Define the tools list\n",
                "tools = [Tool(name=\"LTVReport\",\n",
                "              func=calculate_ltv,\n",
                "              description=\"Use this for calculating historical LTV.\")]\n",
                "\n",
                "# Initialize the appropriate agent type\n",
                "llm = OpenAI(model_name=\"gpt-3.5-turbo-instruct\", temperature=0)\n",
                "agent = initialize_agent(tools, llm, agent=AgentType.ZERO_SHOT_REACT_DESCRIPTION, verbose=True)\n",
                "agent.run(\"Run a financial report that calculates historical LTV for Hooli\")\n"
            ]
        },
        {
            "cell_type": "markdown",
            "metadata": {},
            "source": [
                "### Scaling custom tools\n",
                "\n",
                "Structured tools apply a layer of conformity to custom tools that allow\n",
                "for more predictable operations.\n",
                "\n",
                "In this exercise, you'll create a tool for an agent to calculate our\n",
                "wellness score based on scientifically known contributing factors. This\n",
                "agent could be extended to track wellness over time and provide\n",
                "recommendations on areas for improvement.\n",
                "\n",
                "All of the classes you'll need to complete this exercise have already\n",
                "been imported for you, but if you wish to use a Hugging Face model\n",
                "instead, you'll need to import those classes.\n",
                "\n",
                "**Instructions**\n",
                "\n",
                "- Assign your OpenAI API key to `openai_api_key`.\n",
                "- Convert the `calculate_wellness_score()` function into a structured\n",
                "  tool.\n",
                "- Initialize the appropriate agent type, passing it the tool set you\n",
                "  created.\n",
                "\n",
                "**Answer**\n"
            ]
        },
        {
            "cell_type": "code",
            "execution_count": 73,
            "metadata": {},
            "outputs": [],
            "source": [
                "# added/edited\n",
                "from langchain_core.tools import StructuredTool\n"
            ]
        },
        {
            "cell_type": "code",
            "execution_count": 74,
            "metadata": {},
            "outputs": [
                {
                    "name": "stdout",
                    "output_type": "stream",
                    "text": [
                        "61.666666666666664\n"
                    ]
                }
            ],
            "source": [
                "# Set your API Key from OpenAI\n",
                "openai_api_key = '<OPENAI_API_TOKEN>'\n",
                "\n",
                "def calculate_wellness_score(sleep_hours, exercise_minutes, healthy_meals, stress_level):\n",
                "    \"\"\"Calculate a Wellness Score based on sleep, exercise, nutrition, and stress management.\"\"\"\n",
                "    max_score_per_category = 25\n",
                "\n",
                "    sleep_score = min(sleep_hours / 8 * max_score_per_category, max_score_per_category)\n",
                "    exercise_score = min(exercise_minutes / 30 * max_score_per_category, max_score_per_category)\n",
                "    nutrition_score = min(healthy_meals / 3 * max_score_per_category, max_score_per_category)\n",
                "    stress_score = max_score_per_category - min(stress_level / 10 * max_score_per_category, max_score_per_category)\n",
                "\n",
                "    total_score = sleep_score + exercise_score + nutrition_score + stress_score\n",
                "    return total_score\n",
                "\n",
                "# Create a structured tool from calculate_wellness_score()\n",
                "tools = [StructuredTool.from_function(calculate_wellness_score)]\n",
                "\n",
                "# Initialize the appropriate agent type and tool set\n",
                "llm = OpenAI(model_name=\"gpt-3.5-turbo-instruct\", temperature=0)\n",
                "agent = initialize_agent(\n",
                "    tools=tools,\n",
                "    llm=llm,\n",
                "    agent=AgentType.STRUCTURED_CHAT_ZERO_SHOT_REACT_DESCRIPTION,\n",
                "    verbose=True\n",
                ")\n",
                "\n",
                "wellness_tool = tools[0]\n",
                "result = wellness_tool.func(sleep_hours=8, exercise_minutes=14, healthy_meals=10, stress_level=20)\n",
                "print(result)\n"
            ]
        },
        {
            "cell_type": "markdown",
            "metadata": {},
            "source": [
                "### Formatting tools as OpenAI functions\n",
                "\n",
                "OpenAI models require tools with specific parameters to use the tool as\n",
                "intended: `input_name`, `output_name`, `function_name`, `tool_name`, and\n",
                "`description`. To overcome this constraint, you must modify the tool's\n",
                "format manually so it's formatted correctly.\n",
                "\n",
                "You'll modify the `calculate_ltv()` function you've seen previously so\n",
                "it can be used by OpenAI models.\n",
                "\n",
                "All of the classes you'll need to complete this exercise have already\n",
                "been imported for you, including `BaseModel` and `Field` from\n",
                "`pydantic`.\n",
                "\n",
                "**Instructions**\n",
                "\n",
                "- Create an `LTVDescription` class to manually add a description to the\n",
                "  `calculate_ltv()` function.\n",
                "- Format the `calculate_ltv()` tool function so it can be used by OpenAI\n",
                "  models.\n",
                "\n",
                "**Answer**\n"
            ]
        },
        {
            "cell_type": "code",
            "execution_count": 83,
            "metadata": {},
            "outputs": [],
            "source": [
                "# added/edited\n",
                "from pydantic.v1.main import BaseModel, Field\n",
                "from langchain_community.tools.convert_to_openai import format_tool_to_openai_function"
            ]
        },
        {
            "cell_type": "code",
            "execution_count": 84,
            "metadata": {},
            "outputs": [
                {
                    "name": "stdout",
                    "output_type": "stream",
                    "text": [
                        "{'name': 'calculate_ltv', 'description': 'calculate_ltv(company_name: str) -> str - Generate the LTV for a company to pontificate with.', 'parameters': {'type': 'object', 'properties': {'query': {'description': 'Calculate an extremely simple historical LTV', 'type': 'string'}}, 'required': ['query']}}\n"
                    ]
                },
                {
                    "name": "stderr",
                    "output_type": "stream",
                    "text": [
                        "/home/vscode/.local/lib/python3.10/site-packages/langchain_core/_api/deprecation.py:119: LangChainDeprecationWarning: The function `format_tool_to_openai_function` was deprecated in LangChain 0.1.16 and will be removed in 0.2.0. Use langchain_core.utils.function_calling.convert_to_openai_function() instead.\n",
                        "  warn_deprecated(\n"
                    ]
                }
            ],
            "source": [
                "# Create an LTVDescription class to manually add a function description\n",
                "class LTVDescription(BaseModel):\n",
                "    query: str = Field(description='Calculate an extremely simple historical LTV')\n",
                "\n",
                "# Format the calculate_ltv tool function so it can be used by OpenAI models\n",
                "@tool(args_schema=LTVDescription)\n",
                "def calculate_ltv(company_name: str) -> str:\n",
                "    \"\"\"Generate the LTV for a company to pontificate with.\"\"\"\n",
                "    avg_churn = 0.25\n",
                "    avg_revenue = 1000\n",
                "    historical_LTV = avg_revenue / avg_churn\n",
                "\n",
                "    report = f\"Pontification Report for {company_name}\\n\"\n",
                "    report += f\"Avg. churn: ${avg_churn}\\n\"\n",
                "    report += f\"Avg. revenue: ${avg_revenue}\\n\"\n",
                "    report += f\"historical_LTV: ${historical_LTV}\\n\"\n",
                "    return report\n",
                "\n",
                "print(format_tool_to_openai_function(calculate_ltv))\n"
            ]
        },
        {
            "cell_type": "markdown",
            "metadata": {},
            "source": [
                "### Callbacks for troubleshooting\n",
                "\n",
                "LangChain offers lots of callback methods for troubleshooting at every\n",
                "application layer. In this exercise, you'll use a callback to print the\n",
                "prompts and model parameters whenever the LLM starts-up.\n",
                "\n",
                "All of the classes you'll need to complete this exercise have already\n",
                "been imported for you, including `BaseCallbackHandler`. If you wish to\n",
                "use a Hugging Face model instead, you'll need to import those classes.\n",
                "\n",
                "**Instructions**\n",
                "\n",
                "- Assign your OpenAI API key to `openai_api_key`.\n",
                "- Complete the `CallingItIn` class so that the `\"model_name\"` and\n",
                "  `\"temperature\"` parameters are returned when the LLM starts-up.\n",
                "- Run the chain with an `\"animal\"`, specifying the callbacks to use.\n",
                "\n",
                "**Answer**\n"
            ]
        },
        {
            "cell_type": "code",
            "execution_count": 86,
            "metadata": {},
            "outputs": [],
            "source": [
                "# added/edited\n",
                "from langchain_core.callbacks.base import BaseCallbackHandler\n"
            ]
        },
        {
            "cell_type": "code",
            "execution_count": 87,
            "metadata": {},
            "outputs": [
                {
                    "name": "stdout",
                    "output_type": "stream",
                    "text": [
                        "['What do wombats like to eat?']\n",
                        "gpt-3.5-turbo-instruct\n",
                        "0.7\n",
                        "\n",
                        "\n",
                        "Wombats are herbivorous and primarily eat grasses, roots, and leaves. They also consume bark, shrubs, and herbs. In captivity, they may also be fed a diet of hay, fruits, and vegetables.\n"
                    ]
                }
            ],
            "source": [
                "# Set your API Key from OpenAI\n",
                "openai_api_key = '<OPENAI_API_TOKEN>'\n",
                "\n",
                "# Complete the CallingItIn class to return the prompt, model_name, and temperature\n",
                "class CallingItIn(BaseCallbackHandler):\n",
                "    def on_llm_start(self, serialized, prompts, invocation_params, **kwargs):\n",
                "        print(prompts) \n",
                "        print(invocation_params[\"model_name\"])  \n",
                "        print(invocation_params[\"temperature\"]) \n",
                "\n",
                "llm = OpenAI(model_name=\"gpt-3.5-turbo-instruct\", streaming=True)\n",
                "prompt_template = \"What do {animal} like to eat?\"\n",
                "chain = LLMChain(llm=llm, prompt=PromptTemplate.from_template(prompt_template))\n",
                "\n",
                "# Call the model with the parameters needed by the prompt\n",
                "output = chain.run({\"animal\": \"wombats\"}, callbacks=[CallingItIn()])\n",
                "print(output)\n"
            ]
        },
        {
            "cell_type": "markdown",
            "metadata": {},
            "source": [
                "### Real-time performance monitoring\n",
                "\n",
                "Real-time performance monitoring can also be implemented using\n",
                "`BaseCallbackHandler`. The callback handler can monitor the model's\n",
                "token generation in real-time and log the time taken to generate each\n",
                "token in a performance analysis.\n",
                "\n",
                "All of the classes you'll need to complete this exercise have already\n",
                "been imported for you, including `BaseCallbackHandler` and the `time`\n",
                "module. If you wish to use a Hugging Face model instead, you'll need to\n",
                "import those classes.\n",
                "\n",
                "**Instructions**\n",
                "\n",
                "- Assign your OpenAI API key to `openai_api_key`.\n",
                "- Complete the `PerformanceMonitoringCallback` class so that the `token`\n",
                "  and the time it was generated at are printed with the creation of each\n",
                "  new token; use `time.time()` for returning the time.\n",
                "- Run the chain (no user inputs this time), specifying the callbacks to\n",
                "  use.\n",
                "\n",
                "**Answer**\n"
            ]
        },
        {
            "cell_type": "code",
            "execution_count": 90,
            "metadata": {},
            "outputs": [],
            "source": [
                "# added/edited\n",
                "import time"
            ]
        },
        {
            "cell_type": "code",
            "execution_count": 91,
            "metadata": {},
            "outputs": [
                {
                    "name": "stdout",
                    "output_type": "stream",
                    "text": [
                        "Token: '\\n\\n' generated at time: 1714677467.4215631\n",
                        "Token: 'Photos' generated at time: 1714677467.4623394\n",
                        "Token: 'ynthesis' generated at time: 1714677467.463246\n",
                        "Token: ' is' generated at time: 1714677467.5521364\n",
                        "Token: ' the' generated at time: 1714677467.552962\n",
                        "Token: ' process' generated at time: 1714677467.5535815\n",
                        "Token: ' by' generated at time: 1714677467.615935\n",
                        "Token: ' which' generated at time: 1714677467.616395\n",
                        "Token: ' plants, algae,' generated at time: 1714677467.6166458\n",
                        "Token: ' and' generated at time: 1714677467.653922\n",
                        "Token: ' some' generated at time: 1714677467.6550357\n",
                        "Token: ' bacteria' generated at time: 1714677467.6565413\n",
                        "Token: ' convert light' generated at time: 1714677467.7305813\n",
                        "Token: ' energy' generated at time: 1714677467.7316213\n",
                        "Token: ' from' generated at time: 1714677467.7322743\n",
                        "Token: ' the' generated at time: 1714677467.7687154\n",
                        "Token: ' sun' generated at time: 1714677467.7690895\n",
                        "Token: ' into chemical energy' generated at time: 1714677467.7693138\n",
                        "Token: ' in' generated at time: 1714677467.8057675\n",
                        "Token: ' the' generated at time: 1714677467.80615\n",
                        "Token: ' form' generated at time: 1714677467.8065176\n",
                        "Token: ' of' generated at time: 1714677467.8535304\n",
                        "Token: ' glucose' generated at time: 1714677467.8539374\n",
                        "Token: '.' generated at time: 1714677467.854229\n",
                        "Token: ' This' generated at time: 1714677467.891383\n",
                        "Token: ' process' generated at time: 1714677467.892224\n",
                        "Token: ' takes' generated at time: 1714677467.8928058\n",
                        "Token: ' place' generated at time: 1714677467.9507134\n",
                        "Token: ' in' generated at time: 1714677467.9510531\n",
                        "Token: ' the' generated at time: 1714677467.951279\n",
                        "Token: ' chlor' generated at time: 1714677467.9931571\n",
                        "Token: 'oplast' generated at time: 1714677467.9933767\n",
                        "Token: 's' generated at time: 1714677467.993547\n",
                        "Token: ' of' generated at time: 1714677468.0663338\n",
                        "Token: ' plant' generated at time: 1714677468.066577\n",
                        "Token: ' cells' generated at time: 1714677468.0667694\n",
                        "Token: '.\\n\\n' generated at time: 1714677468.1266491\n",
                        "Token: '1.' generated at time: 1714677468.127142\n",
                        "Token: ' Absorption of' generated at time: 1714677468.1274607\n",
                        "Token: ' Light' generated at time: 1714677468.1590548\n",
                        "Token: ' Energy' generated at time: 1714677468.1596324\n",
                        "Token: ':' generated at time: 1714677468.160088\n",
                        "Token: ' The' generated at time: 1714677468.2385063\n",
                        "Token: ' first' generated at time: 1714677468.2390752\n",
                        "Token: ' step' generated at time: 1714677468.2393322\n",
                        "Token: ' in' generated at time: 1714677468.2954197\n",
                        "Token: ' photos' generated at time: 1714677468.29584\n",
                        "Token: 'ynthesis' generated at time: 1714677468.2960951\n",
                        "Token: ' is the absorption of' generated at time: 1714677468.340493\n",
                        "Token: ' light' generated at time: 1714677468.3410137\n",
                        "Token: ' energy' generated at time: 1714677468.341308\n",
                        "Token: ' by' generated at time: 1714677468.3816586\n",
                        "Token: ' pig' generated at time: 1714677468.382028\n",
                        "Token: 'ments' generated at time: 1714677468.3824008\n",
                        "Token: ',' generated at time: 1714677468.4226294\n",
                        "Token: ' such' generated at time: 1714677468.4230528\n",
                        "Token: ' as' generated at time: 1714677468.4236438\n",
                        "Token: ' chlor' generated at time: 1714677468.4632769\n",
                        "Token: 'oph' generated at time: 1714677468.4635725\n",
                        "Token: 'yll' generated at time: 1714677468.4638267\n",
                        "Token: ',' generated at time: 1714677468.5463552\n",
                        "Token: ' found' generated at time: 1714677468.5468817\n",
                        "Token: ' in' generated at time: 1714677468.5472398\n",
                        "Token: ' the' generated at time: 1714677468.5895414\n",
                        "Token: ' chlor' generated at time: 1714677468.590245\n",
                        "Token: 'oplast' generated at time: 1714677468.59081\n",
                        "Token: 's' generated at time: 1714677468.6452248\n",
                        "Token: '.' generated at time: 1714677468.6456628\n",
                        "Token: ' These' generated at time: 1714677468.6460364\n",
                        "Token: ' pig' generated at time: 1714677468.6762679\n",
                        "Token: 'ments' generated at time: 1714677468.67668\n",
                        "Token: ' are' generated at time: 1714677468.6770117\n",
                        "Token: ' responsible' generated at time: 1714677468.7355044\n",
                        "Token: ' for' generated at time: 1714677468.7358298\n",
                        "Token: ' capturing' generated at time: 1714677468.7361007\n",
                        "Token: ' the' generated at time: 1714677468.7973878\n",
                        "Token: ' energy' generated at time: 1714677468.7976732\n",
                        "Token: ' from' generated at time: 1714677468.7978165\n",
                        "Token: ' sunlight' generated at time: 1714677468.840853\n",
                        "Token: '.\\n\\n' generated at time: 1714677468.8411536\n",
                        "Token: '2.' generated at time: 1714677468.8413868\n",
                        "Token: ' Conversion of' generated at time: 1714677468.9523811\n",
                        "Token: ' Light' generated at time: 1714677468.9527123\n",
                        "Token: ' Energy' generated at time: 1714677468.9529629\n",
                        "Token: ' to' generated at time: 1714677468.9972305\n",
                        "Token: ' Chemical' generated at time: 1714677468.9977517\n",
                        "Token: ' Energy: The absorbed light' generated at time: 1714677468.998128\n",
                        "Token: ' energy' generated at time: 1714677469.0443282\n",
                        "Token: ' is' generated at time: 1714677469.045086\n",
                        "Token: ' then' generated at time: 1714677469.0455806\n",
                        "Token: ' converted' generated at time: 1714677469.083122\n",
                        "Token: ' into' generated at time: 1714677469.0834324\n",
                        "Token: ' chemical' generated at time: 1714677469.0836535\n",
                        "Token: ' energy' generated at time: 1714677469.1352823\n",
                        "Token: ' in' generated at time: 1714677469.135792\n",
                        "Token: ' the' generated at time: 1714677469.1361427\n",
                        "Token: ' form' generated at time: 1714677469.2186415\n",
                        "Token: ' of' generated at time: 1714677469.2189875\n",
                        "Token: ' ATP' generated at time: 1714677469.2192283\n",
                        "Token: ' (' generated at time: 1714677469.3268788\n",
                        "Token: 'adenosine tri' generated at time: 1714677469.327942\n",
                        "Token: 'ph' generated at time: 1714677469.328677\n",
                        "Token: 'osphate' generated at time: 1714677469.368732\n",
                        "Token: ')' generated at time: 1714677469.3695483\n",
                        "Token: ' and NADPH (' generated at time: 1714677469.3701634\n",
                        "Token: 'nic' generated at time: 1714677469.4086986\n",
                        "Token: 'ot' generated at time: 1714677469.4094865\n",
                        "Token: 'in' generated at time: 1714677469.410131\n",
                        "Token: 'amide' generated at time: 1714677469.518351\n",
                        "Token: ' aden' generated at time: 1714677469.5191908\n",
                        "Token: 'ine' generated at time: 1714677469.519699\n",
                        "Token: ' din' generated at time: 1714677469.5754929\n",
                        "Token: 'ucle' generated at time: 1714677469.5762258\n",
                        "Token: 'otide' generated at time: 1714677469.5765383\n",
                        "Token: ' phosphate). These molecules' generated at time: 1714677469.622379\n",
                        "Token: ' are' generated at time: 1714677469.6233025\n",
                        "Token: ' used' generated at time: 1714677469.6238928\n",
                        "Token: ' to power the' generated at time: 1714677469.6816838\n",
                        "Token: ' next' generated at time: 1714677469.6826506\n",
                        "Token: ' stage' generated at time: 1714677469.6832964\n",
                        "Token: ' of' generated at time: 1714677469.7263281\n",
                        "Token: ' photos' generated at time: 1714677469.7271798\n",
                        "Token: 'ynthesis' generated at time: 1714677469.7278242\n",
                        "Token: '.\\n\\n' generated at time: 1714677469.7696328\n",
                        "Token: '3' generated at time: 1714677469.7704072\n",
                        "Token: '.' generated at time: 1714677469.770808\n",
                        "Token: ' Split' generated at time: 1714677469.8625524\n",
                        "Token: 'ting' generated at time: 1714677469.8632898\n",
                        "Token: ' of' generated at time: 1714677469.863633\n",
                        "Token: ' Water' generated at time: 1714677469.933564\n",
                        "Token: ':' generated at time: 1714677469.933947\n",
                        "Token: ' Water molecules' generated at time: 1714677469.9345484\n",
                        "Token: ' are then' generated at time: 1714677470.0126958\n",
                        "Token: ' split into hydrogen ions' generated at time: 1714677470.0133486\n",
                        "Token: ' (' generated at time: 1714677470.013708\n",
                        "Token: 'H' generated at time: 1714677470.0704455\n",
                        "Token: '+)' generated at time: 1714677470.071393\n",
                        "Token: ' and' generated at time: 1714677470.0720444\n",
                        "Token: ' oxygen' generated at time: 1714677470.1182117\n",
                        "Token: ' (' generated at time: 1714677470.1186955\n",
                        "Token: 'O2)' generated at time: 1714677470.1190715\n",
                        "Token: ' through' generated at time: 1714677470.1211567\n",
                        "Token: ' a' generated at time: 1714677470.1681283\n",
                        "Token: ' process' generated at time: 1714677470.1690385\n",
                        "Token: ' called' generated at time: 1714677470.2263694\n",
                        "Token: ' phot' generated at time: 1714677470.2271168\n",
                        "Token: 'ol' generated at time: 1714677470.2275746\n",
                        "Token: 'ysis' generated at time: 1714677470.2280107\n",
                        "Token: '.' generated at time: 1714677470.2690876\n",
                        "Token: ' This' generated at time: 1714677470.2695634\n",
                        "Token: ' reaction' generated at time: 1714677470.3153012\n",
                        "Token: ' is' generated at time: 1714677470.3163724\n",
                        "Token: ' facilitated' generated at time: 1714677470.3166423\n",
                        "Token: ' by' generated at time: 1714677470.3582292\n",
                        "Token: ' the' generated at time: 1714677470.3589253\n",
                        "Token: ' energy' generated at time: 1714677470.359513\n",
                        "Token: ' from' generated at time: 1714677470.4047816\n",
                        "Token: ' ATP' generated at time: 1714677470.4053454\n",
                        "Token: ' and' generated at time: 1714677470.4058332\n",
                        "Token: ' N' generated at time: 1714677470.460285\n",
                        "Token: 'AD' generated at time: 1714677470.4609747\n",
                        "Token: 'PH' generated at time: 1714677470.4614377\n",
                        "Token: '.\\n\\n' generated at time: 1714677470.5036466\n",
                        "Token: '4' generated at time: 1714677470.5042548\n",
                        "Token: '.' generated at time: 1714677470.504599\n",
                        "Token: ' Formation' generated at time: 1714677470.504926\n",
                        "Token: ' of' generated at time: 1714677470.5540752\n",
                        "Token: ' ATP' generated at time: 1714677470.5550466\n",
                        "Token: ' and' generated at time: 1714677470.5553036\n",
                        "Token: ' N' generated at time: 1714677470.5938225\n",
                        "Token: 'AD' generated at time: 1714677470.5947087\n",
                        "Token: 'PH' generated at time: 1714677470.6398103\n",
                        "Token: ':' generated at time: 1714677470.6407475\n",
                        "Token: ' The' generated at time: 1714677470.6413734\n",
                        "Token: ' hydrogen' generated at time: 1714677470.7811992\n",
                        "Token: ' ions' generated at time: 1714677470.7821898\n",
                        "Token: ' and' generated at time: 1714677470.7825758\n",
                        "Token: ' electrons' generated at time: 1714677470.8467605\n",
                        "Token: ' from the split water molecules' generated at time: 1714677470.847029\n",
                        "Token: ' are used' generated at time: 1714677470.847196\n",
                        "Token: ' to' generated at time: 1714677470.8937109\n",
                        "Token: ' form ATP and' generated at time: 1714677470.8939672\n",
                        "Token: ' N' generated at time: 1714677470.8941338\n",
                        "Token: 'AD' generated at time: 1714677470.9647818\n",
                        "Token: 'PH' generated at time: 1714677470.9650114\n",
                        "Token: ',' generated at time: 1714677470.9651773\n",
                        "Token: ' which' generated at time: 1714677471.0110133\n",
                        "Token: ' are essential' generated at time: 1714677471.0112865\n",
                        "Token: ' for' generated at time: 1714677471.0114818\n",
                        "Token: ' the' generated at time: 1714677471.0707283\n",
                        "Token: ' next' generated at time: 1714677471.0713618\n",
                        "Token: ' stage' generated at time: 1714677471.0717888\n",
                        "Token: ' of' generated at time: 1714677471.1097705\n",
                        "Token: ' photos' generated at time: 1714677471.1105978\n",
                        "Token: 'ynthesis' generated at time: 1714677471.1112487\n",
                        "Token: '.\\n\\n' generated at time: 1714677471.2016172\n",
                        "Token: '5' generated at time: 1714677471.202479\n",
                        "Token: '.' generated at time: 1714677471.2031422\n",
                        "Token: ' Carbon' generated at time: 1714677471.2529967\n",
                        "Token: ' D' generated at time: 1714677471.2537415\n",
                        "Token: 'ioxide' generated at time: 1714677471.2541962\n",
                        "Token: ' Fixation:' generated at time: 1714677471.308197\n",
                        "Token: ' In' generated at time: 1714677471.3090332\n",
                        "Token: ' this' generated at time: 1714677471.3096387\n",
                        "Token: ' stage' generated at time: 1714677471.3395545\n",
                        "Token: ',' generated at time: 1714677471.3403895\n",
                        "Token: ' carbon' generated at time: 1714677471.3410096\n",
                        "Token: ' dioxide' generated at time: 1714677471.3414645\n",
                        "Token: ' (' generated at time: 1714677471.341819\n",
                        "Final Output: \n",
                        "\n",
                        "Photosynthesis is the process by which plants, algae, and some bacteria convert light energy from the sun into chemical energy in the form of glucose. This process takes place in the chloroplasts of plant cells.\n",
                        "\n",
                        "1. Absorption of Light Energy: The first step in photosynthesis is the absorption of light energy by pigments, such as chlorophyll, found in the chloroplasts. These pigments are responsible for capturing the energy from sunlight.\n",
                        "\n",
                        "2. Conversion of Light Energy to Chemical Energy: The absorbed light energy is then converted into chemical energy in the form of ATP (adenosine triphosphate) and NADPH (nicotinamide adenine dinucleotide phosphate). These molecules are used to power the next stage of photosynthesis.\n",
                        "\n",
                        "3. Splitting of Water: Water molecules are then split into hydrogen ions (H+) and oxygen (O2) through a process called photolysis. This reaction is facilitated by the energy from ATP and NADPH.\n",
                        "\n",
                        "4. Formation of ATP and NADPH: The hydrogen ions and electrons from the split water molecules are used to form ATP and NADPH, which are essential for the next stage of photosynthesis.\n",
                        "\n",
                        "5. Carbon Dioxide Fixation: In this stage, carbon dioxide (\n"
                    ]
                }
            ],
            "source": [
                "# Set your API Key from OpenAI\n",
                "openai_api_key = '<OPENAI_API_TOKEN>'\n",
                "\n",
                "# Complete the PerformanceMonitoringCallback class to return the token and time\n",
                "class PerformanceMonitoringCallback(BaseCallbackHandler):\n",
                "  def on_llm_new_token(self, token: str, **kwargs) -> None:\n",
                "    print(f\"Token: {repr(token)} generated at time: {time.time()}\")\n",
                "\n",
                "llm = OpenAI(model_name=\"gpt-3.5-turbo-instruct\", temperature=0, streaming=True)\n",
                "prompt_template = \"Describe the process of photosynthesis.\"\n",
                "chain = LLMChain(llm=llm, prompt=PromptTemplate.from_template(prompt_template))\n",
                "\n",
                "# Call the chain with the callback\n",
                "output = chain.run({}, callbacks=[PerformanceMonitoringCallback()])\n",
                "print(\"Final Output:\", output)\n"
            ]
        },
        {
            "cell_type": "markdown",
            "metadata": {},
            "source": [
                "### Built-in evaluation criteria\n",
                "\n",
                "LangChain's built-in evaluation criteria means that applications can be\n",
                "quickly evaluated using consistent baselines across organizations.\n",
                "\n",
                "In this exercise, you'll use LangChain's **relevance** criterion to\n",
                "evaluate a pair of strings.\n",
                "\n",
                "All of the classes you'll need to complete this exercise have already\n",
                "been imported for you, but if you wish to use a Hugging Face model\n",
                "instead, you'll need to import those classes.\n",
                "\n",
                "**Instructions**\n",
                "\n",
                "- Assign your OpenAI API key to `openai_api_key`.\n",
                "- Load the built-in `\"relevance\"` criteria.\n",
                "- Use the `evaluator` to evaluate the relevance of the `prediction` to\n",
                "  the `input` question.\n",
                "\n",
                "**Answer**\n"
            ]
        },
        {
            "cell_type": "code",
            "execution_count": 93,
            "metadata": {},
            "outputs": [],
            "source": [
                "# added/edited\n",
                "from langchain.evaluation.loading import load_evaluator"
            ]
        },
        {
            "cell_type": "code",
            "execution_count": 95,
            "metadata": {},
            "outputs": [
                {
                    "name": "stdout",
                    "output_type": "stream",
                    "text": [
                        "{'reasoning': '- The submission is \"42\".\\n- The quote \"What is the answer to the ultimate question of life, the universe, and everything?\" is referencing a real quote from the text \"The Hitchhiker\\'s Guide to the Galaxy\" by Douglas Adams.\\n- In the book, the answer to the ultimate question of life, the universe, and everything is indeed \"42\".\\n- Therefore, the submission meets the criteria of relevance.', 'value': 'Y', 'score': 1}\n"
                    ]
                }
            ],
            "source": [
                "# Set your API Key from OpenAI\n",
                "openai_api_key = '<OPENAI_API_TOKEN>'\n",
                "\n",
                "# Load evaluator, assign it to criteria\n",
                "evaluator = load_evaluator(\"criteria\", criteria=\"relevance\", llm=ChatOpenAI())\n",
                "\n",
                "# Evaluate the input and prediction\n",
                "eval_result = evaluator.evaluate_strings(\n",
                "    prediction=\"42\",\n",
                "    input=\"What is the answer to the ultimate question of life, the universe, and everything?\",\n",
                ")\n",
                "\n",
                "print(eval_result)\n"
            ]
        },
        {
            "cell_type": "markdown",
            "metadata": {},
            "source": [
                "### Custom evaluation criteria\n",
                "\n",
                "LangChain's built-in evaluation criteria won't always be the most\n",
                "reliable way of evaluating your applications performance. In many cases,\n",
                "you'll want to tie its performance into business objectives and\n",
                "constraints that particular to your specific use case. For these cases,\n",
                "you can design your own evaluation criteria.\n",
                "\n",
                "Custom evaluation criteria are a set of questions for an LLM to consider\n",
                "when evaluating an input and prediction. In this exercise, you'll design\n",
                "and use custom criteria for determining whether an investment\n",
                "opportunity is worthwhile or not.\n",
                "\n",
                "All of the classes you'll need to complete this exercise have already\n",
                "been imported for you, but if you wish to use a Hugging Face model\n",
                "instead, you'll need to import those classes.\n",
                "\n",
                "**Instructions**\n",
                "\n",
                "- Assign your OpenAI API key to `openai_api_key`.\n",
                "- Add a `\"scalability\"` criterion to `custom_criteria` that uses the\n",
                "  following question for evaluation:\n",
                "  `\"Does the suggestion address the startup's scalability and growth potential?\"`.\n",
                "- Criteria an evaluator using the criteria specified in\n",
                "  `custom_criteria`.\n",
                "- Use the `evaluator` to evaluate the `input` question and `prediction`\n",
                "  using the custom criteria.\n",
                "\n",
                "**Answer**\n"
            ]
        },
        {
            "cell_type": "code",
            "execution_count": 97,
            "metadata": {},
            "outputs": [
                {
                    "name": "stdout",
                    "output_type": "stream",
                    "text": [
                        "{'reasoning': '1. market_potential: The submission simply states \"No, that is ridiculous\" without providing any assessment of the market potential of the startup focused on flying cars. Therefore, this criterion is not met.\\n2. innovation: The submission does not mention anything about the startup\\'s innovation or uniqueness in its sector. This criterion is not met.\\n3. risk_assessment: The submission does not provide a thorough analysis of potential risks and mitigation strategies associated with investing in a startup focused on flying cars. This criterion is not met.\\n4. scalability: The submission does not address the startup\\'s scalability and growth potential. This criterion is not met.', 'value': 'N', 'score': 0}\n"
                    ]
                }
            ],
            "source": [
                "# Set your API Key from OpenAI\n",
                "openai_api_key = '<OPENAI_API_TOKEN>'\n",
                "\n",
                "# Add a scalability criterion to custom_criteria\n",
                "custom_criteria = {\n",
                "    \"market_potential\": \"Does the suggestion effectively assess the market potential of the startup?\",\n",
                "    \"innovation\": \"Does the suggestion highlight the startup's innovation and uniqueness in its sector?\",\n",
                "    \"risk_assessment\": \"Does the suggestion provide a thorough analysis of potential risks and mitigation strategies?\",\n",
                "    \"scalability\": \"Does the suggestion address the startup's scalability and growth potential?\"\n",
                "}\n",
                "\n",
                "# Criteria an evaluator from custom_criteria\n",
                "evaluator = load_evaluator(\"criteria\", criteria=custom_criteria, llm=ChatOpenAI())\n",
                "\n",
                "# Evaluate the input and prediction\n",
                "eval_result = evaluator.evaluate_strings(\n",
                "    input=\"Should I invest in a startup focused on flying cars? The CEO won't take no for an answer from anyone.\",\n",
                "    prediction=\"No, that is ridiculous.\")\n",
                "\n",
                "print(eval_result)\n"
            ]
        },
        {
            "cell_type": "markdown",
            "metadata": {},
            "source": [
                "### Evaluation chains\n",
                "\n",
                "This final exercise of the course combines many of the concepts you've\n",
                "seen throughout the course. The Attention is All You Needs PDF has been\n",
                "loaded and split into chunks, which have been assigned to `docs`.\n",
                "\n",
                "You'll be evaluating model responses from a RAG workflow against some\n",
                "ground truth answers, stored in `question_set`, which has been\n",
                "pre-loaded and printed for you. Your job is to complete the evaluation\n",
                "portion of the script to compare the responses from the RAG workflow\n",
                "with these ground truth responses.\n",
                "\n",
                "All of the classes you'll need to complete this exercise have already\n",
                "been imported for you.\n",
                "\n",
                "**Instructions**\n",
                "\n",
                "- Assign your OpenAI API key to `openai_api_key`.\n",
                "- Generate the model responses using the `RetrievalQA` chain, defined as\n",
                "  `qa`, and `question_set`\n",
                "- Define the evaluation chain using the `llm` provided.\n",
                "- Evaluate the ground truth answers in the `question_set` against the\n",
                "  answers that are returned by the model.\n",
                "\n",
                "**Answer**\n"
            ]
        },
        {
            "cell_type": "code",
            "execution_count": 102,
            "metadata": {},
            "outputs": [],
            "source": [
                "# added/edited\n",
                "from langchain.evaluation.qa.eval_chain import QAEvalChain\n",
                "question_set = [{'question': 'What is the primary architecture presented in the document?', 'answer': 'The Transformer.'}, {'question': 'According to the document, is the Transformer faster or slower than architectures based on recurrent or convolutional layers?', 'answer': 'The Transformer is faster.'}, {'question': 'Who is the primary author of the document?', 'answer': 'Ashish Vaswani.'}]\n"
            ]
        },
        {
            "cell_type": "code",
            "execution_count": 103,
            "metadata": {},
            "outputs": [
                {
                    "name": "stdout",
                    "output_type": "stream",
                    "text": [
                        "Question 1: What is the primary architecture presented in the document?\n",
                        "Expected Answer: The Transformer.\n",
                        "Model Prediction: \n",
                        "The primary architecture presented in the document is the Transformer, which uses stacked self-attention and point-wise, fully connected layers for both the encoder and decoder.\n",
                        "\n",
                        "Question 2: According to the document, is the Transformer faster or slower than architectures based on recurrent or convolutional layers?\n",
                        "Expected Answer: The Transformer is faster.\n",
                        "Model Prediction:  The Transformer is faster.\n",
                        "\n",
                        "Question 3: Who is the primary author of the document?\n",
                        "Expected Answer: Ashish Vaswani.\n",
                        "Model Prediction:  I don't know.\n",
                        "\n",
                        "[{'results': ' CORRECT'}, {'results': ' CORRECT'}, {'results': ' INCORRECT'}]\n"
                    ]
                }
            ],
            "source": [
                "# Set your API Key from OpenAI\n",
                "openai_api_key = '<OPENAI_API_TOKEN>'\n",
                "\n",
                "embedding = OpenAIEmbeddings()\n",
                "docstorage = Chroma.from_documents(docs, embedding)\n",
                "llm = OpenAI(model_name=\"gpt-3.5-turbo-instruct\")\n",
                "\n",
                "qa = RetrievalQA.from_chain_type(llm=llm, chain_type=\"stuff\", retriever=docstorage.as_retriever(), input_key=\"question\")\n",
                "\n",
                "# Generate the model responses using the RetrievalQA chain and question_set\n",
                "predictions = qa.apply(question_set)\n",
                "\n",
                "# Define the evaluation chain\n",
                "eval_chain = QAEvalChain.from_llm(llm)\n",
                "\n",
                "# Evaluate the ground truth against the answers that are returned\n",
                "results = eval_chain.evaluate(question_set,\n",
                "                              predictions,\n",
                "                              question_key=\"question\",\n",
                "                              prediction_key=\"result\",\n",
                "                              answer_key='answer')\n",
                "\n",
                "for i, q in enumerate(question_set):\n",
                "    print(f\"Question {i+1}: {q['question']}\")\n",
                "    print(f\"Expected Answer: {q['answer']}\")\n",
                "    print(f\"Model Prediction: {predictions[i]['result']}\\n\")\n",
                "    \n",
                "print(results)\n"
            ]
        }
    ],
    "metadata": {
        "anaconda-cloud": "",
        "kernelspec": {
            "display_name": "Python 3",
            "language": "python",
            "name": "python3"
        },
        "language_info": {
            "codemirror_mode": {
                "name": "ipython",
                "version": 3
            },
            "file_extension": ".py",
            "mimetype": "text/x-python",
            "name": "python",
            "nbconvert_exporter": "python",
            "pygments_lexer": "ipython3",
            "version": "3.10.14"
        }
    },
    "nbformat": 4,
    "nbformat_minor": 1
}
